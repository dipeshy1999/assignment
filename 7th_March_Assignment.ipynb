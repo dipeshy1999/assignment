{
 "cells": [
  {
   "cell_type": "markdown",
   "id": "02853bf2-35cb-469f-b34e-7b99f5b5caca",
   "metadata": {},
   "source": [
    "# Q1"
   ]
  },
  {
   "cell_type": "code",
   "execution_count": null,
   "id": "65825f69-af4d-4181-85c4-f78020bfd743",
   "metadata": {},
   "outputs": [],
   "source": [
    "# (i) Mean\n",
    "# (ii) Mode\n",
    "# (iii) Median"
   ]
  },
  {
   "cell_type": "markdown",
   "id": "ac8cac22-4a89-421c-b4a0-23edd7621e50",
   "metadata": {},
   "source": [
    "# Q2"
   ]
  },
  {
   "cell_type": "code",
   "execution_count": null,
   "id": "1e4012fd-99a9-4cdd-b176-3b8f74f124f2",
   "metadata": {},
   "outputs": [],
   "source": [
    "# The mean is the average where the sum of all the numbers is divided by the total number of numbers, whereas the median is the middle \n",
    "# value in the list of given numbers numerically ordered from smallest to biggest and mode is the value of the number which occurs most often \n",
    "# in the list."
   ]
  },
  {
   "cell_type": "markdown",
   "id": "cc0ebd51-d4d7-422a-94c0-e752f0888c8c",
   "metadata": {},
   "source": [
    "# Q3"
   ]
  },
  {
   "cell_type": "code",
   "execution_count": 3,
   "id": "e78414a9-0c70-4688-8cb6-71dc0b6da34c",
   "metadata": {},
   "outputs": [],
   "source": [
    "import numpy as np\n",
    "import pandas as pd\n",
    "data = pd.DataFrame([178,177,176,177,178.2,178,175,179,180,175,178.9,176.2,177,172.5,178,176.5])"
   ]
  },
  {
   "cell_type": "code",
   "execution_count": 4,
   "id": "af4918c2-d7b5-434a-b199-c8d74882fdf6",
   "metadata": {},
   "outputs": [
    {
     "data": {
      "text/plain": [
       "0    177.01875\n",
       "dtype: float64"
      ]
     },
     "execution_count": 4,
     "metadata": {},
     "output_type": "execute_result"
    }
   ],
   "source": [
    "data.mean()"
   ]
  },
  {
   "cell_type": "code",
   "execution_count": 5,
   "id": "1cf1a287-e91a-4df3-85f9-06eaaad7217b",
   "metadata": {},
   "outputs": [
    {
     "data": {
      "text/html": [
       "<div>\n",
       "<style scoped>\n",
       "    .dataframe tbody tr th:only-of-type {\n",
       "        vertical-align: middle;\n",
       "    }\n",
       "\n",
       "    .dataframe tbody tr th {\n",
       "        vertical-align: top;\n",
       "    }\n",
       "\n",
       "    .dataframe thead th {\n",
       "        text-align: right;\n",
       "    }\n",
       "</style>\n",
       "<table border=\"1\" class=\"dataframe\">\n",
       "  <thead>\n",
       "    <tr style=\"text-align: right;\">\n",
       "      <th></th>\n",
       "      <th>0</th>\n",
       "    </tr>\n",
       "  </thead>\n",
       "  <tbody>\n",
       "    <tr>\n",
       "      <th>0</th>\n",
       "      <td>177.0</td>\n",
       "    </tr>\n",
       "    <tr>\n",
       "      <th>1</th>\n",
       "      <td>178.0</td>\n",
       "    </tr>\n",
       "  </tbody>\n",
       "</table>\n",
       "</div>"
      ],
      "text/plain": [
       "       0\n",
       "0  177.0\n",
       "1  178.0"
      ]
     },
     "execution_count": 5,
     "metadata": {},
     "output_type": "execute_result"
    }
   ],
   "source": [
    "data.mode()"
   ]
  },
  {
   "cell_type": "code",
   "execution_count": 6,
   "id": "dc4781bb-8d24-4f11-bc1c-991a31e83024",
   "metadata": {},
   "outputs": [
    {
     "data": {
      "text/plain": [
       "0    177.0\n",
       "dtype: float64"
      ]
     },
     "execution_count": 6,
     "metadata": {},
     "output_type": "execute_result"
    }
   ],
   "source": [
    "data.median()"
   ]
  },
  {
   "cell_type": "markdown",
   "id": "99889524-add9-4a8e-854b-b044a245c224",
   "metadata": {},
   "source": [
    "# Q4"
   ]
  },
  {
   "cell_type": "code",
   "execution_count": 7,
   "id": "1248947c-aa1f-48b0-a1a4-97ffb0475c07",
   "metadata": {},
   "outputs": [
    {
     "data": {
      "text/plain": [
       "0    1.847239\n",
       "dtype: float64"
      ]
     },
     "execution_count": 7,
     "metadata": {},
     "output_type": "execute_result"
    }
   ],
   "source": [
    "data.std()"
   ]
  },
  {
   "cell_type": "markdown",
   "id": "b9f4c0e8-0dbf-420d-99d9-618e08e95d7c",
   "metadata": {},
   "source": [
    "# Q5"
   ]
  },
  {
   "cell_type": "code",
   "execution_count": null,
   "id": "77376ab2-b845-4bc8-9e3e-461fa249b5ab",
   "metadata": {},
   "outputs": [],
   "source": [
    "# 1.) Range - Highest Value - Lowest Value\n",
    "# 2.) Variance refers to a statistical measurement of the spread between numbers in a data set. More specifically, \n",
    "# variance measures how far each number in the set is from the mean (average), and thus from every other number in the set. \n",
    "# Variance is often depicted by this symbol: σ2. It is used by both analysts and traders to determine volatility and market security.\n",
    "# 3.) Standard Deviation - The standard deviation is the average amount of variability in your data set.\n",
    "# It tells you, on average, how far each score lies from the mean."
   ]
  },
  {
   "cell_type": "markdown",
   "id": "0c37c171-d666-4313-8516-5fd656f63172",
   "metadata": {},
   "source": [
    "# Q6"
   ]
  },
  {
   "cell_type": "code",
   "execution_count": null,
   "id": "19f5a91d-73e9-426e-9b90-94be7230ce5c",
   "metadata": {},
   "outputs": [],
   "source": [
    "# Venn diagram depicts the realtionship between different sets. Like how many elements are common in them,\n",
    "# total how many elements are there etc."
   ]
  },
  {
   "cell_type": "markdown",
   "id": "12c252dc-c89e-4206-880e-f55091279f2c",
   "metadata": {},
   "source": [
    "# Q7"
   ]
  },
  {
   "cell_type": "code",
   "execution_count": 12,
   "id": "27ac09b5-06d5-4031-ae62-1abb35edcf70",
   "metadata": {},
   "outputs": [],
   "source": [
    "# A = (2,3,4,5,6,7)\n",
    "# B = (0,2,6,8,10)"
   ]
  },
  {
   "cell_type": "markdown",
   "id": "f173d807-7036-4ada-8baa-d3eaf1be2527",
   "metadata": {},
   "source": [
    "# (i)"
   ]
  },
  {
   "cell_type": "code",
   "execution_count": 13,
   "id": "b22e0a91-55e4-4639-93d5-9d8ec9f5d795",
   "metadata": {},
   "outputs": [],
   "source": [
    "A = {2,3,4,5,6,7} \n",
    "B = {0,2,6,8,10}"
   ]
  },
  {
   "cell_type": "code",
   "execution_count": 14,
   "id": "46b46588-4cfa-48b9-9e4e-6e1c63f70578",
   "metadata": {},
   "outputs": [
    {
     "data": {
      "text/plain": [
       "{2, 6}"
      ]
     },
     "execution_count": 14,
     "metadata": {},
     "output_type": "execute_result"
    }
   ],
   "source": [
    "A.intersection(B)"
   ]
  },
  {
   "cell_type": "markdown",
   "id": "5870afeb-e52a-4199-8c2f-6bfb9461f24a",
   "metadata": {},
   "source": [
    "# (ii)"
   ]
  },
  {
   "cell_type": "code",
   "execution_count": 15,
   "id": "d29d3640-9f56-451f-a31c-40517182ebbb",
   "metadata": {},
   "outputs": [
    {
     "data": {
      "text/plain": [
       "{0, 2, 3, 4, 5, 6, 7, 8, 10}"
      ]
     },
     "execution_count": 15,
     "metadata": {},
     "output_type": "execute_result"
    }
   ],
   "source": [
    "A.union(B)"
   ]
  },
  {
   "cell_type": "markdown",
   "id": "f790a6ab-1d94-415f-8751-c0e357a02108",
   "metadata": {},
   "source": [
    "# Q8"
   ]
  },
  {
   "cell_type": "code",
   "execution_count": null,
   "id": "598887f9-1e0e-4e47-b760-7234e4bbeb93",
   "metadata": {},
   "outputs": [],
   "source": [
    "# In probability theory and statistics, skewness is a measure of the asymmetry of the probability distribution of a real-valued random \n",
    "# variable about its mean. The skewness value can be positive, zero, negative, or undefined."
   ]
  },
  {
   "cell_type": "code",
   "execution_count": null,
   "id": "ae96093a-811a-4638-a457-849e9c20de63",
   "metadata": {},
   "outputs": [],
   "source": [
    "# Skewness is a measure of asymmetry or distortion of symmetric distribution. It measures the deviation of the given distribution of a \n",
    "# random variable from a symmetric distribution, such as normal distribution. A normal distribution is without any skewness, as it is \n",
    "# symmetrical on both sides. Hence, a curve is regarded as skewed if it is shifted towards the right or the left."
   ]
  },
  {
   "cell_type": "markdown",
   "id": "f7f68385-0d19-45d1-8189-e02cb9249ab6",
   "metadata": {},
   "source": [
    "# Q9"
   ]
  },
  {
   "cell_type": "code",
   "execution_count": null,
   "id": "36d7f204-4ad3-4b34-96fa-7ae3b225cd49",
   "metadata": {},
   "outputs": [],
   "source": [
    "# Median will be greater then Mean in right skewed."
   ]
  },
  {
   "cell_type": "markdown",
   "id": "15cd1440-b14b-415d-ab5e-c4a69f4bd22a",
   "metadata": {},
   "source": [
    "# Q10"
   ]
  },
  {
   "cell_type": "code",
   "execution_count": null,
   "id": "7ed0eecc-4c72-412a-bc76-49d95d4b2e22",
   "metadata": {},
   "outputs": [],
   "source": [
    "# Covariance                                                                          Correlation\n",
    "\n",
    "# Covariance is an indicator of the extent to                       Correlation is a statistical measure that indicates\n",
    "# which 2 random variables are dependent on                         how strongly two variables are related.\n",
    "# each other. A higher number denotes \n",
    "# higher dependency.\n",
    "\n",
    "\n",
    "\n",
    "# The value of covariance lies in the                               Correlation is limited to values between the range -1 and +1\n",
    "# range of -∞ and +∞.\n",
    "\n",
    "\n",
    "# It is not unit free.                                               It is unit free."
   ]
  },
  {
   "cell_type": "markdown",
   "id": "b6d06400-46b0-4a25-9938-6b900725a8a7",
   "metadata": {},
   "source": [
    "# Q11"
   ]
  },
  {
   "cell_type": "code",
   "execution_count": null,
   "id": "1c321f43-be84-4cb0-827f-8d379d8919cf",
   "metadata": {},
   "outputs": [],
   "source": [
    "# Formula -> (Sum of all values)/(Total number of observations)"
   ]
  },
  {
   "cell_type": "code",
   "execution_count": 17,
   "id": "21e04b99-630b-4943-a754-4339aab19b67",
   "metadata": {},
   "outputs": [
    {
     "data": {
      "text/plain": [
       "0    3.0\n",
       "dtype: float64"
      ]
     },
     "execution_count": 17,
     "metadata": {},
     "output_type": "execute_result"
    }
   ],
   "source": [
    "data = [1,2,3,4,5]\n",
    "df = pd.DataFrame(data)\n",
    "df.mean()"
   ]
  },
  {
   "cell_type": "markdown",
   "id": "ea1ff9d4-2cb5-4dfb-8488-ecacbcc0a813",
   "metadata": {},
   "source": [
    "# Q12"
   ]
  },
  {
   "cell_type": "code",
   "execution_count": null,
   "id": "a98b6340-2b9d-41a6-9304-29848aa84580",
   "metadata": {},
   "outputs": [],
   "source": [
    "# In a Normal Distribution MEAN = MODE = MEDIAN"
   ]
  },
  {
   "cell_type": "markdown",
   "id": "2085427d-3158-4aa2-9a76-d79efa9bee58",
   "metadata": {},
   "source": [
    "# Q13"
   ]
  },
  {
   "cell_type": "code",
   "execution_count": null,
   "id": "99cff527-12b5-4d7b-8e0b-d8766e9a0900",
   "metadata": {},
   "outputs": [],
   "source": [
    "# In covariance values can lie between -infinity to +infinity but in correlation values can lie only from -1 to +1"
   ]
  },
  {
   "cell_type": "markdown",
   "id": "ad1553b4-dc4d-4a6a-982d-dd22376da572",
   "metadata": {},
   "source": [
    "# Q14"
   ]
  },
  {
   "cell_type": "code",
   "execution_count": null,
   "id": "ca0659aa-34d2-40cf-a2ee-caf3ff09c654",
   "metadata": {},
   "outputs": [],
   "source": [
    "# Outliers can change the actual values. Outliers are the values in the set which are different from rest of the values \\\n",
    "# they can very small or they can be very large as well. So when the calulation of mean, mode =, median is some it can affect the\n",
    "# actual results upto a certain extent."
   ]
  },
  {
   "cell_type": "code",
   "execution_count": null,
   "id": "225399c4-8072-41d8-abba-c611a708b9ca",
   "metadata": {},
   "outputs": [],
   "source": []
  }
 ],
 "metadata": {
  "kernelspec": {
   "display_name": "Python 3 (ipykernel)",
   "language": "python",
   "name": "python3"
  },
  "language_info": {
   "codemirror_mode": {
    "name": "ipython",
    "version": 3
   },
   "file_extension": ".py",
   "mimetype": "text/x-python",
   "name": "python",
   "nbconvert_exporter": "python",
   "pygments_lexer": "ipython3",
   "version": "3.10.8"
  }
 },
 "nbformat": 4,
 "nbformat_minor": 5
}
