{
 "cells": [
  {
   "cell_type": "markdown",
   "id": "e398e620-4a18-4d60-bb2e-d3cf44006f40",
   "metadata": {},
   "source": [
    "# Q1"
   ]
  },
  {
   "cell_type": "code",
   "execution_count": null,
   "id": "e1386dc9-0c95-49b4-805e-f28ac94feb49",
   "metadata": {},
   "outputs": [],
   "source": [
    "# A database is an organized collection of data stored and accessed electronically. Small databases can be stored on a file system, \n",
    "# while large databases are hosted on computer clusters or cloud storage."
   ]
  },
  {
   "cell_type": "code",
   "execution_count": null,
   "id": "c340eff9-0128-4ce1-a40b-5bdb44bf2f18",
   "metadata": {},
   "outputs": [],
   "source": [
    "#  SQL                                                                   NO SQL\n",
    "# RELATIONAL DATABASE MANAGEMENT SYSTEM (RDBMS)                          Non-relational or distributed database system.\n",
    "# These databases have fixed or static or predefined schema              They have a dynamic schema\n",
    "# These databases are not suited for hierarchical data storage.          These databases are best suited for hierarchical data storage.\n",
    "# These databases are best suited for complex queries                    These databases are not so good for complex queries\n",
    "# Vertically Scalable                                                    Horizontally scalable\n",
    "# Follows ACID property                                                  Follows CAP(consistency, availability, partition tolerance)"
   ]
  },
  {
   "cell_type": "markdown",
   "id": "d252e908-dc72-4069-a520-27ed1fc6ab71",
   "metadata": {},
   "source": [
    "# Q2"
   ]
  },
  {
   "cell_type": "code",
   "execution_count": null,
   "id": "2fac999b-9c7c-4ba9-8d3f-8a7f5389e9cb",
   "metadata": {},
   "outputs": [],
   "source": [
    "# DDL is data definiton language "
   ]
  },
  {
   "cell_type": "code",
   "execution_count": null,
   "id": "4dda31e0-71c9-4904-931c-3d4f69ddd0ab",
   "metadata": {},
   "outputs": [],
   "source": [
    "# CREATE TABLE Persons ( PersonID int,LastName varchar(255),FirstName varchar(255),Address varchar(255),City varchar(255));"
   ]
  },
  {
   "cell_type": "code",
   "execution_count": null,
   "id": "0db12c6c-a8c0-401f-8760-465bdda56110",
   "metadata": {},
   "outputs": [],
   "source": [
    "# DROP TABLE Persons"
   ]
  },
  {
   "cell_type": "code",
   "execution_count": null,
   "id": "8bf08d7e-32b8-43e3-8ebd-69e62a85a6a9",
   "metadata": {},
   "outputs": [],
   "source": [
    "# ALTER TABLE Customers ADD Email varchar(255);"
   ]
  },
  {
   "cell_type": "code",
   "execution_count": null,
   "id": "f4244445-2b7d-441c-9a64-9af566800a16",
   "metadata": {},
   "outputs": [],
   "source": [
    "# Truncate ccommand deletes the data inside thr table bot the table\n",
    "# TRUNCATE Persons"
   ]
  },
  {
   "cell_type": "markdown",
   "id": "2e9362af-bd53-46d1-b7fb-d54b535a2ba2",
   "metadata": {},
   "source": [
    "# Q3"
   ]
  },
  {
   "cell_type": "code",
   "execution_count": null,
   "id": "ab06a2b4-8843-40e0-ad09-1fc8ec577abb",
   "metadata": {},
   "outputs": [],
   "source": [
    "# DML is data manipulation language"
   ]
  },
  {
   "cell_type": "code",
   "execution_count": null,
   "id": "8596a090-a74f-4eb5-9e50-670904fd5f5a",
   "metadata": {},
   "outputs": [],
   "source": [
    "# INSERT INTO Customers (CustomerName, ContactName, Address, City, PostalCode, Country)\n",
    "# VALUES ('Cardinal', 'Tom B. Erichsen', 'Skagen 21', 'Stavanger', '4006', 'Norway');"
   ]
  },
  {
   "cell_type": "code",
   "execution_count": null,
   "id": "ad68a928-c7a1-4ac1-925a-eff16728848d",
   "metadata": {},
   "outputs": [],
   "source": [
    "# UPDATE Customers\n",
    "# SET ContactName = 'Alfred Schmidt', City= 'Frankfurt'\n",
    "# WHERE CustomerID = 1;"
   ]
  },
  {
   "cell_type": "code",
   "execution_count": null,
   "id": "8759ad18-f51a-4221-ac9b-7cc1cde04079",
   "metadata": {},
   "outputs": [],
   "source": [
    "# DELETE FROM Customers WHERE CustomerName='Alfreds Futterkiste';"
   ]
  },
  {
   "cell_type": "markdown",
   "id": "b0a44b31-75d4-44c1-a601-b09fa60dd71e",
   "metadata": {},
   "source": [
    "# Q4"
   ]
  },
  {
   "cell_type": "code",
   "execution_count": null,
   "id": "16d1dad3-a993-46a0-9f1e-1ea730921e2c",
   "metadata": {},
   "outputs": [],
   "source": [
    "# DQL is data query language"
   ]
  },
  {
   "cell_type": "code",
   "execution_count": null,
   "id": "7479833a-157b-4a4f-a773-8d50c97dbeae",
   "metadata": {},
   "outputs": [],
   "source": [
    "# SELECT * FROM accounts"
   ]
  },
  {
   "cell_type": "markdown",
   "id": "44d80205-5d91-4f8c-8a65-98cf47f33f57",
   "metadata": {},
   "source": [
    "# Q5"
   ]
  },
  {
   "cell_type": "code",
   "execution_count": null,
   "id": "2ab41ad4-b44b-45bf-9a2d-9f77ee375349",
   "metadata": {},
   "outputs": [],
   "source": [
    "# A primary key is used to ensure that data in the specific column is unique. A column cannot have NULL values. It is either an existing \n",
    "# table column or a column that is specifically generated by the database according to a defined sequence. "
   ]
  },
  {
   "cell_type": "code",
   "execution_count": null,
   "id": "016aace3-a9e9-4c3d-9ae9-87554dd08c1a",
   "metadata": {},
   "outputs": [],
   "source": [
    "# A foreign key is a column or group of columns in a relational database table that provides a link between data in two tables. It is a \n",
    "# column (or columns) that references a column (most often the primary key) of another table. "
   ]
  },
  {
   "cell_type": "markdown",
   "id": "3f4895d5-dd4e-43c5-afa5-378370b0c4a4",
   "metadata": {},
   "source": [
    "# Q6"
   ]
  },
  {
   "cell_type": "code",
   "execution_count": null,
   "id": "21fe5f90-e01b-4c90-9432-6013198f46b5",
   "metadata": {},
   "outputs": [],
   "source": [
    "import mysql.connector\n",
    "mydb = mysql.connector.connect(\n",
    "  host=\"localhost\",\n",
    "  user=\"yourusername\",\n",
    "  password=\"yourpassword\"\n",
    ")\n",
    "\n",
    "print(mydb)"
   ]
  },
  {
   "cell_type": "markdown",
   "id": "9eaf1288-8a2d-4743-82fb-809c9aaf8c4e",
   "metadata": {},
   "source": [
    "# Cursor()"
   ]
  },
  {
   "cell_type": "code",
   "execution_count": null,
   "id": "5a017048-ee0a-4bff-9b1a-dec1222b6869",
   "metadata": {},
   "outputs": [],
   "source": [
    "# It is an object that is used to make the connection for executing SQL queries. It acts as middleware between SQLite database connection\n",
    "# and SQL query. It is created after giving connection to SQLite database."
   ]
  },
  {
   "cell_type": "markdown",
   "id": "a9a73969-c115-43f2-bba6-e1da05d1e39e",
   "metadata": {},
   "source": [
    "# Execute()"
   ]
  },
  {
   "cell_type": "code",
   "execution_count": null,
   "id": "00f8468d-3af9-4a6e-9ea3-158c1131c5ad",
   "metadata": {},
   "outputs": [],
   "source": [
    "# It is used to execite the wtitten command"
   ]
  },
  {
   "cell_type": "markdown",
   "id": "bf3faef0-1256-4a91-ba79-7389f8427080",
   "metadata": {},
   "source": [
    "# Q7"
   ]
  },
  {
   "cell_type": "code",
   "execution_count": null,
   "id": "35ef07ef-4ec3-456a-9006-590902c393a4",
   "metadata": {},
   "outputs": [],
   "source": [
    "#  1 FROM"
   ]
  }
 ],
 "metadata": {
  "kernelspec": {
   "display_name": "Python 3 (ipykernel)",
   "language": "python",
   "name": "python3"
  },
  "language_info": {
   "codemirror_mode": {
    "name": "ipython",
    "version": 3
   },
   "file_extension": ".py",
   "mimetype": "text/x-python",
   "name": "python",
   "nbconvert_exporter": "python",
   "pygments_lexer": "ipython3",
   "version": "3.10.8"
  }
 },
 "nbformat": 4,
 "nbformat_minor": 5
}
