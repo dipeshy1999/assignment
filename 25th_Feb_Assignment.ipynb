{
 "cells": [
  {
   "cell_type": "markdown",
   "id": "57a1b512-3dd7-4598-a1ce-c37c105392a5",
   "metadata": {},
   "source": [
    "# Q1"
   ]
  },
  {
   "cell_type": "code",
   "execution_count": 1,
   "id": "52174088-7ad6-48d6-bfed-3fdbdb99773c",
   "metadata": {},
   "outputs": [],
   "source": [
    "import pandas as pd\n",
    "import numpy as np\n",
    "import statistics\n",
    "course_name = ['Data Science', 'Machine Learning', 'Big Data', 'Data Engineer']\n",
    "duration = [2,3,6,4]\n",
    "df = pd.DataFrame(data = {'course_name' : course_name, 'duration' : duration})"
   ]
  },
  {
   "cell_type": "code",
   "execution_count": 2,
   "id": "3c657295-eeaf-4d8c-bec7-38c7d06df68e",
   "metadata": {},
   "outputs": [
    {
     "data": {
      "text/html": [
       "<div>\n",
       "<style scoped>\n",
       "    .dataframe tbody tr th:only-of-type {\n",
       "        vertical-align: middle;\n",
       "    }\n",
       "\n",
       "    .dataframe tbody tr th {\n",
       "        vertical-align: top;\n",
       "    }\n",
       "\n",
       "    .dataframe thead th {\n",
       "        text-align: right;\n",
       "    }\n",
       "</style>\n",
       "<table border=\"1\" class=\"dataframe\">\n",
       "  <thead>\n",
       "    <tr style=\"text-align: right;\">\n",
       "      <th></th>\n",
       "      <th>course_name</th>\n",
       "      <th>duration</th>\n",
       "    </tr>\n",
       "  </thead>\n",
       "  <tbody>\n",
       "    <tr>\n",
       "      <th>0</th>\n",
       "      <td>Data Science</td>\n",
       "      <td>2</td>\n",
       "    </tr>\n",
       "    <tr>\n",
       "      <th>1</th>\n",
       "      <td>Machine Learning</td>\n",
       "      <td>3</td>\n",
       "    </tr>\n",
       "    <tr>\n",
       "      <th>2</th>\n",
       "      <td>Big Data</td>\n",
       "      <td>6</td>\n",
       "    </tr>\n",
       "    <tr>\n",
       "      <th>3</th>\n",
       "      <td>Data Engineer</td>\n",
       "      <td>4</td>\n",
       "    </tr>\n",
       "  </tbody>\n",
       "</table>\n",
       "</div>"
      ],
      "text/plain": [
       "        course_name  duration\n",
       "0      Data Science         2\n",
       "1  Machine Learning         3\n",
       "2          Big Data         6\n",
       "3     Data Engineer         4"
      ]
     },
     "execution_count": 2,
     "metadata": {},
     "output_type": "execute_result"
    }
   ],
   "source": [
    "df"
   ]
  },
  {
   "cell_type": "code",
   "execution_count": 3,
   "id": "e82ca430-f19d-4941-a320-4967ca70b45a",
   "metadata": {},
   "outputs": [
    {
     "data": {
      "text/html": [
       "<div>\n",
       "<style scoped>\n",
       "    .dataframe tbody tr th:only-of-type {\n",
       "        vertical-align: middle;\n",
       "    }\n",
       "\n",
       "    .dataframe tbody tr th {\n",
       "        vertical-align: top;\n",
       "    }\n",
       "\n",
       "    .dataframe thead th {\n",
       "        text-align: right;\n",
       "    }\n",
       "</style>\n",
       "<table border=\"1\" class=\"dataframe\">\n",
       "  <thead>\n",
       "    <tr style=\"text-align: right;\">\n",
       "      <th></th>\n",
       "      <th>course_name</th>\n",
       "      <th>duration</th>\n",
       "    </tr>\n",
       "  </thead>\n",
       "  <tbody>\n",
       "    <tr>\n",
       "      <th>1</th>\n",
       "      <td>Machine Learning</td>\n",
       "      <td>3</td>\n",
       "    </tr>\n",
       "  </tbody>\n",
       "</table>\n",
       "</div>"
      ],
      "text/plain": [
       "        course_name  duration\n",
       "1  Machine Learning         3"
      ]
     },
     "execution_count": 3,
     "metadata": {},
     "output_type": "execute_result"
    }
   ],
   "source": [
    "df[1:2]"
   ]
  },
  {
   "cell_type": "markdown",
   "id": "1613a674-7003-45bd-9e60-ec67277a0533",
   "metadata": {},
   "source": [
    "# Q2"
   ]
  },
  {
   "cell_type": "code",
   "execution_count": 4,
   "id": "3424163b-ff33-46ea-8aa0-574f7a19998d",
   "metadata": {},
   "outputs": [],
   "source": [
    "# Loc and iloc are two functions in Pandas that are used to slice a data set in a Pandas DataFrame. \n",
    "# The function .loc is typically used for label indexing and can access multiple columns, while .iloc is used for integer indexing. "
   ]
  },
  {
   "cell_type": "markdown",
   "id": "8774af5e-11ce-4186-8d49-32d090b139a6",
   "metadata": {},
   "source": [
    "# Q3"
   ]
  },
  {
   "cell_type": "code",
   "execution_count": 5,
   "id": "05c8a560-e488-44c5-a3bb-1a9e0630ff7b",
   "metadata": {},
   "outputs": [],
   "source": [
    "import pandas as pd\n",
    "import numpy as np\n",
    "columns = ['column_1', 'column_2', 'column_3', 'column_4', 'column_5', 'column_6']\n",
    "indices = [1,2,3,4,5,6]\n",
    "#Creating a dataframe:\n",
    "df1 = pd.DataFrame(np.random.rand(6,6), columns = columns, index = indices)"
   ]
  },
  {
   "cell_type": "code",
   "execution_count": 6,
   "id": "fcd6494c-53df-4ca4-bf28-f25c66b1f4f5",
   "metadata": {},
   "outputs": [
    {
     "data": {
      "text/html": [
       "<div>\n",
       "<style scoped>\n",
       "    .dataframe tbody tr th:only-of-type {\n",
       "        vertical-align: middle;\n",
       "    }\n",
       "\n",
       "    .dataframe tbody tr th {\n",
       "        vertical-align: top;\n",
       "    }\n",
       "\n",
       "    .dataframe thead th {\n",
       "        text-align: right;\n",
       "    }\n",
       "</style>\n",
       "<table border=\"1\" class=\"dataframe\">\n",
       "  <thead>\n",
       "    <tr style=\"text-align: right;\">\n",
       "      <th></th>\n",
       "      <th>column_1</th>\n",
       "      <th>column_2</th>\n",
       "      <th>column_3</th>\n",
       "      <th>column_4</th>\n",
       "      <th>column_5</th>\n",
       "      <th>column_6</th>\n",
       "    </tr>\n",
       "  </thead>\n",
       "  <tbody>\n",
       "    <tr>\n",
       "      <th>1</th>\n",
       "      <td>0.702326</td>\n",
       "      <td>0.253656</td>\n",
       "      <td>0.282195</td>\n",
       "      <td>0.586832</td>\n",
       "      <td>0.185550</td>\n",
       "      <td>0.950657</td>\n",
       "    </tr>\n",
       "    <tr>\n",
       "      <th>2</th>\n",
       "      <td>0.745047</td>\n",
       "      <td>0.791489</td>\n",
       "      <td>0.068667</td>\n",
       "      <td>0.993490</td>\n",
       "      <td>0.326616</td>\n",
       "      <td>0.923995</td>\n",
       "    </tr>\n",
       "    <tr>\n",
       "      <th>3</th>\n",
       "      <td>0.423882</td>\n",
       "      <td>0.988843</td>\n",
       "      <td>0.779288</td>\n",
       "      <td>0.768072</td>\n",
       "      <td>0.052971</td>\n",
       "      <td>0.291800</td>\n",
       "    </tr>\n",
       "    <tr>\n",
       "      <th>4</th>\n",
       "      <td>0.901629</td>\n",
       "      <td>0.766791</td>\n",
       "      <td>0.968635</td>\n",
       "      <td>0.407798</td>\n",
       "      <td>0.367385</td>\n",
       "      <td>0.070309</td>\n",
       "    </tr>\n",
       "    <tr>\n",
       "      <th>5</th>\n",
       "      <td>0.937739</td>\n",
       "      <td>0.959091</td>\n",
       "      <td>0.477023</td>\n",
       "      <td>0.191969</td>\n",
       "      <td>0.172706</td>\n",
       "      <td>0.370277</td>\n",
       "    </tr>\n",
       "    <tr>\n",
       "      <th>6</th>\n",
       "      <td>0.549586</td>\n",
       "      <td>0.699739</td>\n",
       "      <td>0.595247</td>\n",
       "      <td>0.190199</td>\n",
       "      <td>0.916738</td>\n",
       "      <td>0.887442</td>\n",
       "    </tr>\n",
       "  </tbody>\n",
       "</table>\n",
       "</div>"
      ],
      "text/plain": [
       "   column_1  column_2  column_3  column_4  column_5  column_6\n",
       "1  0.702326  0.253656  0.282195  0.586832  0.185550  0.950657\n",
       "2  0.745047  0.791489  0.068667  0.993490  0.326616  0.923995\n",
       "3  0.423882  0.988843  0.779288  0.768072  0.052971  0.291800\n",
       "4  0.901629  0.766791  0.968635  0.407798  0.367385  0.070309\n",
       "5  0.937739  0.959091  0.477023  0.191969  0.172706  0.370277\n",
       "6  0.549586  0.699739  0.595247  0.190199  0.916738  0.887442"
      ]
     },
     "execution_count": 6,
     "metadata": {},
     "output_type": "execute_result"
    }
   ],
   "source": [
    "df1"
   ]
  },
  {
   "cell_type": "code",
   "execution_count": 7,
   "id": "5c7fc525-4074-44a3-9d13-2091f6d78e94",
   "metadata": {},
   "outputs": [],
   "source": [
    "new_df=df1.reindex([3,0,1,2])"
   ]
  },
  {
   "cell_type": "code",
   "execution_count": 8,
   "id": "fd94eaa2-de17-40b4-9bf6-61b626f62f92",
   "metadata": {},
   "outputs": [
    {
     "data": {
      "text/html": [
       "<div>\n",
       "<style scoped>\n",
       "    .dataframe tbody tr th:only-of-type {\n",
       "        vertical-align: middle;\n",
       "    }\n",
       "\n",
       "    .dataframe tbody tr th {\n",
       "        vertical-align: top;\n",
       "    }\n",
       "\n",
       "    .dataframe thead th {\n",
       "        text-align: right;\n",
       "    }\n",
       "</style>\n",
       "<table border=\"1\" class=\"dataframe\">\n",
       "  <thead>\n",
       "    <tr style=\"text-align: right;\">\n",
       "      <th></th>\n",
       "      <th>column_1</th>\n",
       "      <th>column_2</th>\n",
       "      <th>column_3</th>\n",
       "      <th>column_4</th>\n",
       "      <th>column_5</th>\n",
       "      <th>column_6</th>\n",
       "    </tr>\n",
       "  </thead>\n",
       "  <tbody>\n",
       "    <tr>\n",
       "      <th>3</th>\n",
       "      <td>0.423882</td>\n",
       "      <td>0.988843</td>\n",
       "      <td>0.779288</td>\n",
       "      <td>0.768072</td>\n",
       "      <td>0.052971</td>\n",
       "      <td>0.291800</td>\n",
       "    </tr>\n",
       "    <tr>\n",
       "      <th>0</th>\n",
       "      <td>NaN</td>\n",
       "      <td>NaN</td>\n",
       "      <td>NaN</td>\n",
       "      <td>NaN</td>\n",
       "      <td>NaN</td>\n",
       "      <td>NaN</td>\n",
       "    </tr>\n",
       "    <tr>\n",
       "      <th>1</th>\n",
       "      <td>0.702326</td>\n",
       "      <td>0.253656</td>\n",
       "      <td>0.282195</td>\n",
       "      <td>0.586832</td>\n",
       "      <td>0.185550</td>\n",
       "      <td>0.950657</td>\n",
       "    </tr>\n",
       "    <tr>\n",
       "      <th>2</th>\n",
       "      <td>0.745047</td>\n",
       "      <td>0.791489</td>\n",
       "      <td>0.068667</td>\n",
       "      <td>0.993490</td>\n",
       "      <td>0.326616</td>\n",
       "      <td>0.923995</td>\n",
       "    </tr>\n",
       "  </tbody>\n",
       "</table>\n",
       "</div>"
      ],
      "text/plain": [
       "   column_1  column_2  column_3  column_4  column_5  column_6\n",
       "3  0.423882  0.988843  0.779288  0.768072  0.052971  0.291800\n",
       "0       NaN       NaN       NaN       NaN       NaN       NaN\n",
       "1  0.702326  0.253656  0.282195  0.586832  0.185550  0.950657\n",
       "2  0.745047  0.791489  0.068667  0.993490  0.326616  0.923995"
      ]
     },
     "execution_count": 8,
     "metadata": {},
     "output_type": "execute_result"
    }
   ],
   "source": [
    "new_df"
   ]
  },
  {
   "cell_type": "code",
   "execution_count": 9,
   "id": "dfdca2ac-9cb4-4c9a-9ee5-1e627404704d",
   "metadata": {},
   "outputs": [
    {
     "data": {
      "text/plain": [
       "column_1    0.745047\n",
       "column_2    0.791489\n",
       "column_3    0.068667\n",
       "column_4    0.993490\n",
       "column_5    0.326616\n",
       "column_6    0.923995\n",
       "Name: 2, dtype: float64"
      ]
     },
     "execution_count": 9,
     "metadata": {},
     "output_type": "execute_result"
    }
   ],
   "source": [
    "new_df.loc[2]"
   ]
  },
  {
   "cell_type": "code",
   "execution_count": 10,
   "id": "632f9707-f792-4286-be9e-31dd8d43cf81",
   "metadata": {},
   "outputs": [
    {
     "data": {
      "text/plain": [
       "column_1    0.702326\n",
       "column_2    0.253656\n",
       "column_3    0.282195\n",
       "column_4    0.586832\n",
       "column_5    0.185550\n",
       "column_6    0.950657\n",
       "Name: 1, dtype: float64"
      ]
     },
     "execution_count": 10,
     "metadata": {},
     "output_type": "execute_result"
    }
   ],
   "source": [
    "new_df.iloc[2]"
   ]
  },
  {
   "cell_type": "markdown",
   "id": "c936863a-064d-4716-a03d-d149ab6bdfa9",
   "metadata": {},
   "source": [
    "# Q4"
   ]
  },
  {
   "cell_type": "markdown",
   "id": "2b5daadf-4d32-4694-ad28-6b0418254a58",
   "metadata": {},
   "source": [
    "# (i)"
   ]
  },
  {
   "cell_type": "code",
   "execution_count": 11,
   "id": "cc825ebc-a38f-49a6-aebb-d139d6220b63",
   "metadata": {},
   "outputs": [
    {
     "data": {
      "text/plain": [
       "column_1    0.710035\n",
       "column_2    0.743268\n",
       "column_3    0.528509\n",
       "column_4    0.523060\n",
       "column_5    0.336994\n",
       "column_6    0.582413\n",
       "dtype: float64"
      ]
     },
     "execution_count": 11,
     "metadata": {},
     "output_type": "execute_result"
    }
   ],
   "source": [
    "df1.mean(axis=0)"
   ]
  },
  {
   "cell_type": "code",
   "execution_count": 12,
   "id": "4f12d171-9f46-48a3-ace1-4be47cf7eb73",
   "metadata": {},
   "outputs": [],
   "source": [
    "col2 = new_df['column_2']"
   ]
  },
  {
   "cell_type": "code",
   "execution_count": 13,
   "id": "d66fc64d-095b-4fcb-a534-dfba2a91bd79",
   "metadata": {},
   "outputs": [
    {
     "data": {
      "text/plain": [
       "3    0.988843\n",
       "0         NaN\n",
       "1    0.253656\n",
       "2    0.791489\n",
       "Name: column_2, dtype: float64"
      ]
     },
     "execution_count": 13,
     "metadata": {},
     "output_type": "execute_result"
    }
   ],
   "source": [
    "col2"
   ]
  },
  {
   "cell_type": "code",
   "execution_count": 14,
   "id": "77be365a-1b85-4400-a929-6d387a1daef3",
   "metadata": {},
   "outputs": [
    {
     "name": "stdout",
     "output_type": "stream",
     "text": [
      "0.31068277082479956\n"
     ]
    }
   ],
   "source": [
    "print(np.std(col2))"
   ]
  },
  {
   "cell_type": "markdown",
   "id": "06dfdfd5-b388-477a-8067-79a0846f8371",
   "metadata": {},
   "source": [
    "# Q5"
   ]
  },
  {
   "cell_type": "code",
   "execution_count": 15,
   "id": "e479938b-2b2f-4ee0-8647-43b53bf44d0c",
   "metadata": {},
   "outputs": [
    {
     "data": {
      "text/html": [
       "<div>\n",
       "<style scoped>\n",
       "    .dataframe tbody tr th:only-of-type {\n",
       "        vertical-align: middle;\n",
       "    }\n",
       "\n",
       "    .dataframe tbody tr th {\n",
       "        vertical-align: top;\n",
       "    }\n",
       "\n",
       "    .dataframe thead th {\n",
       "        text-align: right;\n",
       "    }\n",
       "</style>\n",
       "<table border=\"1\" class=\"dataframe\">\n",
       "  <thead>\n",
       "    <tr style=\"text-align: right;\">\n",
       "      <th></th>\n",
       "      <th>column_1</th>\n",
       "      <th>column_2</th>\n",
       "      <th>column_3</th>\n",
       "      <th>column_4</th>\n",
       "      <th>column_5</th>\n",
       "      <th>column_6</th>\n",
       "    </tr>\n",
       "  </thead>\n",
       "  <tbody>\n",
       "    <tr>\n",
       "      <th>3</th>\n",
       "      <td>0.423882</td>\n",
       "      <td>0.988843</td>\n",
       "      <td>0.779288</td>\n",
       "      <td>0.768072</td>\n",
       "      <td>0.052971</td>\n",
       "      <td>0.291800</td>\n",
       "    </tr>\n",
       "    <tr>\n",
       "      <th>0</th>\n",
       "      <td>NaN</td>\n",
       "      <td>NaN</td>\n",
       "      <td>NaN</td>\n",
       "      <td>NaN</td>\n",
       "      <td>NaN</td>\n",
       "      <td>NaN</td>\n",
       "    </tr>\n",
       "    <tr>\n",
       "      <th>1</th>\n",
       "      <td>0.702326</td>\n",
       "      <td>0.253656</td>\n",
       "      <td>0.282195</td>\n",
       "      <td>0.586832</td>\n",
       "      <td>0.185550</td>\n",
       "      <td>0.950657</td>\n",
       "    </tr>\n",
       "    <tr>\n",
       "      <th>2</th>\n",
       "      <td>0.745047</td>\n",
       "      <td>0.791489</td>\n",
       "      <td>0.068667</td>\n",
       "      <td>0.993490</td>\n",
       "      <td>0.326616</td>\n",
       "      <td>0.923995</td>\n",
       "    </tr>\n",
       "  </tbody>\n",
       "</table>\n",
       "</div>"
      ],
      "text/plain": [
       "   column_1  column_2  column_3  column_4  column_5  column_6\n",
       "3  0.423882  0.988843  0.779288  0.768072  0.052971  0.291800\n",
       "0       NaN       NaN       NaN       NaN       NaN       NaN\n",
       "1  0.702326  0.253656  0.282195  0.586832  0.185550  0.950657\n",
       "2  0.745047  0.791489  0.068667  0.993490  0.326616  0.923995"
      ]
     },
     "execution_count": 15,
     "metadata": {},
     "output_type": "execute_result"
    }
   ],
   "source": [
    "new_df"
   ]
  },
  {
   "cell_type": "code",
   "execution_count": 19,
   "id": "911a7131-346a-45a6-8824-61c6fad65675",
   "metadata": {},
   "outputs": [
    {
     "ename": "AttributeError",
     "evalue": "'str' object has no attribute 'loc'",
     "output_type": "error",
     "traceback": [
      "\u001b[0;31m---------------------------------------------------------------------------\u001b[0m",
      "\u001b[0;31mAttributeError\u001b[0m                            Traceback (most recent call last)",
      "Cell \u001b[0;32mIn[19], line 1\u001b[0m\n\u001b[0;32m----> 1\u001b[0m new_df \u001b[38;5;241m=\u001b[39m \u001b[43mnew_df\u001b[49m\u001b[38;5;241;43m.\u001b[39;49m\u001b[43mloc\u001b[49m[\u001b[38;5;241m2\u001b[39m][\u001b[38;5;124m'\u001b[39m\u001b[38;5;124mcolumn_2\u001b[39m\u001b[38;5;124m'\u001b[39m] \u001b[38;5;241m=\u001b[39m \u001b[38;5;124m'\u001b[39m\u001b[38;5;124mUSA\u001b[39m\u001b[38;5;124m'\u001b[39m\n",
      "\u001b[0;31mAttributeError\u001b[0m: 'str' object has no attribute 'loc'"
     ]
    }
   ],
   "source": [
    "new_df = new_df.loc[2]['column_2'] = 'USA'"
   ]
  },
  {
   "cell_type": "code",
   "execution_count": null,
   "id": "c1e9bcff-c7ad-4789-aca4-25027f71624d",
   "metadata": {},
   "outputs": [],
   "source": [
    "# Yes I am getting error str object has no attribute LOC"
   ]
  },
  {
   "cell_type": "markdown",
   "id": "ffec9476-2c04-4d34-94e2-fd80739ce91a",
   "metadata": {},
   "source": [
    "# Q6"
   ]
  },
  {
   "cell_type": "code",
   "execution_count": null,
   "id": "e7b835e1-178e-4b2f-a159-bccbe6c3d4f3",
   "metadata": {},
   "outputs": [],
   "source": [
    "# Window functions are majorly used in finding the trends within the data graphically by smoothing the curve. \n",
    "# If there is lot of variation in the everyday data and a lot of data points are available, then taking the samples \n",
    "# and plotting is one method and applying the window computations and plotting the graph on the results is another method. \n",
    "# By these methods, we can smooth the curve or the trend."
   ]
  },
  {
   "cell_type": "code",
   "execution_count": null,
   "id": "a045b67c-6282-4475-893c-c55b73e9c8be",
   "metadata": {},
   "outputs": [],
   "source": [
    "# rolling() Function"
   ]
  },
  {
   "cell_type": "code",
   "execution_count": null,
   "id": "367d737d-d9ff-4b37-beb1-b14cdec426d6",
   "metadata": {},
   "outputs": [],
   "source": [
    "# expanding() Function"
   ]
  },
  {
   "cell_type": "code",
   "execution_count": null,
   "id": "5a2e6f6d-01dd-49a5-a5d2-fef97ae43dfc",
   "metadata": {},
   "outputs": [],
   "source": [
    "# ewm() Function"
   ]
  },
  {
   "cell_type": "markdown",
   "id": "0f6a48bf-52af-4648-8a9a-cec50691c7b5",
   "metadata": {},
   "source": [
    "# Q7"
   ]
  },
  {
   "cell_type": "code",
   "execution_count": 20,
   "id": "b902f439-b88b-4b1b-b8c9-a08e22db9f68",
   "metadata": {},
   "outputs": [
    {
     "name": "stdout",
     "output_type": "stream",
     "text": [
      "Current date:  2023-05-29\n",
      "Current year: 2023\n",
      "Current month: 5\n",
      "Current day: 29\n"
     ]
    }
   ],
   "source": [
    "from datetime import date\n",
    "todays_date = date.today()\n",
    "print(\"Current date: \", todays_date)\n",
    "print(\"Current year:\", todays_date.year)\n",
    "print(\"Current month:\", todays_date.month)\n",
    "print(\"Current day:\", todays_date.day)"
   ]
  },
  {
   "cell_type": "markdown",
   "id": "1df13d72-4b40-4908-b39f-8b28542e84ed",
   "metadata": {},
   "source": [
    "# Q8"
   ]
  },
  {
   "cell_type": "code",
   "execution_count": 24,
   "id": "531df3b8-7ca2-4ddd-b736-0df77ecdb423",
   "metadata": {},
   "outputs": [
    {
     "name": "stdin",
     "output_type": "stream",
     "text": [
      "Enter 1st year: 2023\n",
      "Enter 1st month: 05\n",
      "Enter 1st date: 29\n",
      "Enter 2nd year: 2023\n",
      "Enter 2nd month: 05\n",
      "Enter 2nd date: 30\n"
     ]
    },
    {
     "name": "stdout",
     "output_type": "stream",
     "text": [
      "1 days\n",
      "Hours: 24\n",
      "Minutes: 1440\n"
     ]
    }
   ],
   "source": [
    "from datetime import date\n",
    "def numOfDays(date1, date2):\n",
    "    return (date2-date1).days\n",
    "y1 = int(input(\"Enter 1st year:\"))\n",
    "m1 = int(input(\"Enter 1st month:\"))\n",
    "d1 = int(input(\"Enter 1st date:\"))\n",
    "y2 = int(input(\"Enter 2nd year:\"))\n",
    "m2 = int(input(\"Enter 2nd month:\"))\n",
    "d2 = int(input(\"Enter 2nd date:\")) \n",
    "date1 = date(y1,m1,d1)\n",
    "date2 = date(y2,m2,d2)\n",
    "print(numOfDays(date1, date2), \"days\")\n",
    "print(\"Hours:\",numOfDays(date1, date2)*24)\n",
    "print(\"Minutes:\",numOfDays(date1, date2)*24*60)"
   ]
  },
  {
   "cell_type": "markdown",
   "id": "878d6759-49bf-406f-86da-e64f3eea57d2",
   "metadata": {},
   "source": [
    "# Q9"
   ]
  },
  {
   "cell_type": "code",
   "execution_count": 10,
   "id": "2129136f-3fbb-4a3d-b546-35babca780e6",
   "metadata": {},
   "outputs": [
    {
     "name": "stdin",
     "output_type": "stream",
     "text": [
      "Enter the file path:  Gender_Names.csv\n",
      "Enter the column name:  Gender\n",
      "Enter the category order (comma-separated values):  Male, Female\n"
     ]
    },
    {
     "name": "stdout",
     "output_type": "stream",
     "text": [
      "  Name Of Person Gender\n",
      "4          SHALU      F\n",
      "5        MANISHA      F\n",
      "6         PREETI      F\n",
      "7         KAVITA      F\n",
      "0         DIPESH      M\n",
      "1           RAJU      M\n",
      "2        FAISHAL      M\n",
      "3         YOGESH      M\n"
     ]
    }
   ],
   "source": [
    "import pandas as pd\n",
    "file_path = input(\"Enter the file path: \")\n",
    "column_name = input(\"Enter the column name: \")\n",
    "category_order = input(\"Enter the category order (comma-separated values): \").split(\",\")\n",
    "data = pd.read_csv(file_path)\n",
    "data[column_name] = data[column_name].astype('category')\n",
    "sorted_data = data.sort_values(column_name)\n",
    "print(sorted_data)"
   ]
  },
  {
   "cell_type": "markdown",
   "id": "9ab20507-3353-4732-a590-279547f92d98",
   "metadata": {},
   "source": [
    "# Q10"
   ]
  },
  {
   "cell_type": "code",
   "execution_count": 11,
   "id": "17c9eb8c-01d9-428d-9ac3-4cb2bcb35d6f",
   "metadata": {},
   "outputs": [
    {
     "name": "stdin",
     "output_type": "stream",
     "text": [
      "Enter the file path:  Product_Sales.csv\n"
     ]
    },
    {
     "data": {
      "image/png": "[encoded data removed]",
      "text/plain": [
       "<Figure size 1000x600 with 1 Axes>"
      ]
     },
     "metadata": {},
     "output_type": "display_data"
    }
   ],
   "source": [
    "import pandas as pd\n",
    "import matplotlib.pyplot as plt\n",
    "\n",
    "# Prompt the user to enter the file path\n",
    "file_path = input(\"Enter the file path: \")\n",
    "\n",
    "# Read the CSV file into a DataFrame\n",
    "data = pd.read_csv(file_path)\n",
    "\n",
    "# Convert the 'Date' column to datetime\n",
    "data['Date'] = pd.to_datetime(data['Date'])\n",
    "\n",
    "# Group the data by product category and date, and sum the sales\n",
    "grouped_data = data.groupby(['Product Category', 'Date'])['Sales'].sum().reset_index()\n",
    "\n",
    "# Pivot the data to create a table with product categories as columns and dates as rows\n",
    "pivot_data = grouped_data.pivot(index='Date', columns='Product Category', values='Sales')\n",
    "\n",
    "# Plot the stacked bar chart\n",
    "pivot_data.plot(kind='bar', stacked=True, figsize=(10, 6))\n",
    "plt.xlabel('Date')\n",
    "plt.ylabel('Sales')\n",
    "plt.title('Sales by Product Category Over Time')\n",
    "plt.legend(loc='upper left')\n",
    "\n",
    "# Display the chart\n",
    "plt.show()"
   ]
  },
  {
   "cell_type": "code",
   "execution_count": 21,
   "id": "5bd52315-91b4-48bd-b478-060a067c7b9a",
   "metadata": {},
   "outputs": [
    {
     "name": "stdin",
     "output_type": "stream",
     "text": [
      "Enter the file path:  Student_Marks.csv\n"
     ]
    },
    {
     "name": "stdout",
     "output_type": "stream",
     "text": [
      "+------------+---------+\n",
      "| Statistic | Value |\n",
      "| Mean: 83.5\n",
      "| Mode: 0    85\n",
      "Name: Test_Score, dtype: int64\n",
      "| Median: 85.0\n",
      "+------------+---------+\n"
     ]
    }
   ],
   "source": [
    "file_path = input(\"Enter the file path: \")\n",
    "data = pd.read_csv(file_path)\n",
    "df1 = data['Test_Score']\n",
    "print(\"+------------+---------+\")\n",
    "print(\"| Statistic | Value |\")\n",
    "print(\"| Mean:\",df1.mean())\n",
    "print(\"| Mode:\",df1.mode())\n",
    "print(\"| Median:\",df1.median())\n",
    "print(\"+------------+---------+\")"
   ]
  },
  {
   "cell_type": "code",
   "execution_count": null,
   "id": "ab82cc98-ad84-43df-a129-0f38d009645a",
   "metadata": {},
   "outputs": [],
   "source": []
  },
  {
   "cell_type": "code",
   "execution_count": null,
   "id": "f300b6f1-1f5d-4b6f-8873-681d7b3fc1de",
   "metadata": {},
   "outputs": [],
   "source": []
  }
 ],
 "metadata": {
  "kernelspec": {
   "display_name": "Python 3 (ipykernel)",
   "language": "python",
   "name": "python3"
  },
  "language_info": {
   "codemirror_mode": {
    "name": "ipython",
    "version": 3
   },
   "file_extension": ".py",
   "mimetype": "text/x-python",
   "name": "python",
   "nbconvert_exporter": "python",
   "pygments_lexer": "ipython3",
   "version": "3.10.8"
  }
 },
 "nbformat": 4,
 "nbformat_minor": 5
}
