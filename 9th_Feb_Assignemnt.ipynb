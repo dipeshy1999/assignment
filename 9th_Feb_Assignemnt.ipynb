{
 "cells": [
  {
   "cell_type": "markdown",
   "id": "5bb79364-6129-4ae7-bcee-b850e4e594ad",
   "metadata": {},
   "source": [
    "# Q1"
   ]
  },
  {
   "cell_type": "code",
   "execution_count": 8,
   "id": "d5d463d6-9e64-4f6e-b269-c403e2037235",
   "metadata": {},
   "outputs": [],
   "source": [
    "class Vehicle:\n",
    "    def __init__(self, name_vehicle, max_speed, average_of_speed):\n",
    "        self.name = name_vehicle\n",
    "        self.max_speed = max_speed\n",
    "        self.average_of_speed = average_of_speed\n",
    "\n",
    "    def seating_capacity(self, capacity):\n",
    "        return f\"The seating capacity of a {self.name} is {capacity} passengers\""
   ]
  },
  {
   "cell_type": "markdown",
   "id": "b01266b4-f3d6-4b5d-b0ce-e6936223e4fc",
   "metadata": {},
   "source": [
    "# Q2"
   ]
  },
  {
   "cell_type": "code",
   "execution_count": 9,
   "id": "49c3e52d-dadf-4a72-acc9-a9f548d5f342",
   "metadata": {},
   "outputs": [
    {
     "data": {
      "text/plain": [
       "'The seating capacity of a Zinger is 50 passengers'"
      ]
     },
     "execution_count": 9,
     "metadata": {},
     "output_type": "execute_result"
    }
   ],
   "source": [
    "class car(Vehicle):\n",
    "    \n",
    "    def seating_capacity(self, capacity):\n",
    "        self.capacity = capacity\n",
    "        return f\"The seating capacity of a {self.name} is {capacity} passengers\"\n",
    "c = car(\"Zinger\",120,250).seating_capacity(50)\n",
    "c"
   ]
  },
  {
   "cell_type": "markdown",
   "id": "081b234e-a3f8-45d2-8557-2b273d048fca",
   "metadata": {},
   "source": [
    "# Q3"
   ]
  },
  {
   "cell_type": "code",
   "execution_count": 11,
   "id": "341a48eb-806f-4e84-a18a-61377b2c1dd9",
   "metadata": {},
   "outputs": [
    {
     "name": "stdout",
     "output_type": "stream",
     "text": [
      "Dad sings well\n",
      "Mom codes well\n",
      "Kid loves to play\n"
     ]
    }
   ],
   "source": [
    "# If a child class is inheriting the properties of a single other class, we call it single inheritance. However, if a child class inherits \n",
    "# from more than one class, i.e. this child class is derived from multiple classes, we call it multiple inheritance in Python. \n",
    "\n",
    "class Dad():\n",
    "\t# writing a method for parent class 1\n",
    "\tdef singing(self):\n",
    "\t\tprint(\"Dad sings well\")\n",
    "\t\t\n",
    "# creating a class for mother\n",
    "class Mom():\n",
    "\t# method for parent class 2\n",
    "\tdef coding(self):\n",
    "\t\tprint(\"Mom codes well\")\n",
    "\n",
    "# creating derived class\n",
    "class Child(Dad, Mom):\n",
    "\tdef playing(self):\n",
    "\t\tprint(\"Kid loves to play\")\n",
    "\n",
    "# creating object of the new derived class\n",
    "child = Child()\n",
    "# calling methods of parent classes and derived class\n",
    "child.singing()\n",
    "child.coding()\n",
    "child.playing()\t\t"
   ]
  },
  {
   "cell_type": "markdown",
   "id": "7b7be023-d761-4180-a5c2-79dc83ba1182",
   "metadata": {},
   "source": [
    "# Q4"
   ]
  },
  {
   "cell_type": "code",
   "execution_count": null,
   "id": "d9b605f0-9cee-4c0b-a8c4-e78d2353309c",
   "metadata": {},
   "outputs": [],
   "source": [
    "# Basically, the main purpose of using getters and setters in object-oriented programs is to ensure data encapsulation.\n",
    "# Getters and Setters in python are often used when:\n",
    "# We use getters & setters to add validation logic around getting and setting a value.\n",
    "# To avoid direct access of a class field i.e. private variables cannot be accessed directly or modified by external user."
   ]
  },
  {
   "cell_type": "code",
   "execution_count": 12,
   "id": "28a00bda-cf5a-4394-921f-3c1f32227fcf",
   "metadata": {},
   "outputs": [
    {
     "name": "stdout",
     "output_type": "stream",
     "text": [
      "21\n",
      "21\n"
     ]
    }
   ],
   "source": [
    "# Python program showing a use\n",
    "# of get() and set() method in\n",
    "# normal function\n",
    "\n",
    "class Geek:\n",
    "\tdef __init__(self, age = 0):\n",
    "\t\tself._age = age\n",
    "\t\n",
    "\t# getter method\n",
    "\tdef get_age(self):\n",
    "\t\treturn self._age\n",
    "\t\n",
    "\t# setter method\n",
    "\tdef set_age(self, x):\n",
    "\t\tself._age = x\n",
    "\n",
    "raj = Geek()\n",
    "\n",
    "# setting the age using setter\n",
    "raj.set_age(21)\n",
    "\n",
    "# retrieving age using getter\n",
    "print(raj.get_age())\n",
    "\n",
    "print(raj._age)"
   ]
  },
  {
   "cell_type": "markdown",
   "id": "8181b53b-f826-47b7-9e71-d190c6cc7cf6",
   "metadata": {},
   "source": [
    "# Q5"
   ]
  },
  {
   "cell_type": "code",
   "execution_count": 15,
   "id": "9fd49904-06b5-4efb-9ec9-27e426bc81fe",
   "metadata": {},
   "outputs": [
    {
     "name": "stdout",
     "output_type": "stream",
     "text": [
      "10\n",
      "30\n"
     ]
    }
   ],
   "source": [
    "# Method overloading refers to defining multiple methods with the same name but with different parameter types or the number of parameters. \n",
    "# In Python, method overloading is achieved using default arguments.\n",
    "\n",
    "class MyClass:\n",
    "    def my_method(self, arg1, arg2=None):\n",
    "        if arg2:\n",
    "            print(arg1 + arg2)\n",
    "        else:\n",
    "            print(arg1)\n",
    "\n",
    "# Calling the method with one argument\n",
    "obj = MyClass()\n",
    "obj.my_method(10)\n",
    "\n",
    "# Calling the method with two arguments\n",
    "obj.my_method(10, 20) "
   ]
  },
  {
   "cell_type": "code",
   "execution_count": null,
   "id": "dacd50f0-9db8-4c58-8fd0-f33c28310417",
   "metadata": {},
   "outputs": [],
   "source": []
  }
 ],
 "metadata": {
  "kernelspec": {
   "display_name": "Python 3 (ipykernel)",
   "language": "python",
   "name": "python3"
  },
  "language_info": {
   "codemirror_mode": {
    "name": "ipython",
    "version": 3
   },
   "file_extension": ".py",
   "mimetype": "text/x-python",
   "name": "python",
   "nbconvert_exporter": "python",
   "pygments_lexer": "ipython3",
   "version": "3.10.8"
  }
 },
 "nbformat": 4,
 "nbformat_minor": 5
}
