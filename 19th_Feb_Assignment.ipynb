{
 "cells": [
  {
   "cell_type": "markdown",
   "id": "075fd122-e0d5-47c0-b70b-f7074fdbb6ec",
   "metadata": {},
   "source": [
    "# Q1"
   ]
  },
  {
   "cell_type": "code",
   "execution_count": null,
   "id": "ddc27eb7-977f-4356-b9f4-4e85bbb6325c",
   "metadata": {},
   "outputs": [],
   "source": [
    "# Flask is a micro web framework written in Python. It is classified as a microframework because it does not require particular \n",
    "# tools or libraries. It has no database abstraction layer, form validation, or any other components where pre-existing third-party \n",
    "# libraries provide common functions."
   ]
  },
  {
   "cell_type": "code",
   "execution_count": null,
   "id": "e8c32d8c-dfdf-4e5d-b305-1d90d972febe",
   "metadata": {},
   "outputs": [],
   "source": [
    "# It is a lightweight framework that offers hassle-free development\n",
    "# Provide flexibility to the developer to experiment with their modules or architecture\n",
    "# It is suitable for small projects\n",
    "# Offers a built-in development server and fast debugger\n",
    "# Easily scalable for the applications\n",
    "# Support for secure cookies\n",
    "# Uses Ninja2 Template engine\n",
    "# It has integrated support for unit testing\n",
    "# APIs are coherent and neat\n",
    "# Provide strong WSGI support"
   ]
  },
  {
   "cell_type": "markdown",
   "id": "17eade94-192a-4e2f-a959-cc52bf2a39ed",
   "metadata": {},
   "source": [
    "# Q2"
   ]
  },
  {
   "cell_type": "code",
   "execution_count": null,
   "id": "e6568560-bdd7-4eb8-91fc-b1f1cf828406",
   "metadata": {},
   "outputs": [],
   "source": [
    "from flask import Flask\n",
    "from flask import request\n",
    "\n",
    "app = Flask(__name__)\n",
    "\n",
    "@app.route(\"/\")\n",
    "def hello_world():\n",
    "    return \"<h1>Hello, World!</h1>\"\n",
    "\n",
    "if __name__==\"__main__\":\n",
    "    app.run(host=\"0.0.0.0\")"
   ]
  },
  {
   "cell_type": "code",
   "execution_count": 4,
   "id": "14304822-3711-4f36-b33f-4f1cb3906206",
   "metadata": {},
   "outputs": [
    {
     "data": {
      "text/html": [
       "<img src=\"Hello_World.PNG\" width=\"800\" height=\"800\"/>"
      ],
      "text/plain": [
       "<IPython.core.display.Image object>"
      ]
     },
     "execution_count": 4,
     "metadata": {},
     "output_type": "execute_result"
    }
   ],
   "source": [
    "# import image module\n",
    "from IPython.display import Image\n",
    "\n",
    "# get the image\n",
    "Image(url=\"Hello_World.PNG\", width=800, height=800)"
   ]
  },
  {
   "cell_type": "markdown",
   "id": "7b528445-01ab-42fa-8247-39496cf60e53",
   "metadata": {},
   "source": [
    "# Q3 "
   ]
  },
  {
   "cell_type": "code",
   "execution_count": null,
   "id": "9ed8d3cc-716d-472d-a489-4cdbe40eba80",
   "metadata": {},
   "outputs": [],
   "source": [
    "# App Routing means mapping the URLs to a specific function that will handle the logic for that URL. Modern web frameworks use more\n",
    "# meaningful URLs to help users remember the URLs and make navigation simpler. "
   ]
  },
  {
   "cell_type": "code",
   "execution_count": null,
   "id": "e96db7bb-d84e-4936-8a85-bd2a221318e4",
   "metadata": {},
   "outputs": [],
   "source": [
    "from flask import Flask\n",
    "from flask import request\n",
    "\n",
    "app = Flask(__name__)\n",
    "\n",
    "@app.route(\"/\")\n",
    "def hello_world():\n",
    "    return \"<h1>Hello, World!</h1>\"\n",
    "\n",
    "if __name__==\"__main__\":\n",
    "    app.run(host=\"0.0.0.0\")"
   ]
  },
  {
   "cell_type": "markdown",
   "id": "c9fa26fb-4577-4703-af81-cbfe7d795009",
   "metadata": {},
   "source": [
    "# Q4"
   ]
  },
  {
   "cell_type": "code",
   "execution_count": null,
   "id": "f5df8312-c808-425a-8466-3648454f3183",
   "metadata": {},
   "outputs": [],
   "source": [
    "from flask import Flask\n",
    "\n",
    "app = Flask(__name__)\n",
    "\n",
    "@app.route(\"/\")\n",
    "def Welcome():\n",
    "    return \"<h1>Welcome to ABC Corporation</h1>\"\n",
    "\n",
    "@app.route(\"/test\")\n",
    "def test():\n",
    "    return \"<h1>Company Name: ABC Corporation</h1> \\n <h1>Location:India</h1> \\n <h1>Contact Detail: 999-999-9999 \"\n",
    "\n",
    "if __name__==\"__main__\":\n",
    "    app.run(host=\"0.0.0.0\")"
   ]
  },
  {
   "cell_type": "code",
   "execution_count": 7,
   "id": "2de3fd52-6381-4b96-bfe1-a444b39b583f",
   "metadata": {},
   "outputs": [
    {
     "data": {
      "text/html": [
       "<img src=\"Welcome.PNG\" width=\"800\" height=\"800\"/>"
      ],
      "text/plain": [
       "<IPython.core.display.Image object>"
      ]
     },
     "execution_count": 7,
     "metadata": {},
     "output_type": "execute_result"
    }
   ],
   "source": [
    "Image(url=\"Welcome.PNG\", width=800, height=800)"
   ]
  },
  {
   "cell_type": "code",
   "execution_count": 8,
   "id": "73d10a43-020b-43cc-8f66-15d99eee603e",
   "metadata": {},
   "outputs": [
    {
     "data": {
      "text/html": [
       "<img src=\"Company.PNG\" width=\"800\" height=\"800\"/>"
      ],
      "text/plain": [
       "<IPython.core.display.Image object>"
      ]
     },
     "execution_count": 8,
     "metadata": {},
     "output_type": "execute_result"
    }
   ],
   "source": [
    "Image(url=\"Company.PNG\", width=800, height=800)"
   ]
  },
  {
   "cell_type": "markdown",
   "id": "d0cda229-2738-45eb-bc41-0a6170a7e17f",
   "metadata": {},
   "source": [
    "# Q5"
   ]
  },
  {
   "cell_type": "code",
   "execution_count": null,
   "id": "2b45d60f-df72-4b2e-9e0e-4b1fa9a1259a",
   "metadata": {},
   "outputs": [],
   "source": [
    "# The url_for() function is very useful for dynamically building a URL for a specific function. The function accepts the name of a\n",
    "# function as first argument, and one or more keyword arguments, each corresponding to the variable part of URL."
   ]
  },
  {
   "cell_type": "code",
   "execution_count": null,
   "id": "7bedf4fc-0cb3-4df4-b5a1-c8fe9a4641e8",
   "metadata": {},
   "outputs": [],
   "source": [
    "from flask import Flask, redirect, url_for\n",
    "app = Flask(__name__)\n",
    "\n",
    "@app.route('/admin')\n",
    "def hello_admin():\n",
    "   return 'Hello Admin'\n",
    "\n",
    "@app.route('/guest/<guest>')\n",
    "def hello_guest(guest):\n",
    "   return 'Hello %s as Guest' % guest\n",
    "\n",
    "@app.route('/user/<name>')\n",
    "def hello_user(name):\n",
    "   if name =='admin':\n",
    "      return redirect(url_for('hello_admin'))\n",
    "   else:\n",
    "      return redirect(url_for('hello_guest',guest = name))\n",
    "\n",
    "if __name__ == '__main__':\n",
    "   app.run(debug = True)"
   ]
  }
 ],
 "metadata": {
  "kernelspec": {
   "display_name": "Python 3 (ipykernel)",
   "language": "python",
   "name": "python3"
  },
  "language_info": {
   "codemirror_mode": {
    "name": "ipython",
    "version": 3
   },
   "file_extension": ".py",
   "mimetype": "text/x-python",
   "name": "python",
   "nbconvert_exporter": "python",
   "pygments_lexer": "ipython3",
   "version": "3.10.8"
  }
 },
 "nbformat": 4,
 "nbformat_minor": 5
}
