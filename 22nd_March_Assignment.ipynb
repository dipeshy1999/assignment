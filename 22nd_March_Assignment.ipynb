{
 "cells": [
  {
   "cell_type": "markdown",
   "id": "e46bd1d7-4f4c-4624-9f20-5a3a23613d78",
   "metadata": {},
   "source": [
    "# Q1"
   ]
  },
  {
   "cell_type": "code",
   "execution_count": 1,
   "id": "61741f05-ec5f-4a93-9f2b-272b2b2e2242",
   "metadata": {},
   "outputs": [],
   "source": [
    "import seaborn as sns\n",
    "import numpy as np\n",
    "import pandas as pd"
   ]
  },
  {
   "cell_type": "code",
   "execution_count": 2,
   "id": "d455c7ac-e43d-4483-983d-ce7a1a832b78",
   "metadata": {},
   "outputs": [],
   "source": [
    "data = {'Amount_of_time_students_study':[1,2,3,4,5,6],'Final_exam_score:':[75,80,85,90,95,100]}"
   ]
  },
  {
   "cell_type": "code",
   "execution_count": 3,
   "id": "6ee11691-4f30-4b8f-ac31-c7db480ed0bd",
   "metadata": {},
   "outputs": [],
   "source": [
    "df = pd.DataFrame(data = data)"
   ]
  },
  {
   "cell_type": "code",
   "execution_count": 4,
   "id": "ba51a575-86af-4f13-b55a-48f9792c856c",
   "metadata": {},
   "outputs": [
    {
     "data": {
      "text/html": [
       "<div>\n",
       "<style scoped>\n",
       "    .dataframe tbody tr th:only-of-type {\n",
       "        vertical-align: middle;\n",
       "    }\n",
       "\n",
       "    .dataframe tbody tr th {\n",
       "        vertical-align: top;\n",
       "    }\n",
       "\n",
       "    .dataframe thead th {\n",
       "        text-align: right;\n",
       "    }\n",
       "</style>\n",
       "<table border=\"1\" class=\"dataframe\">\n",
       "  <thead>\n",
       "    <tr style=\"text-align: right;\">\n",
       "      <th></th>\n",
       "      <th>Amount_of_time_students_study</th>\n",
       "      <th>Final_exam_score:</th>\n",
       "    </tr>\n",
       "  </thead>\n",
       "  <tbody>\n",
       "    <tr>\n",
       "      <th>0</th>\n",
       "      <td>1</td>\n",
       "      <td>75</td>\n",
       "    </tr>\n",
       "    <tr>\n",
       "      <th>1</th>\n",
       "      <td>2</td>\n",
       "      <td>80</td>\n",
       "    </tr>\n",
       "    <tr>\n",
       "      <th>2</th>\n",
       "      <td>3</td>\n",
       "      <td>85</td>\n",
       "    </tr>\n",
       "    <tr>\n",
       "      <th>3</th>\n",
       "      <td>4</td>\n",
       "      <td>90</td>\n",
       "    </tr>\n",
       "    <tr>\n",
       "      <th>4</th>\n",
       "      <td>5</td>\n",
       "      <td>95</td>\n",
       "    </tr>\n",
       "  </tbody>\n",
       "</table>\n",
       "</div>"
      ],
      "text/plain": [
       "   Amount_of_time_students_study  Final_exam_score:\n",
       "0                              1                 75\n",
       "1                              2                 80\n",
       "2                              3                 85\n",
       "3                              4                 90\n",
       "4                              5                 95"
      ]
     },
     "execution_count": 4,
     "metadata": {},
     "output_type": "execute_result"
    }
   ],
   "source": [
    "df.head()"
   ]
  },
  {
   "cell_type": "code",
   "execution_count": 5,
   "id": "58c1c8f1-2a93-4dc5-a5df-6a8de9316df5",
   "metadata": {},
   "outputs": [
    {
     "data": {
      "text/html": [
       "<div>\n",
       "<style scoped>\n",
       "    .dataframe tbody tr th:only-of-type {\n",
       "        vertical-align: middle;\n",
       "    }\n",
       "\n",
       "    .dataframe tbody tr th {\n",
       "        vertical-align: top;\n",
       "    }\n",
       "\n",
       "    .dataframe thead th {\n",
       "        text-align: right;\n",
       "    }\n",
       "</style>\n",
       "<table border=\"1\" class=\"dataframe\">\n",
       "  <thead>\n",
       "    <tr style=\"text-align: right;\">\n",
       "      <th></th>\n",
       "      <th>Amount_of_time_students_study</th>\n",
       "      <th>Final_exam_score:</th>\n",
       "    </tr>\n",
       "  </thead>\n",
       "  <tbody>\n",
       "    <tr>\n",
       "      <th>Amount_of_time_students_study</th>\n",
       "      <td>1.0</td>\n",
       "      <td>1.0</td>\n",
       "    </tr>\n",
       "    <tr>\n",
       "      <th>Final_exam_score:</th>\n",
       "      <td>1.0</td>\n",
       "      <td>1.0</td>\n",
       "    </tr>\n",
       "  </tbody>\n",
       "</table>\n",
       "</div>"
      ],
      "text/plain": [
       "                               Amount_of_time_students_study  \\\n",
       "Amount_of_time_students_study                            1.0   \n",
       "Final_exam_score:                                        1.0   \n",
       "\n",
       "                               Final_exam_score:  \n",
       "Amount_of_time_students_study                1.0  \n",
       "Final_exam_score:                            1.0  "
      ]
     },
     "execution_count": 5,
     "metadata": {},
     "output_type": "execute_result"
    }
   ],
   "source": [
    "df.corr(method = 'pearson')"
   ]
  },
  {
   "cell_type": "code",
   "execution_count": 6,
   "id": "c62f59dd-a320-4efb-9b3e-261e531c4459",
   "metadata": {},
   "outputs": [],
   "source": [
    "# Since it is 1 so it is positive correlation. Amount of time students study is highly correlated with Final exam score."
   ]
  },
  {
   "cell_type": "markdown",
   "id": "3e74107b-7986-41e7-b602-d3a71f460480",
   "metadata": {},
   "source": [
    "# Q2"
   ]
  },
  {
   "cell_type": "code",
   "execution_count": 7,
   "id": "500bf33d-544a-4af0-973b-280b5e8629b2",
   "metadata": {},
   "outputs": [],
   "source": [
    "data = {'Amount_of_sleep_individual_get':[5,6,7,8,9],'overall_job_satisfaction:':[7,4,6,9,2]}"
   ]
  },
  {
   "cell_type": "code",
   "execution_count": 8,
   "id": "98cdba2f-cb3f-4fbe-b2ae-db1dbdfcf0a7",
   "metadata": {},
   "outputs": [],
   "source": [
    "df = pd.DataFrame(data = data)"
   ]
  },
  {
   "cell_type": "code",
   "execution_count": 9,
   "id": "f57ea90c-abd3-4860-abaa-5a8d25d96af1",
   "metadata": {},
   "outputs": [
    {
     "data": {
      "text/html": [
       "<div>\n",
       "<style scoped>\n",
       "    .dataframe tbody tr th:only-of-type {\n",
       "        vertical-align: middle;\n",
       "    }\n",
       "\n",
       "    .dataframe tbody tr th {\n",
       "        vertical-align: top;\n",
       "    }\n",
       "\n",
       "    .dataframe thead th {\n",
       "        text-align: right;\n",
       "    }\n",
       "</style>\n",
       "<table border=\"1\" class=\"dataframe\">\n",
       "  <thead>\n",
       "    <tr style=\"text-align: right;\">\n",
       "      <th></th>\n",
       "      <th>Amount_of_sleep_individual_get</th>\n",
       "      <th>overall_job_satisfaction:</th>\n",
       "    </tr>\n",
       "  </thead>\n",
       "  <tbody>\n",
       "    <tr>\n",
       "      <th>Amount_of_sleep_individual_get</th>\n",
       "      <td>1.0</td>\n",
       "      <td>-0.3</td>\n",
       "    </tr>\n",
       "    <tr>\n",
       "      <th>overall_job_satisfaction:</th>\n",
       "      <td>-0.3</td>\n",
       "      <td>1.0</td>\n",
       "    </tr>\n",
       "  </tbody>\n",
       "</table>\n",
       "</div>"
      ],
      "text/plain": [
       "                                Amount_of_sleep_individual_get  \\\n",
       "Amount_of_sleep_individual_get                             1.0   \n",
       "overall_job_satisfaction:                                 -0.3   \n",
       "\n",
       "                                overall_job_satisfaction:  \n",
       "Amount_of_sleep_individual_get                       -0.3  \n",
       "overall_job_satisfaction:                             1.0  "
      ]
     },
     "execution_count": 9,
     "metadata": {},
     "output_type": "execute_result"
    }
   ],
   "source": [
    "df.corr(method = 'spearman')"
   ]
  },
  {
   "cell_type": "code",
   "execution_count": 10,
   "id": "c33a0dd2-ca29-4d36-a2eb-d7c4e0e4848f",
   "metadata": {},
   "outputs": [],
   "source": [
    "# It shows negative correlation. As the mount of sleep increases the overall job satisfaction decreases."
   ]
  },
  {
   "cell_type": "markdown",
   "id": "f9300c31-4a1a-43fe-9e8b-9c6bb77b4541",
   "metadata": {},
   "source": [
    "# Q3"
   ]
  },
  {
   "cell_type": "code",
   "execution_count": 11,
   "id": "7e007d03-4208-4388-95be-f6c1ca5217de",
   "metadata": {},
   "outputs": [],
   "source": [
    "data = {'Number_of_hours_exercise_per_week':[1,2,3,4,5],'BMI:':[10,9,8,7,6]}"
   ]
  },
  {
   "cell_type": "code",
   "execution_count": 12,
   "id": "a1cbfb67-5bf6-45a2-8ca4-03c4796e8e95",
   "metadata": {},
   "outputs": [],
   "source": [
    "df = pd.DataFrame(data = data)"
   ]
  },
  {
   "cell_type": "code",
   "execution_count": 13,
   "id": "bd7e7fa3-7001-423b-a46e-2afff4fc05ee",
   "metadata": {},
   "outputs": [
    {
     "data": {
      "text/html": [
       "<div>\n",
       "<style scoped>\n",
       "    .dataframe tbody tr th:only-of-type {\n",
       "        vertical-align: middle;\n",
       "    }\n",
       "\n",
       "    .dataframe tbody tr th {\n",
       "        vertical-align: top;\n",
       "    }\n",
       "\n",
       "    .dataframe thead th {\n",
       "        text-align: right;\n",
       "    }\n",
       "</style>\n",
       "<table border=\"1\" class=\"dataframe\">\n",
       "  <thead>\n",
       "    <tr style=\"text-align: right;\">\n",
       "      <th></th>\n",
       "      <th>Number_of_hours_exercise_per_week</th>\n",
       "      <th>BMI:</th>\n",
       "    </tr>\n",
       "  </thead>\n",
       "  <tbody>\n",
       "    <tr>\n",
       "      <th>Number_of_hours_exercise_per_week</th>\n",
       "      <td>1.0</td>\n",
       "      <td>-1.0</td>\n",
       "    </tr>\n",
       "    <tr>\n",
       "      <th>BMI:</th>\n",
       "      <td>-1.0</td>\n",
       "      <td>1.0</td>\n",
       "    </tr>\n",
       "  </tbody>\n",
       "</table>\n",
       "</div>"
      ],
      "text/plain": [
       "                                   Number_of_hours_exercise_per_week  BMI:\n",
       "Number_of_hours_exercise_per_week                                1.0  -1.0\n",
       "BMI:                                                            -1.0   1.0"
      ]
     },
     "execution_count": 13,
     "metadata": {},
     "output_type": "execute_result"
    }
   ],
   "source": [
    "df.corr(method = 'spearman')"
   ]
  },
  {
   "cell_type": "code",
   "execution_count": 14,
   "id": "ea6f25a6-1b37-4e35-ab33-87549f8a5309",
   "metadata": {},
   "outputs": [],
   "source": [
    "# It shows negative correlation. It means when the number of hours exercise per week increaes the BMI decreaes."
   ]
  },
  {
   "cell_type": "markdown",
   "id": "f271aecf-34a7-4c28-b8eb-38660a8b1b04",
   "metadata": {},
   "source": [
    "# Q4"
   ]
  },
  {
   "cell_type": "code",
   "execution_count": 15,
   "id": "482a986b-869d-4f5a-a14a-ff7055a1d018",
   "metadata": {},
   "outputs": [],
   "source": [
    "data = {'Number_of_hours_person_watch_tv':[1,2,3,4,5],'Level_of_physical_activity:':[10,9,8,7,6]}"
   ]
  },
  {
   "cell_type": "code",
   "execution_count": 16,
   "id": "2a562449-335a-4a74-8d2b-f932c4eb90e0",
   "metadata": {},
   "outputs": [],
   "source": [
    "df = pd.DataFrame(data = data)"
   ]
  },
  {
   "cell_type": "code",
   "execution_count": 17,
   "id": "33b1ca6a-705d-4942-9467-a30ecc090a58",
   "metadata": {},
   "outputs": [
    {
     "data": {
      "text/html": [
       "<div>\n",
       "<style scoped>\n",
       "    .dataframe tbody tr th:only-of-type {\n",
       "        vertical-align: middle;\n",
       "    }\n",
       "\n",
       "    .dataframe tbody tr th {\n",
       "        vertical-align: top;\n",
       "    }\n",
       "\n",
       "    .dataframe thead th {\n",
       "        text-align: right;\n",
       "    }\n",
       "</style>\n",
       "<table border=\"1\" class=\"dataframe\">\n",
       "  <thead>\n",
       "    <tr style=\"text-align: right;\">\n",
       "      <th></th>\n",
       "      <th>Number_of_hours_person_watch_tv</th>\n",
       "      <th>Level_of_physical_activity:</th>\n",
       "    </tr>\n",
       "  </thead>\n",
       "  <tbody>\n",
       "    <tr>\n",
       "      <th>Number_of_hours_person_watch_tv</th>\n",
       "      <td>1.0</td>\n",
       "      <td>-1.0</td>\n",
       "    </tr>\n",
       "    <tr>\n",
       "      <th>Level_of_physical_activity:</th>\n",
       "      <td>-1.0</td>\n",
       "      <td>1.0</td>\n",
       "    </tr>\n",
       "  </tbody>\n",
       "</table>\n",
       "</div>"
      ],
      "text/plain": [
       "                                 Number_of_hours_person_watch_tv  \\\n",
       "Number_of_hours_person_watch_tv                              1.0   \n",
       "Level_of_physical_activity:                                 -1.0   \n",
       "\n",
       "                                 Level_of_physical_activity:  \n",
       "Number_of_hours_person_watch_tv                         -1.0  \n",
       "Level_of_physical_activity:                              1.0  "
      ]
     },
     "execution_count": 17,
     "metadata": {},
     "output_type": "execute_result"
    }
   ],
   "source": [
    "df.corr(method = 'pearson')"
   ]
  },
  {
   "cell_type": "code",
   "execution_count": 18,
   "id": "f3e55c82-f6a2-4a17-94e3-0c058c4193c8",
   "metadata": {},
   "outputs": [],
   "source": [
    "# It shows negative correlation. It means when the Number_of_hours_person_watch_tvk increaes the BMI Level_of_physical_activity."
   ]
  },
  {
   "cell_type": "markdown",
   "id": "a6cf761e-dd6f-468d-9dc5-84f1647611a7",
   "metadata": {},
   "source": [
    "# Q5"
   ]
  },
  {
   "cell_type": "code",
   "execution_count": 24,
   "id": "6f52142c-7e03-4464-a27e-76afacfbab6c",
   "metadata": {},
   "outputs": [],
   "source": [
    "data = {'Number_of_sales_calls_made_per_day':[10,20,30,40,50],'Number of sales made per week':[50,100,150,200,250]}"
   ]
  },
  {
   "cell_type": "code",
   "execution_count": 25,
   "id": "2b61f242-ccee-4d36-bae8-7605c118d619",
   "metadata": {},
   "outputs": [],
   "source": [
    "df = pd.DataFrame(data = data)"
   ]
  },
  {
   "cell_type": "code",
   "execution_count": 26,
   "id": "c2efd553-6be0-4618-a13d-5aa5cf6bc0a8",
   "metadata": {},
   "outputs": [
    {
     "data": {
      "text/html": [
       "<div>\n",
       "<style scoped>\n",
       "    .dataframe tbody tr th:only-of-type {\n",
       "        vertical-align: middle;\n",
       "    }\n",
       "\n",
       "    .dataframe tbody tr th {\n",
       "        vertical-align: top;\n",
       "    }\n",
       "\n",
       "    .dataframe thead th {\n",
       "        text-align: right;\n",
       "    }\n",
       "</style>\n",
       "<table border=\"1\" class=\"dataframe\">\n",
       "  <thead>\n",
       "    <tr style=\"text-align: right;\">\n",
       "      <th></th>\n",
       "      <th>Number_of_sales_calls_made_per_day</th>\n",
       "      <th>Number of sales made per week</th>\n",
       "    </tr>\n",
       "  </thead>\n",
       "  <tbody>\n",
       "    <tr>\n",
       "      <th>Number_of_sales_calls_made_per_day</th>\n",
       "      <td>1.0</td>\n",
       "      <td>1.0</td>\n",
       "    </tr>\n",
       "    <tr>\n",
       "      <th>Number of sales made per week</th>\n",
       "      <td>1.0</td>\n",
       "      <td>1.0</td>\n",
       "    </tr>\n",
       "  </tbody>\n",
       "</table>\n",
       "</div>"
      ],
      "text/plain": [
       "                                    Number_of_sales_calls_made_per_day  \\\n",
       "Number_of_sales_calls_made_per_day                                 1.0   \n",
       "Number of sales made per week                                      1.0   \n",
       "\n",
       "                                    Number of sales made per week  \n",
       "Number_of_sales_calls_made_per_day                            1.0  \n",
       "Number of sales made per week                                 1.0  "
      ]
     },
     "execution_count": 26,
     "metadata": {},
     "output_type": "execute_result"
    }
   ],
   "source": [
    "df.corr(method = 'pearson')"
   ]
  },
  {
   "cell_type": "code",
   "execution_count": null,
   "id": "ce665dfd-d7ab-4ab0-83a4-61e77298aef9",
   "metadata": {},
   "outputs": [],
   "source": []
  }
 ],
 "metadata": {
  "kernelspec": {
   "display_name": "Python 3 (ipykernel)",
   "language": "python",
   "name": "python3"
  },
  "language_info": {
   "codemirror_mode": {
    "name": "ipython",
    "version": 3
   },
   "file_extension": ".py",
   "mimetype": "text/x-python",
   "name": "python",
   "nbconvert_exporter": "python",
   "pygments_lexer": "ipython3",
   "version": "3.10.8"
  }
 },
 "nbformat": 4,
 "nbformat_minor": 5
}
