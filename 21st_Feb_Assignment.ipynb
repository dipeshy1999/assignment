{
 "cells": [
  {
   "cell_type": "markdown",
   "id": "a2ed04f8-8a63-4cfc-849a-f44605f9c6b9",
   "metadata": {},
   "source": [
    "# Q1"
   ]
  },
  {
   "cell_type": "code",
   "execution_count": null,
   "id": "8c522f6e-63e2-4165-9668-45d4bf427cb2",
   "metadata": {},
   "outputs": [],
   "source": [
    "# Web scraping is the process of collecting and parsing raw data from the Web, and the Python community has come up with some pretty \n",
    "# powerful web scraping tools. "
   ]
  },
  {
   "cell_type": "code",
   "execution_count": null,
   "id": "e27d8481-e2be-470f-8dd0-5b79e5f3abfd",
   "metadata": {},
   "outputs": [],
   "source": [
    "# It is used to collect data."
   ]
  },
  {
   "cell_type": "code",
   "execution_count": null,
   "id": "95c80360-64b0-499d-87af-feabb7632df7",
   "metadata": {},
   "outputs": [],
   "source": [
    "# It is used in different areas like"
   ]
  },
  {
   "cell_type": "code",
   "execution_count": null,
   "id": "ac7f7925-5d53-49b5-b687-261301844e3c",
   "metadata": {},
   "outputs": [],
   "source": [
    "# Web Scraping can be used by companies to scrap the product data for their products and competing products as well to see how it impacts \n",
    "# their pricing strategies. Companies can use this data to fix the optimal pricing for their products so that they can obtain maximum revenue."
   ]
  },
  {
   "cell_type": "code",
   "execution_count": null,
   "id": "7114a5b8-9f45-419c-ab63-804b085111c7",
   "metadata": {},
   "outputs": [],
   "source": [
    "# Web scraping can be used for market research by companies. High-quality web scraped data obtained in large volumes can be very helpful for \n",
    "# companies in analyzing consumer trends and understanding which direction the company should move in the future. "
   ]
  },
  {
   "cell_type": "code",
   "execution_count": null,
   "id": "a66116bd-5541-4e82-b246-943f008982b1",
   "metadata": {},
   "outputs": [],
   "source": [
    "# Web scraping news sites can provide detailed reports on the current news to a company. This is even more essential for companies that are \n",
    "#frequently in the news or that depend on daily news for their day-to-day functioning. After all, news reports can make or break a company \n",
    "# in a single day!"
   ]
  },
  {
   "cell_type": "markdown",
   "id": "2ae243de-f6b5-44f8-84d2-bea781fbb22b",
   "metadata": {},
   "source": [
    "# Q2"
   ]
  },
  {
   "cell_type": "code",
   "execution_count": null,
   "id": "a6776f50-d41d-41f8-b777-e73b794c751f",
   "metadata": {},
   "outputs": [],
   "source": [
    "# Web scraping requires two parts, namely the crawler and the scraper. The crawler is an artificial intelligence algorithm that browses the \n",
    "# web to search for the particular data required by following the links across the internet. The scraper, on the other hand, is a specific \n",
    "# tool created to extract data from the website. The design of the scraper can vary greatly according to the complexity and scope of the \n",
    "#project so that it can quickly and accurately extract the data."
   ]
  },
  {
   "cell_type": "markdown",
   "id": "78663f61-5b19-49ec-a9be-7feb949a87b1",
   "metadata": {},
   "source": [
    "# Q3"
   ]
  },
  {
   "cell_type": "code",
   "execution_count": null,
   "id": "eb87503a-7a6d-450e-b870-05e1c77f813a",
   "metadata": {},
   "outputs": [],
   "source": [
    "# Beautiful Soup is a Python package for parsing HTML and XML documents. It creates a parse tree for parsed pages that can be used to \n",
    "# extract data from HTML, which is useful for web scraping."
   ]
  },
  {
   "cell_type": "code",
   "execution_count": null,
   "id": "00738c81-7c70-4504-b782-acd55b2da27c",
   "metadata": {},
   "outputs": [],
   "source": [
    "# It is used to extract data."
   ]
  },
  {
   "cell_type": "markdown",
   "id": "bea13735-5cdf-4008-9088-5e3e2e3e9340",
   "metadata": {},
   "source": [
    "# Q4"
   ]
  },
  {
   "cell_type": "code",
   "execution_count": null,
   "id": "bea743b9-131e-4fd5-9201-e50c150d1f94",
   "metadata": {},
   "outputs": [],
   "source": [
    "# Flask is a lightweight framework to build websites. We'll use this to parse our collected data and display it as HTML in a new HTML file. \n",
    "# The requests module allows us to send http requests to the website we want to scrape. "
   ]
  },
  {
   "cell_type": "markdown",
   "id": "ce0f59e5-bc25-4106-8630-152a412f9fca",
   "metadata": {},
   "source": [
    "# Q5"
   ]
  },
  {
   "cell_type": "code",
   "execution_count": null,
   "id": "2ab2ed00-e030-457e-8a1a-48b6e147e7bf",
   "metadata": {},
   "outputs": [],
   "source": [
    "# Amazon EC2"
   ]
  },
  {
   "cell_type": "code",
   "execution_count": null,
   "id": "f7d7c9c9-9579-455e-a8ca-764f1d686910",
   "metadata": {},
   "outputs": [],
   "source": [
    "# EC2 is a cloud platform provided by Amazon that offers secure, and resizable compute capacity. Its purpose is to enable easy access \n",
    "# and usability to developers for web-scale cloud computing, while allowing for total control of your compute resources."
   ]
  },
  {
   "cell_type": "code",
   "execution_count": null,
   "id": "77a07a5a-2745-43eb-bb3a-3289dee01788",
   "metadata": {},
   "outputs": [],
   "source": [
    "# Amazon RDS (Relational Database Services)"
   ]
  },
  {
   "cell_type": "code",
   "execution_count": null,
   "id": "79994f6c-f521-423b-9cc6-42bb1bd2c0c0",
   "metadata": {},
   "outputs": [],
   "source": [
    "# Amazon Relational Database Service (Amazon RDS) makes database configuration, management, and scaling easy in the cloud. Automate \n",
    "# tedious tasks such as hardware provisioning, database arrangement, patching, and backups – cost-effectively and proportionate to your needs."
   ]
  },
  {
   "cell_type": "code",
   "execution_count": null,
   "id": "39d7008e-e99c-4171-b0b3-47cb1f92bb04",
   "metadata": {},
   "outputs": [],
   "source": [
    "# RDS is available on various database instances which are optimized for performance and memory, providing six familiar database engines \n",
    "# including Amazon Aurora, PostgreSQL, MySQL, MariaDB, Oracle. database, and SQL server. By leveraging the AWS Database Migration Service, \n",
    "# you can easily migrate or reproduce your existing databases to Amazon RDS. Visit Amazon’s RDS page."
   ]
  },
  {
   "cell_type": "code",
   "execution_count": null,
   "id": "0aedf14c-4b01-4aea-acc0-520528c17be8",
   "metadata": {},
   "outputs": [],
   "source": [
    "# Amazon S3 (Simple Storage Service)"
   ]
  },
  {
   "cell_type": "code",
   "execution_count": null,
   "id": "a46e0e4b-74b0-4703-ad68-bd7f18d033ec",
   "metadata": {},
   "outputs": [],
   "source": [
    "# Amazon S3, at its core, facilitates object storage, providing leading scalability, data availability, security, and performance. \n",
    "# Businesses of vast sizes can leverage S3 for storage and protect large sums of data for various use cases, such as websites, applications, \n",
    "# backup, and more."
   ]
  },
  {
   "cell_type": "code",
   "execution_count": null,
   "id": "878ccbb6-3cd3-46bb-a20b-c13152541348",
   "metadata": {},
   "outputs": [],
   "source": [
    "# Amazon Lambda"
   ]
  },
  {
   "cell_type": "code",
   "execution_count": null,
   "id": "0593c88e-b045-4548-b89c-aa580e72e0a2",
   "metadata": {},
   "outputs": [],
   "source": [
    "# Lambda permits you to run code without owning or managing servers. Users only pay for the compute time consumed.\n",
    "# Operate code for nearly any application or backend utility without administration. Users just upload the code, and Lambda \n",
    "# does the rest, which provides precise software scaling and extensive availability."
   ]
  },
  {
   "cell_type": "code",
   "execution_count": null,
   "id": "48b7176d-1430-4028-b3d6-f9be640b6de0",
   "metadata": {},
   "outputs": [],
   "source": [
    "# Amazon cognito"
   ]
  },
  {
   "cell_type": "code",
   "execution_count": null,
   "id": "89410a51-b69c-42a0-916b-851b060f8451",
   "metadata": {},
   "outputs": [],
   "source": [
    "# AWS Cognito administers a control access dashboard for on-boarding users through sign-up, and sign-in features to their web and mobile apps. \n",
    "# AWS Cognito scales to millions of users and offers sign-in support with social identity providers including Facebook, Google, and Amazon, \n",
    "# along with enterprise identity providers via SAML 2.0."
   ]
  },
  {
   "cell_type": "code",
   "execution_count": null,
   "id": "950fb0ae-786b-4be0-9da8-9cc7aa750ef4",
   "metadata": {},
   "outputs": [],
   "source": [
    "# Amazon Glacier"
   ]
  },
  {
   "cell_type": "code",
   "execution_count": null,
   "id": "023c623a-cdbf-4731-b3fc-4b74a1a04ffa",
   "metadata": {},
   "outputs": [],
   "source": [
    "# AWS Glacier services are secure, flexible, and affordable Amazon S3 cloud storage classes for data caching and prolonged backup. These storage \n",
    "# classes ensure confident delivery while ensuring comprehensive security and compliance capabilities, while fulfilling the regulatory prerequisites.\n",
    "# Users can store as little as $1 per terabyte monthly; meanwhile, helping them save both up-front and long-term when compared to their on-premises \n",
    "# servers."
   ]
  },
  {
   "cell_type": "code",
   "execution_count": null,
   "id": "ff80887a-7066-41d0-9c81-ef583f000999",
   "metadata": {},
   "outputs": [],
   "source": [
    "# Amazon SNS"
   ]
  },
  {
   "cell_type": "code",
   "execution_count": null,
   "id": "5eef94e6-3e8c-4f02-b93e-888dddfc9946",
   "metadata": {},
   "outputs": [],
   "source": [
    "# Amazon SNS is a fully managed messaging solution that provides low-cost infrastructure for bulk message delivery, primarily to mobile users. \n",
    "# Users can chat directly with customers through system-to-system or app-to-person communication between decoupled microservice apps."
   ]
  },
  {
   "cell_type": "code",
   "execution_count": null,
   "id": "6dcf348d-d9b4-4f7b-abba-691715c3ec95",
   "metadata": {},
   "outputs": [],
   "source": [
    "# Amazon Lightsail"
   ]
  },
  {
   "cell_type": "code",
   "execution_count": null,
   "id": "c964365c-0e91-4bfd-855b-73d5a3685e27",
   "metadata": {},
   "outputs": [],
   "source": [
    "# Amazon Lightsail is an easy on-ramp for users who are getting started with AWS and just need virtual private servers. \n",
    "# Lightsail has the tools required for a speedy product launch at a low and predictable price.\n",
    "# The resources included in Lightsail are virtual machines, SSD-based storage, data transfer, DNS management, and a static IP. \n",
    "# After the provision of an instance, you can easily manage them within the Lightsail console, Lightsail API, or Lightsail command line interface."
   ]
  },
  {
   "cell_type": "code",
   "execution_count": null,
   "id": "0ccab07e-ada0-4b13-a255-c7ae32ea86e3",
   "metadata": {},
   "outputs": [],
   "source": [
    "# Amazon VPC"
   ]
  },
  {
   "cell_type": "code",
   "execution_count": null,
   "id": "4671c76c-95f8-4ae4-af5d-6da4734c7649",
   "metadata": {},
   "outputs": [],
   "source": [
    "# Amazon VPC enables you to set up a reasonably isolated section of the AWS Cloud where you can deploy AWS resources at scale in a virtual \n",
    "# environment. VPC gives you total control over your environment, which includes the option to choose your own IP address range, creation of\n",
    "# subsets, and arrangement of route tables and network access points.\n",
    "# Easily customize the network configuration of your VPC with flexible dashboard management controls designed for maximum usability. For example,\n",
    "# users can launch public-facing subnet for web servers with internet access."
   ]
  },
  {
   "cell_type": "code",
   "execution_count": null,
   "id": "ccba88cb-9602-4db6-be59-d49a7a026d52",
   "metadata": {},
   "outputs": [],
   "source": []
  }
 ],
 "metadata": {
  "kernelspec": {
   "display_name": "Python 3 (ipykernel)",
   "language": "python",
   "name": "python3"
  },
  "language_info": {
   "codemirror_mode": {
    "name": "ipython",
    "version": 3
   },
   "file_extension": ".py",
   "mimetype": "text/x-python",
   "name": "python",
   "nbconvert_exporter": "python",
   "pygments_lexer": "ipython3",
   "version": "3.10.8"
  }
 },
 "nbformat": 4,
 "nbformat_minor": 5
}
