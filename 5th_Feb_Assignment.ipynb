{
 "cells": [
  {
   "cell_type": "markdown",
   "id": "5caa83b5-ee71-4f89-bacf-f798384e0931",
   "metadata": {},
   "source": [
    "# Q1"
   ]
  },
  {
   "cell_type": "code",
   "execution_count": 1,
   "id": "847a9c83-7fed-42ed-a53e-366b441f92ab",
   "metadata": {},
   "outputs": [],
   "source": [
    "# A class is a user-defined blueprint or prototype from which objects are created. Classes provide a means of bundling data and functionality \n",
    "# together. Creating a new class creates a new type of object, allowing new instances of that type to be made. Each class instance can have \n",
    "# attributes attached to it for maintaining its state. Class instances can also have methods (defined by their class) for modifying their state."
   ]
  },
  {
   "cell_type": "code",
   "execution_count": null,
   "id": "7793b75a-07ff-41d8-9e1f-75b4833a15d4",
   "metadata": {},
   "outputs": [],
   "source": [
    "# An Object is an instance of a Class. A class is like a blueprint while an instance is a copy of the class with actual values. It’s not an \n",
    "# idea anymore, it’s an actual dog, like a dog of breed pug who’s seven years old. You can have many dogs to create many different instances, \n",
    "# but without the class as a guide, you would be lost, not knowing what information is required."
   ]
  },
  {
   "cell_type": "code",
   "execution_count": 2,
   "id": "cc87f398-bb6d-4e4e-9874-25a5c19d17b0",
   "metadata": {},
   "outputs": [
    {
     "name": "stdout",
     "output_type": "stream",
     "text": [
      "mammal\n",
      "I'm a mammal\n",
      "I'm a dog\n"
     ]
    }
   ],
   "source": [
    "class Dog:\n",
    "\n",
    "\tattr1 = \"mammal\"\n",
    "\tattr2 = \"dog\"\n",
    "\n",
    "\tdef fun(self):\n",
    "\t\tprint(\"I'm a\", self.attr1)\n",
    "\t\tprint(\"I'm a\", self.attr2)\n",
    "\n",
    "Rodger = Dog()\n",
    "\n",
    "print(Rodger.attr1)\n",
    "Rodger.fun()"
   ]
  },
  {
   "cell_type": "markdown",
   "id": "2863c67c-9716-4fcf-aa39-4ab61318670c",
   "metadata": {},
   "source": [
    "# Q2"
   ]
  },
  {
   "cell_type": "code",
   "execution_count": null,
   "id": "0a43f594-907b-4b89-a76e-5c3b7eddeac1",
   "metadata": {},
   "outputs": [],
   "source": [
    "# 4 pillars of opps are the following"
   ]
  },
  {
   "cell_type": "code",
   "execution_count": null,
   "id": "38167d8b-95ae-492d-9003-169403383c0f",
   "metadata": {},
   "outputs": [],
   "source": [
    "# Abstraction -> Quite simply, abstraction is the concept of wrapping up complex actions in simple verbs. Describe each thing you’ve \n",
    "# abstracted clearly,and hide the complexity. "
   ]
  },
  {
   "cell_type": "code",
   "execution_count": 3,
   "id": "6d19ad65-410f-4ecb-b8b7-044e9cb44c35",
   "metadata": {},
   "outputs": [],
   "source": [
    "# Encapsulation -> As much as you can, keep state and logic internal. This can mean have as few attr readers as possible, or as few \n",
    "# instance vars as possible. The less you have to keep track off at any given time, the better."
   ]
  },
  {
   "cell_type": "code",
   "execution_count": null,
   "id": "80756575-9a74-4d60-9c2b-4c77b7ac5e2c",
   "metadata": {},
   "outputs": [],
   "source": [
    "# Inheritance -> Classes can have parent classes. Child classes will inherit all of the behavior and attributes of the parent class. \n",
    "# Child classes can then choose to overwrite some of those as necessary."
   ]
  },
  {
   "cell_type": "code",
   "execution_count": null,
   "id": "2f2b0083-1eeb-45e6-82fb-3b6165ffb9a9",
   "metadata": {},
   "outputs": [],
   "source": [
    "# Polymorphism -> The condition of occuring in different forms"
   ]
  },
  {
   "cell_type": "markdown",
   "id": "12db477d-4def-4c25-9dcf-395921b43c1e",
   "metadata": {},
   "source": [
    "# Q3"
   ]
  },
  {
   "cell_type": "code",
   "execution_count": null,
   "id": "022d8f7c-eca6-4af1-ac48-3116b9db4c80",
   "metadata": {},
   "outputs": [],
   "source": [
    "# The __init__ method is the Python equivalent of the C++ constructor in an object-oriented approach. The __init__  function is called every time \n",
    "# an object is created from a class. The __init__ method lets the class initialize the object’s attributes and serves no other purpose. \n",
    "# It is only used within classes. "
   ]
  },
  {
   "cell_type": "code",
   "execution_count": 4,
   "id": "f1f79a17-9e55-4ad3-9d61-3d37d3bdf32b",
   "metadata": {},
   "outputs": [
    {
     "name": "stdout",
     "output_type": "stream",
     "text": [
      "John\n",
      "36\n"
     ]
    }
   ],
   "source": [
    "class Person:\n",
    "  def __init__(self, name, age):\n",
    "    self.name = name\n",
    "    self.age = age\n",
    "\n",
    "p1 = Person(\"John\", 36)\n",
    "\n",
    "print(p1.name)\n",
    "print(p1.age)"
   ]
  },
  {
   "cell_type": "markdown",
   "id": "e9a133e7-4f09-42ce-b9c4-d84b6563e4ee",
   "metadata": {},
   "source": [
    "# Q4"
   ]
  },
  {
   "cell_type": "code",
   "execution_count": null,
   "id": "bca934f3-5a69-4950-92b0-2f04c7fbf830",
   "metadata": {},
   "outputs": [],
   "source": [
    "# Unlike this variable in C++, self is not a keyword rather it is more of a coding convention. It represents the instance or objects of a \n",
    "# class and binds the attributes of a class with specific arguments. The use of self variable in Python helps to differentiate between the \n",
    "# instance attributes (and methods) and local variables. "
   ]
  },
  {
   "cell_type": "code",
   "execution_count": 6,
   "id": "ce9ec4bb-d742-4fb9-aec9-5c198285c947",
   "metadata": {},
   "outputs": [
    {
     "name": "stdout",
     "output_type": "stream",
     "text": [
      "Hello, my name is Nikhil\n"
     ]
    }
   ],
   "source": [
    "# A Sample class with init method\n",
    "class Person:\n",
    "\n",
    "\t# init method or constructor\n",
    "\tdef __init__(self, name):\n",
    "\t\tself.name = name\n",
    "\n",
    "\t# Sample Method\n",
    "\tdef say_hi(self):\n",
    "\t\tprint('Hello, my name is', self.name)\n",
    "\n",
    "\n",
    "p = Person('Nikhil')\n",
    "p.say_hi()"
   ]
  },
  {
   "cell_type": "markdown",
   "id": "a548d8e2-476c-4d11-9f5b-7db0b0191b4d",
   "metadata": {},
   "source": [
    "# Q5"
   ]
  },
  {
   "cell_type": "code",
   "execution_count": null,
   "id": "d1aa3148-c44c-4c7a-a410-42a4c4efb911",
   "metadata": {},
   "outputs": [],
   "source": [
    "# It is a mechanism that allows you to create a hierarchy of classes that share a set of properties and methods by deriving a class from another \n",
    "# class. Inheritance is the capability of one class to derive or inherit the properties from another class. "
   ]
  },
  {
   "cell_type": "code",
   "execution_count": 7,
   "id": "4171b2f4-ab71-4103-8a02-d3808710f84e",
   "metadata": {},
   "outputs": [
    {
     "name": "stdout",
     "output_type": "stream",
     "text": [
      "This function is defined inside the parent class.\n",
      "This function is defined inside the child class.\n"
     ]
    }
   ],
   "source": [
    "# Python program for demonstrating single inheritance  \n",
    "  \n",
    "# Here, we will create the base class or the Parent class  \n",
    "class Parent1:  \n",
    "    def func_1(self):  \n",
    "        print (\"This function is defined inside the parent class.\")  \n",
    "  \n",
    "# now, we will create the Derived class  \n",
    "class Child1(Parent1):  \n",
    "    def func_2(self):  \n",
    "        print (\"This function is defined inside the child class.\")  \n",
    "  \n",
    "# Driver's code  \n",
    "object = Child1()  \n",
    "object.func_1()  \n",
    "object.func_2()  "
   ]
  },
  {
   "cell_type": "code",
   "execution_count": 8,
   "id": "5035b52a-2831-4d4d-a112-335a1c36d3eb",
   "metadata": {},
   "outputs": [
    {
     "name": "stdout",
     "output_type": "stream",
     "text": [
      "Father name is : Rajesh\n",
      "Mother name is : Shreya\n"
     ]
    }
   ],
   "source": [
    "# Python program for demonstrating multiple inheritance  \n",
    "  \n",
    "  \n",
    "# Here, we will create the Base class 1  \n",
    "class Mother1:  \n",
    "    mothername1 = \"\"  \n",
    "    def mother1(self):  \n",
    "        print(self.mothername1)  \n",
    "  \n",
    "# Here, we will create the Base class 2  \n",
    "class Father1:  \n",
    "    fathername1 = \"\"  \n",
    "    def father1(self):  \n",
    "        print(self.fathername1)  \n",
    "  \n",
    "# now, we will create the Derived class  \n",
    "class Son1(Mother1, Father1):  \n",
    "    def parents1(self):  \n",
    "        print (\"Father name is :\", self.fathername1)  \n",
    "        print (\"Mother name is :\", self.mothername1)  \n",
    "  \n",
    "# Driver's code  \n",
    "s1 = Son1()  \n",
    "s1.fathername1 = \"Rajesh\"  \n",
    "s1.mothername1 = \"Shreya\"  \n",
    "s1.parents1()  "
   ]
  },
  {
   "cell_type": "code",
   "execution_count": 9,
   "id": "3b15c6e5-05be-490d-84c0-1ca972dffa84",
   "metadata": {},
   "outputs": [
    {
     "name": "stdout",
     "output_type": "stream",
     "text": [
      "John Jr Jr\n",
      "Grandfather name is : John Jr Jr\n",
      "Father name is : John Jr\n",
      "Son name is : John\n"
     ]
    }
   ],
   "source": [
    "# Python program for demonstrating multilevel inheritance  \n",
    "  \n",
    "# Here, we will create the Base class   \n",
    "class Grandfather1:  \n",
    "  \n",
    "    def __init__(self, grandfathername1):  \n",
    "        self.grandfathername1 = grandfathername1  \n",
    "  \n",
    "# here, we will create the Intermediate class  \n",
    "class Father1(Grandfather1):  \n",
    "    def __init__(self, fathername1, grandfathername1):  \n",
    "        self.fathername1 = fathername1  \n",
    "  \n",
    "        # here, we will invoke the constructor of Grandfather class  \n",
    "        Grandfather1.__init__(self, grandfathername1)  \n",
    "  \n",
    "# here, we will create the Derived class  \n",
    "class Son1(Father1):  \n",
    "    def __init__(self,sonname1, fathername1, grandfathername1):  \n",
    "        self.sonname1 = sonname1  \n",
    "  \n",
    "        # here, we will invoke the constructor of Father class  \n",
    "        Father1.__init__(self, fathername1, grandfathername1)  \n",
    "  \n",
    "    def print_name(self):  \n",
    "        print('Grandfather name is :', self.grandfathername1)  \n",
    "        print(\"Father name is :\", self.fathername1)  \n",
    "        print(\"Son name is :\", self.sonname1)  \n",
    "  \n",
    "# Driver code  \n",
    "s1 = Son1('John', 'John Jr', 'John Jr Jr')  \n",
    "print (s1.grandfathername1)  \n",
    "s1.print_name()  "
   ]
  },
  {
   "cell_type": "code",
   "execution_count": 10,
   "id": "d549cbf4-8f64-4efa-82db-2112af6f34dd",
   "metadata": {},
   "outputs": [
    {
     "name": "stdout",
     "output_type": "stream",
     "text": [
      "This function is defined inside the parent class.\n",
      "This function is defined inside the child 1.\n",
      "This function is defined inside the parent class.\n",
      "This function is defined inside the child 2.\n"
     ]
    }
   ],
   "source": [
    "# Python program for demonstrating Hierarchical inheritance  \n",
    "  \n",
    "# Here, we will create the Base class   \n",
    "class Parent1:  \n",
    "    def func_1(self):  \n",
    "        print (\"This function is defined inside the parent class.\")  \n",
    "  \n",
    "# Derived class1  \n",
    "class Child_1(Parent1):  \n",
    "    def func_2(self):  \n",
    "        print (\"This function is defined inside the child 1.\")  \n",
    "  \n",
    "# Derivied class2  \n",
    "class Child_2(Parent1):  \n",
    "    def func_3(self):  \n",
    "        print (\"This function is defined inside the child 2.\")  \n",
    "  \n",
    "# Driver's code  \n",
    "object1 = Child_1()  \n",
    "object2 = Child_2()  \n",
    "object1.func_1()  \n",
    "object1.func_2()  \n",
    "object2.func_1()  \n",
    "object2.func_3()  "
   ]
  },
  {
   "cell_type": "code",
   "execution_count": null,
   "id": "9ee6f93d-443d-4d27-b7c9-7f45d3b1fcac",
   "metadata": {},
   "outputs": [],
   "source": []
  }
 ],
 "metadata": {
  "kernelspec": {
   "display_name": "Python 3 (ipykernel)",
   "language": "python",
   "name": "python3"
  },
  "language_info": {
   "codemirror_mode": {
    "name": "ipython",
    "version": 3
   },
   "file_extension": ".py",
   "mimetype": "text/x-python",
   "name": "python",
   "nbconvert_exporter": "python",
   "pygments_lexer": "ipython3",
   "version": "3.10.8"
  }
 },
 "nbformat": 4,
 "nbformat_minor": 5
}
