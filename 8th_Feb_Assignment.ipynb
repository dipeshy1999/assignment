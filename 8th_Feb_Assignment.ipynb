{
 "cells": [
  {
   "cell_type": "markdown",
   "id": "b7e4b220-6d78-41f5-95b5-0167e10b1865",
   "metadata": {},
   "source": [
    "# Q1"
   ]
  },
  {
   "cell_type": "code",
   "execution_count": null,
   "id": "08151ac6-8773-4fea-a95e-28f31804e536",
   "metadata": {},
   "outputs": [],
   "source": [
    "# Abstraction is used to hide the internal functionality of the function from the users. The users only interact with the basic \n",
    "# implementation of the function, but inner working is hidden.\n",
    "# User is familiar with that \"what function does\" but they don't know \"how it does."
   ]
  },
  {
   "cell_type": "code",
   "execution_count": 1,
   "id": "70ec46f7-d9e1-4b4b-818f-8123f05eb620",
   "metadata": {},
   "outputs": [
    {
     "name": "stdout",
     "output_type": "stream",
     "text": [
      "I have 3 sides\n",
      "I have 4 sides\n",
      "I have 5 sides\n",
      "I have 6 sides\n"
     ]
    }
   ],
   "source": [
    "# Python program showing\n",
    "# abstract base class work\n",
    "\n",
    "from abc import ABC, abstractmethod\n",
    "\n",
    "class Polygon(ABC):\n",
    "\n",
    "\t@abstractmethod\n",
    "\tdef noofsides(self):\n",
    "\t\tpass\n",
    "\n",
    "class Triangle(Polygon):\n",
    "\n",
    "\t# overriding abstract method\n",
    "\tdef noofsides(self):\n",
    "\t\tprint(\"I have 3 sides\")\n",
    "\n",
    "class Pentagon(Polygon):\n",
    "\n",
    "\t# overriding abstract method\n",
    "\tdef noofsides(self):\n",
    "\t\tprint(\"I have 5 sides\")\n",
    "\n",
    "class Hexagon(Polygon):\n",
    "\n",
    "\t# overriding abstract method\n",
    "\tdef noofsides(self):\n",
    "\t\tprint(\"I have 6 sides\")\n",
    "\n",
    "class Quadrilateral(Polygon):\n",
    "\n",
    "\t# overriding abstract method\n",
    "\tdef noofsides(self):\n",
    "\t\tprint(\"I have 4 sides\")\n",
    "\n",
    "# Driver code\n",
    "R = Triangle()\n",
    "R.noofsides()\n",
    "\n",
    "K = Quadrilateral()\n",
    "K.noofsides()\n",
    "\n",
    "R = Pentagon()\n",
    "R.noofsides()\n",
    "\n",
    "K = Hexagon()\n",
    "K.noofsides()"
   ]
  },
  {
   "cell_type": "markdown",
   "id": "8c190d8f-2f96-4fac-88b5-6c4e8ddf7d7d",
   "metadata": {},
   "source": [
    "# Q2"
   ]
  },
  {
   "cell_type": "code",
   "execution_count": null,
   "id": "c2f7fa08-6f12-4e72-962e-80646a782ccc",
   "metadata": {},
   "outputs": [],
   "source": [
    "# Abstraction works on the design level.               Encapsulation works on the application level."
   ]
  },
  {
   "cell_type": "code",
   "execution_count": null,
   "id": "6e09056e-01d2-4b8d-bc03-0c29ebb91f24",
   "metadata": {},
   "outputs": [],
   "source": [
    "# Abstraction is implemented to hide unnecessary       Encapsulation is the mechanism of hiding the code \n",
    "# data and withdrawing relevant data.                  and the data together from the outside world or misuse."
   ]
  },
  {
   "cell_type": "code",
   "execution_count": null,
   "id": "1df2b527-f72b-4457-a9ed-9d39c5826fc1",
   "metadata": {},
   "outputs": [],
   "source": [
    "# It highlights what the work of an object              It focuses on the inner details of how the object works. \n",
    "# instead of how the object works is                    Modifications can be done later to the settings."
   ]
  },
  {
   "cell_type": "code",
   "execution_count": null,
   "id": "4ec18bfb-1e13-4a66-b16e-90735505c6b2",
   "metadata": {},
   "outputs": [],
   "source": [
    "# Abstraction focuses on outside viewing,               Encapsulation focuses on internal working or inner viewing, \n",
    "# for example, shifting the car.                        for example, the production of the car."
   ]
  },
  {
   "cell_type": "code",
   "execution_count": null,
   "id": "2fbdccf5-d6dd-4045-96a3-69f6fc719095",
   "metadata": {},
   "outputs": [],
   "source": [
    "# Abstraction is supported in Java with the             Encapsulation is supported using, e.g. public, private \n",
    "# interface and the abstract class.                     and secure access modification systems."
   ]
  },
  {
   "cell_type": "markdown",
   "id": "20cc75d2-0f3c-4cd4-8ded-c02206a150dc",
   "metadata": {},
   "source": [
    "# Q3"
   ]
  },
  {
   "cell_type": "code",
   "execution_count": null,
   "id": "807791ad-6f3d-4e71-9d0c-74bc2578da9d",
   "metadata": {},
   "outputs": [],
   "source": [
    "#  The 'abc' module in Python library provides the infrastructure for defining custom abstract base classes.\n",
    "# The main goal of the abstract base class is to provide a standardized way to test whether an object adheres \n",
    "# to a given specification. It can also prevent any attempt to instantiate a subclass that doesn’t override a\n",
    "# particular method in the superclass. And finally, using an abstract class, a class can derive identity from \n",
    "# another class without any object inheritance."
   ]
  },
  {
   "cell_type": "markdown",
   "id": "5df44ff7-16d5-415a-9a5e-5161447ed67c",
   "metadata": {},
   "source": [
    "# Q4"
   ]
  },
  {
   "cell_type": "code",
   "execution_count": null,
   "id": "605c2e8b-2b39-473b-bc90-a3bb8bab9d77",
   "metadata": {},
   "outputs": [],
   "source": [
    "# Data abstraction can be achieved by using abstract class in python"
   ]
  },
  {
   "cell_type": "code",
   "execution_count": 3,
   "id": "30e2952c-ff3a-4e28-a566-940399f3612d",
   "metadata": {},
   "outputs": [
    {
     "name": "stdout",
     "output_type": "stream",
     "text": [
      "The mileage is 30kmph\n",
      "The mileage is 27kmph \n",
      "The mileage is 25kmph \n",
      "The mileage is 24kmph \n"
     ]
    }
   ],
   "source": [
    "# Python program demonstrate  \n",
    "# abstract base class work   \n",
    "from abc import ABC, abstractmethod   \n",
    "class Car(ABC):   \n",
    "    def mileage(self):   \n",
    "        pass  \n",
    "  \n",
    "class Tesla(Car):   \n",
    "    def mileage(self):   \n",
    "        print(\"The mileage is 30kmph\")   \n",
    "class Suzuki(Car):   \n",
    "    def mileage(self):   \n",
    "        print(\"The mileage is 25kmph \")   \n",
    "class Duster(Car):   \n",
    "     def mileage(self):   \n",
    "        print(\"The mileage is 24kmph \")   \n",
    "  \n",
    "class Renault(Car):   \n",
    "    def mileage(self):   \n",
    "            print(\"The mileage is 27kmph \")   \n",
    "          \n",
    "# Driver code   \n",
    "t= Tesla ()   \n",
    "t.mileage()   \n",
    "  \n",
    "r = Renault()   \n",
    "r.mileage()   \n",
    "  \n",
    "s = Suzuki()   \n",
    "s.mileage()   \n",
    "d = Duster()   \n",
    "d.mileage()  "
   ]
  },
  {
   "cell_type": "markdown",
   "id": "0eaadc56-6723-4a9b-8bcd-5c26f28cfbd4",
   "metadata": {},
   "source": [
    "# Q5"
   ]
  },
  {
   "cell_type": "code",
   "execution_count": null,
   "id": "a3659302-4724-4a12-9ec1-f97a08f2a7a5",
   "metadata": {},
   "outputs": [],
   "source": [
    "# Abstract classes are not complete, as they may have some methods that are not defined. So we cannot create an instance or object of an \n",
    "# abstract class in Python. If we try to instantiate the abstract class, it raises an error."
   ]
  },
  {
   "cell_type": "code",
   "execution_count": null,
   "id": "88ef3a9f-ffa7-4c0c-aff3-132028500a68",
   "metadata": {},
   "outputs": [],
   "source": []
  }
 ],
 "metadata": {
  "kernelspec": {
   "display_name": "Python 3 (ipykernel)",
   "language": "python",
   "name": "python3"
  },
  "language_info": {
   "codemirror_mode": {
    "name": "ipython",
    "version": 3
   },
   "file_extension": ".py",
   "mimetype": "text/x-python",
   "name": "python",
   "nbconvert_exporter": "python",
   "pygments_lexer": "ipython3",
   "version": "3.10.8"
  }
 },
 "nbformat": 4,
 "nbformat_minor": 5
}
