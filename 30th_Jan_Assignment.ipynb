{
 "cells": [
  {
   "cell_type": "markdown",
   "id": "ccb474d0-11bc-4f0b-86a7-df219202a924",
   "metadata": {},
   "source": [
    "# Q1"
   ]
  },
  {
   "cell_type": "code",
   "execution_count": 3,
   "id": "1c311456-3067-445f-8699-36348635d55c",
   "metadata": {},
   "outputs": [
    {
     "name": "stdin",
     "output_type": "stream",
     "text": [
      "Enter the percentage: 97\n"
     ]
    },
    {
     "name": "stdout",
     "output_type": "stream",
     "text": [
      "A\n"
     ]
    }
   ],
   "source": [
    "n = int(input(\"Enter the percentage:\"))\n",
    "if n>90:\n",
    "    print(\"A\")\n",
    "elif n>80 and n<=90:\n",
    "    print(\"B\")\n",
    "elif n>=60 and n<=80:\n",
    "    print(\"C\")\n",
    "else:\n",
    "    print(\"D\")"
   ]
  },
  {
   "cell_type": "markdown",
   "id": "75ec5783-b79c-4a6f-8ed0-b0aed67d4a63",
   "metadata": {},
   "source": [
    "# Q2"
   ]
  },
  {
   "cell_type": "code",
   "execution_count": 4,
   "id": "d55063aa-74c0-4d97-92b3-fe2ddfe0e1a8",
   "metadata": {},
   "outputs": [
    {
     "name": "stdin",
     "output_type": "stream",
     "text": [
      "Enter the cost price of bike: 100000000\n"
     ]
    },
    {
     "name": "stdout",
     "output_type": "stream",
     "text": [
      "15%\n"
     ]
    }
   ],
   "source": [
    "n = int(input(\"Enter the cost price of bike:\"))\n",
    "if n>100000:\n",
    "    print(\"15%\")\n",
    "elif n>50000 and n<=100000:\n",
    "    print(\"10%\")\n",
    "else:\n",
    "    print(\"5%\")"
   ]
  },
  {
   "cell_type": "markdown",
   "id": "6c58d9c1-834d-44ae-9afb-e174b4cc28bf",
   "metadata": {},
   "source": [
    "# Q3"
   ]
  },
  {
   "cell_type": "code",
   "execution_count": 5,
   "id": "5dfced83-fb10-4c2e-84d6-499ee71fea2b",
   "metadata": {},
   "outputs": [
    {
     "name": "stdin",
     "output_type": "stream",
     "text": [
      "Enter name of any city: Delhi\n"
     ]
    },
    {
     "name": "stdout",
     "output_type": "stream",
     "text": [
      "Red Fort\n"
     ]
    }
   ],
   "source": [
    "n = input(\"Enter name of any city:\")\n",
    "if n == \"Delhi\":\n",
    "    print(\"Red Fort\")\n",
    "elif n == \"Agra\":\n",
    "    print(\"Taj Mahal\")\n",
    "elif n == \"Jaipur\":\n",
    "    print(\"Jal Mahal\")\n",
    "else:\n",
    "    print(\"Please enter Delhi or Agra or Jaipur\")"
   ]
  },
  {
   "cell_type": "markdown",
   "id": "4e7f73a0-0626-4cf9-b97f-bff7b82df7dc",
   "metadata": {},
   "source": [
    "# Q5"
   ]
  },
  {
   "cell_type": "code",
   "execution_count": null,
   "id": "bb80e90a-3eec-4237-9e0e-3790f95e7fab",
   "metadata": {},
   "outputs": [],
   "source": [
    "# We should use while loop when we don't know the number of iterations needed in advance.\n",
    "# Example:- A program to reverse a number\n",
    "# Here we don't know the number of digits in the number which user will give us in advance"
   ]
  },
  {
   "cell_type": "code",
   "execution_count": 6,
   "id": "8e80ae30-0ede-4e90-b80e-c8e2f549930c",
   "metadata": {},
   "outputs": [
    {
     "name": "stdin",
     "output_type": "stream",
     "text": [
      "Enter the integer number:  123\n"
     ]
    },
    {
     "name": "stdout",
     "output_type": "stream",
     "text": [
      "The reverse number is : 321\n"
     ]
    }
   ],
   "source": [
    "# Ask for enter the number from the use  \n",
    "number = int(input(\"Enter the integer number: \"))  \n",
    "  \n",
    "# Initiate value to null  \n",
    "revs_number = 0  \n",
    "  \n",
    "# reverse the integer number using the while loop  \n",
    "  \n",
    "while (number > 0):  \n",
    "    # Logic  \n",
    "    remainder = number % 10  \n",
    "    revs_number = (revs_number * 10) + remainder  \n",
    "    number = number // 10  \n",
    "  \n",
    "# Display the result  \n",
    "print(\"The reverse number is : {}\".format(revs_number))  "
   ]
  },
  {
   "cell_type": "markdown",
   "id": "1a6ceff9-ff0c-4839-ab0e-1db72afd9f8f",
   "metadata": {},
   "source": [
    "# Q6"
   ]
  },
  {
   "cell_type": "markdown",
   "id": "ba8327dc-ecef-44a5-9292-e92247a36db1",
   "metadata": {},
   "source": [
    "# Pattern 1"
   ]
  },
  {
   "cell_type": "code",
   "execution_count": 7,
   "id": "95a8f13c-0e11-4c17-8bb2-4dca0d6d03ad",
   "metadata": {},
   "outputs": [
    {
     "name": "stdin",
     "output_type": "stream",
     "text": [
      "Enter number of rows :  5\n"
     ]
    },
    {
     "name": "stdout",
     "output_type": "stream",
     "text": [
      "* \n",
      "* * \n",
      "* * * \n",
      "* * * * \n",
      "* * * * * \n"
     ]
    }
   ],
   "source": [
    "n = int(input('Enter number of rows : '))\n",
    " \n",
    "i = 1\n",
    "while i <= n :\n",
    "    j = 1\n",
    "    while j <= i:\n",
    "        print(\"*\", end = \" \")\n",
    "        j += 1\n",
    "    print()\n",
    "    i += 1"
   ]
  },
  {
   "cell_type": "markdown",
   "id": "9fefac20-196d-4664-8c1a-4d62744a2ef0",
   "metadata": {},
   "source": [
    "# Pattern 2"
   ]
  },
  {
   "cell_type": "code",
   "execution_count": 8,
   "id": "76534b4b-0877-49c4-a738-0d65a3cc66fc",
   "metadata": {},
   "outputs": [
    {
     "name": "stdin",
     "output_type": "stream",
     "text": [
      "Enter number of rows :  5\n"
     ]
    },
    {
     "name": "stdout",
     "output_type": "stream",
     "text": [
      "* * * * * \n",
      "* * * * \n",
      "* * * \n",
      "* * \n",
      "* \n"
     ]
    }
   ],
   "source": [
    "n = int(input('Enter number of rows : '))\n",
    " \n",
    "i = 1\n",
    "while i <= n :\n",
    "    j = n\n",
    "    while j >= i:\n",
    "        print(\"*\", end = \" \")\n",
    "        j -= 1\n",
    "    print()\n",
    "    i += 1"
   ]
  },
  {
   "cell_type": "markdown",
   "id": "4aa3e0a0-90ba-4ca9-84e4-ce4249f990bc",
   "metadata": {},
   "source": [
    "# Pattern 3"
   ]
  },
  {
   "cell_type": "code",
   "execution_count": 11,
   "id": "8105b8f6-1320-4330-90ff-8f77fae4f43f",
   "metadata": {},
   "outputs": [
    {
     "name": "stdout",
     "output_type": "stream",
     "text": [
      "    * \n",
      "   * * \n",
      "  * * * \n",
      " * * * * \n",
      "* * * * * \n",
      "* * * * * \n",
      " * * * * \n",
      "  * * * \n",
      "   * * \n",
      "    * \n"
     ]
    }
   ],
   "source": [
    "# Python program to\n",
    "# print Diamond shape\n",
    "\n",
    "# Function to print\n",
    "# Diamond shape\n",
    "def Diamond(rows):\n",
    "\tn = 1\n",
    "\tfor i in range(1, rows + 1):\n",
    "\t\t# loop to print spaces\n",
    "\t\tfor j in range (1, (rows - i) + 1):\n",
    "\t\t\tprint(end = \" \")\n",
    "\t\t\n",
    "\t\t# loop to print star\n",
    "\t\twhile n != (i+1):\n",
    "\t\t\tprint(\"*\", end = \" \")\n",
    "\t\t\tn = n + 1\n",
    "\t\tn = 1\n",
    "\t\t\n",
    "\t\t# line break\n",
    "\t\tprint()\n",
    "\n",
    "\tk = 0\n",
    "\tn = 0\n",
    "\tfor i in range(1, rows + 1):\n",
    "\t\t# loop to print spaces\n",
    "\t\tfor j in range (1, k + 1):\n",
    "\t\t\tprint(end = \" \")\n",
    "\t\tk = k + 1\n",
    "\t\t\n",
    "\t\t# loop to print star\n",
    "\t\twhile n <= (rows - i):\n",
    "\t\t\tprint(\"*\", end = \" \")\n",
    "\t\t\tn = n + 1\n",
    "\t\tn = 0\n",
    "\t\tprint()\n",
    "\n",
    "# Driver Code\n",
    "# number of rows input\n",
    "rows = 5\n",
    "Diamond(rows)"
   ]
  },
  {
   "cell_type": "markdown",
   "id": "a81b7cd7-ba5b-4de1-9f42-476ad85c415a",
   "metadata": {},
   "source": [
    "# Q7"
   ]
  },
  {
   "cell_type": "code",
   "execution_count": null,
   "id": "06629ad4-1b0e-4256-81eb-8cd601ee1fed",
   "metadata": {},
   "outputs": [],
   "source": [
    "n = 10\n",
    "while n!=0:\n",
    "    print(n)\n",
    "    "
   ]
  }
 ],
 "metadata": {
  "kernelspec": {
   "display_name": "Python 3 (ipykernel)",
   "language": "python",
   "name": "python3"
  },
  "language_info": {
   "codemirror_mode": {
    "name": "ipython",
    "version": 3
   },
   "file_extension": ".py",
   "mimetype": "text/x-python",
   "name": "python",
   "nbconvert_exporter": "python",
   "pygments_lexer": "ipython3",
   "version": "3.10.8"
  }
 },
 "nbformat": 4,
 "nbformat_minor": 5
}
