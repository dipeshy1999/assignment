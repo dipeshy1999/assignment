{
 "cells": [
  {
   "cell_type": "markdown",
   "id": "f592224e-8fb6-463d-b8f7-2498c68411b6",
   "metadata": {},
   "source": [
    "# Q1"
   ]
  },
  {
   "cell_type": "code",
   "execution_count": null,
   "id": "78d838bb-7598-47d5-8b37-1ed55f156eb4",
   "metadata": {},
   "outputs": [],
   "source": [
    "# Artificial intelligence is the simulation of human intelligence processes by machines, especially computer systems. Specific applications \n",
    "# of AI include expert systems, natural language processing, speech recognition and machine vision.\n",
    "# Example :- Alexa"
   ]
  },
  {
   "cell_type": "code",
   "execution_count": null,
   "id": "09b9dd12-aeac-4ffb-a5fb-317582e530c8",
   "metadata": {},
   "outputs": [],
   "source": [
    "# Machine learning is a branch of artificial intelligence (AI) and computer science which focuses on the use of data and algorithms to \n",
    "# imitate the way that humans learn, gradually improving its accuracy.\n",
    "# Example : - Chatbot"
   ]
  },
  {
   "cell_type": "code",
   "execution_count": null,
   "id": "331439bf-11e1-4a43-872c-686c753ab3e9",
   "metadata": {},
   "outputs": [],
   "source": [
    "# Deep learning is a subset of machine learning, which is essentially a neural network with three or more layers. These neural networks \n",
    "# attempt to simulate the behavior of the human brain—albeit far from matching its ability—allowing it to “learn” from large amounts of data. \n",
    "# While a neural network with a single layer can still make approximate predictions, additional hidden layers can help to optimize and refine \n",
    "# for accuracy."
   ]
  },
  {
   "cell_type": "markdown",
   "id": "164e917a-a47c-4d94-aff0-4a34d99ab12b",
   "metadata": {},
   "source": [
    "# Q2"
   ]
  },
  {
   "cell_type": "code",
   "execution_count": null,
   "id": "8d1ebc37-c021-4e42-af46-7053017373e8",
   "metadata": {},
   "outputs": [],
   "source": [
    "# Supervised learning is the types of machine learning in which machines are trained using well \"labelled\" training data, and on basis of that\n",
    "# data, machines predict the output. The labelled data means some input data is already tagged with the correct output."
   ]
  },
  {
   "cell_type": "code",
   "execution_count": null,
   "id": "50f60a8e-a863-46a8-9e35-d0d2699f879b",
   "metadata": {},
   "outputs": [],
   "source": [
    "# n supervised learning, the training data provided to the machines work as the supervisor that teaches the machines to predict the output \n",
    "# correctly. It applies the same concept as a student learns in the supervision of the teacher."
   ]
  },
  {
   "cell_type": "code",
   "execution_count": null,
   "id": "3d4d4d9c-c35c-4d26-adad-6d9b816af95a",
   "metadata": {},
   "outputs": [],
   "source": [
    "# Supervised learning is a process of providing input data as well as correct output data to the machine learning model. The aim of a supervised \n",
    "# learning algorithm is to find a mapping function to map the input variable(x) with the output variable(y)."
   ]
  },
  {
   "cell_type": "code",
   "execution_count": null,
   "id": "4fc893c1-69b9-44e0-8935-811afee43f41",
   "metadata": {},
   "outputs": [],
   "source": [
    "# Example :- Spam detection"
   ]
  },
  {
   "cell_type": "markdown",
   "id": "18232c26-93eb-4200-a4f1-f9c0953b61c9",
   "metadata": {},
   "source": [
    "# Q3"
   ]
  },
  {
   "cell_type": "code",
   "execution_count": null,
   "id": "7a46ebec-8838-423c-8299-e293d3ce1950",
   "metadata": {},
   "outputs": [],
   "source": [
    "# Unsupervised learning is a type of machine learning in which models are trained using unlabeled dataset and are allowed to act on that data \n",
    "# without any supervision."
   ]
  },
  {
   "cell_type": "code",
   "execution_count": null,
   "id": "6e6e7959-f3d5-43f9-bcff-5a4067b42682",
   "metadata": {},
   "outputs": [],
   "source": [
    "# Unsupervised learning cannot be directly applied to a regression or classification problem because unlike supervised learning, we have the \n",
    "# input data but no corresponding output data. The goal of unsupervised learning is to find the underlying structure of dataset, group that \n",
    "# data according to similarities, and represent that dataset in a compressed format."
   ]
  },
  {
   "cell_type": "code",
   "execution_count": null,
   "id": "7dc16d26-4591-441e-8f2f-232d5fb4ec19",
   "metadata": {},
   "outputs": [],
   "source": [
    "#  An example of unsupervised machine learning would be a case where a supermarket wants to increase its revenue. It decides to implement a \n",
    "# machine learning algorithm on its sold products' data. It was observed that the customers who bought cereals more often tend to buy milk or \n",
    "# those who buy eggs tend to buy bacon."
   ]
  },
  {
   "cell_type": "markdown",
   "id": "b0822c63-4293-4cf1-ba3d-b8e4ea111c89",
   "metadata": {},
   "source": [
    "# Q4"
   ]
  },
  {
   "cell_type": "code",
   "execution_count": null,
   "id": "b38b206c-5fab-4578-b7f1-feda62b37c83",
   "metadata": {},
   "outputs": [],
   "source": [
    "# 1. Artificial Intelligence (AI): AI refers to the broader concept of creating intelligent machines or systems that can simulate human \n",
    "# intelligence. It involves developing algorithms and models that enable computers to perform tasks that typically require human intelligence, \n",
    "# such as visual perception, speech recognition, decision-making, and problem-solving."
   ]
  },
  {
   "cell_type": "code",
   "execution_count": null,
   "id": "90360d68-3a1e-4d15-8a42-a9093bf96287",
   "metadata": {},
   "outputs": [],
   "source": [
    "# 2. Machine Learning (ML): ML is a subset of AI that focuses on algorithms and statistical models that allow computer systems to learn from data \n",
    "# and improve their performance over time without being explicitly programmed. ML algorithms can analyze large amounts of data, identify patterns, \n",
    "# and make predictions or decisions based on the observed patterns. It involves training models using historical data and leveraging that learning \n",
    "# to make predictions or take actions on new, unseen data."
   ]
  },
  {
   "cell_type": "code",
   "execution_count": null,
   "id": "00da8f0c-2981-45a7-8da6-7ffaa10e8ecd",
   "metadata": {},
   "outputs": [],
   "source": [
    "# 3. Deep Learning (DL): DL is a subfield of ML that uses artificial neural networks with multiple layers (hence the term \"deep\") to learn \n",
    "# representations of data. DL models are designed to automatically learn hierarchical representations of data, allowing them to extract complex \n",
    "# features and patterns. Deep learning has been particularly successful in areas such as image and speech recognition, natural language processing, \n",
    "# and computer vision."
   ]
  },
  {
   "cell_type": "code",
   "execution_count": null,
   "id": "eb4340b5-2bb8-43a0-a515-561584cc6f2a",
   "metadata": {},
   "outputs": [],
   "source": [
    "# 4. Data Science (DS): DS is an interdisciplinary field that combines various techniques, tools, and methodologies to extract insights and \n",
    "# knowledge from data. It encompasses processes like data collection, cleaning, analysis, visualization, and interpretation. Data scientists \n",
    "# use a combination of statistical analysis, machine learning, and domain knowledge to derive meaningful insights, build predictive models, \n",
    "# and make data-driven decisions."
   ]
  },
  {
   "cell_type": "markdown",
   "id": "fdd0129b-aa4c-42ab-9567-baac1cf4de0f",
   "metadata": {},
   "source": [
    "# Q5"
   ]
  },
  {
   "cell_type": "code",
   "execution_count": null,
   "id": "79418377-f2c1-4fe5-bdbb-b0d3964c8b66",
   "metadata": {},
   "outputs": [],
   "source": [
    "# 1. Supervised Learning :- It involves training a model on labeled data, where the input data points are associated with \n",
    "# corresponding target labels. The goal is for the model to learn a mapping function between the input and output variables. During training, \n",
    "#  the model learns from the labeled examples and tries to generalize the learned patterns to make predictions or classifications on new, \n",
    "# unseen data. Examples of supervised learning algorithms include linear regression, logistic regression, decision trees, and neural networks."
   ]
  },
  {
   "cell_type": "code",
   "execution_count": null,
   "id": "64c002fa-2a51-4d57-af6b-2e6e3c19d549",
   "metadata": {},
   "outputs": [],
   "source": [
    "# 2. Unsupervised learning :- It deals with unlabeled data, where there are no predefined target labels or outcomes. The objective of unsupervised \n",
    "# learning is to find patterns, structures, or relationships in the data without prior knowledge of the expected outputs. It involves clustering, \n",
    "# dimensionality reduction, and anomaly detection. Common unsupervised learning algorithms include k-means clustering, hierarchical clustering, \n",
    "# principal component analysis (PCA), and generative models like Gaussian mixture models (GMMs) or autoencoders."
   ]
  },
  {
   "cell_type": "code",
   "execution_count": null,
   "id": "7f36202a-9bc4-440a-bbe5-ebf71860ec9a",
   "metadata": {},
   "outputs": [],
   "source": [
    "# 3. Semi-supervised learning :- It lies between supervised and unsupervised learning. It combines both labeled and unlabeled data to train a model. \n",
    "# In semi-supervised learning, the labeled data is usually scarce and expensive to obtain, while unlabeled data is abundant and relatively easier \n",
    "# to collect. The idea is to leverage the additional unlabeled data to improve the model's performance by incorporating unsupervised learning \n",
    "# techniques. The model learns from the labeled examples and utilizes the unlabeled examples to capture the underlying structure of the data. \n",
    "# This approach can be useful when labeling large amounts of data is costly or time-consuming. Some methods used in semi-supervised learning include \n",
    "# self-training, co-training, and generative models such as generative adversarial networks (GANs) or self-supervised learning techniques."
   ]
  },
  {
   "cell_type": "markdown",
   "id": "82effbed-4c8b-46e0-ba59-bf9909bd7a5c",
   "metadata": {},
   "source": [
    "# Q6"
   ]
  },
  {
   "cell_type": "code",
   "execution_count": null,
   "id": "b60d18fd-e608-47f6-b514-6a34ec39ffb4",
   "metadata": {},
   "outputs": [],
   "source": [
    "# 1. The training set is the portion of the data used to train the machine learning model. It contains input samples (features) along with their \n",
    "# corresponding target labels or outcomes. During training, the model learns from this labeled data, adjusting its internal parameters to minimize \n",
    "# the error between its predictions and the true labels. The larger and more representative the training set, the better the model's ability to \n",
    "# generalize and make accurate predictions on unseen data."
   ]
  },
  {
   "cell_type": "code",
   "execution_count": null,
   "id": "17c21950-d6c2-4afb-a5b9-19ecfa6bd123",
   "metadata": {},
   "outputs": [],
   "source": [
    "# 2. The validation set is a separate portion of the data that is used to evaluate the performance of the model during the training process. \n",
    "# It helps in tuning the hyperparameters of the model and making decisions about model architecture, regularization techniques, or feature selection. \n",
    "# The validation set provides an unbiased estimate of the model's performance, allowing the practitioner to assess how well the model generalizes \n",
    "# to new, unseen data. It helps in preventing overfitting, which is when the model performs well on the training set but fails to generalize to new \n",
    "# data."
   ]
  },
  {
   "cell_type": "code",
   "execution_count": null,
   "id": "6a54dea5-07d4-41c6-82a8-6a70a5a5031a",
   "metadata": {},
   "outputs": [],
   "source": [
    "# 3. The test set is a completely independent subset of the data that is used to assess the final performance of the trained model. It serves as \n",
    "# an unbiased evaluation of the model's ability to make accurate predictions on unseen data. The test set should be representative of the real-world \n",
    "# scenarios the model will encounter. By evaluating the model on the test set, practitioners can assess its performance metrics, such as accuracy, \n",
    "# precision, recall, or F1 score. It helps in gaining confidence in the model's generalization ability before deploying it in real-world applications."
   ]
  },
  {
   "cell_type": "markdown",
   "id": "c8f41ef6-7830-4842-b0bd-473ea98949db",
   "metadata": {},
   "source": [
    "# Q7"
   ]
  },
  {
   "cell_type": "code",
   "execution_count": null,
   "id": "ea49a930-95f9-4011-aaa0-faee2020ff38",
   "metadata": {},
   "outputs": [],
   "source": [
    "# Unsupervised learning techniques are commonly used in anomaly detection, as they can identify patterns or structures in data without the need \n",
    "# for labeled examples. Here are a few ways unsupervised learning can be applied in anomaly detection:"
   ]
  },
  {
   "cell_type": "code",
   "execution_count": null,
   "id": "d1e66c4a-3381-437d-9df4-87e5ccaaf629",
   "metadata": {},
   "outputs": [],
   "source": [
    "# 1. Clustering-Based Anomaly Detection :- Unsupervised clustering algorithms can be used to group similar data points together based on their \n",
    "# features.Anomalies, being dissimilar from the majority of the data, often end up in separate clusters or as outliers. By identifying clusters with \n",
    "# a small number of data points or outliers, we can detect potential anomalies. Popular clustering algorithms such as k-means, DBSCAN, or Gaussian \n",
    "# Mixture Models (GMMs) can be employed for this purpose. "
   ]
  },
  {
   "cell_type": "code",
   "execution_count": null,
   "id": "9ad1bd41-4077-4806-98bd-f2d109f31525",
   "metadata": {},
   "outputs": [],
   "source": [
    "# 2. Density-Based Anomaly Detection :- Density-based approaches aim to identify regions in the data with low data density, considering them as \n",
    "# potential anomalies. One commonly used algorithm is the Local Outlier Factor (LOF), which measures the local density deviation of a data point \n",
    "# compared to its neighbors. Points with significantly lower density are considered anomalies. Other density-based methods include the use of \n",
    "# kernel density estimation or the Isolation Forest algorithm."
   ]
  },
  {
   "cell_type": "code",
   "execution_count": null,
   "id": "9f9ee1a0-d263-4ed5-9bae-4ddd34a2aa42",
   "metadata": {},
   "outputs": [],
   "source": [
    "# 3. Reconstruction-Based Anomaly Detection :- In some cases, anomalies can be detected by reconstructing the input data using unsupervised learning \n",
    "# models. Autoencoders, a type of neural network, can be trained to reconstruct the input data. During training, the model learns to encode the data \n",
    "# into a lower-dimensional representation and then decode it back to its original form. Anomalies often result in high reconstruction errors, as the \n",
    "# model struggles to reconstruct the unusual patterns. By setting a threshold on the reconstruction error, we can identify anomalies that deviate \n",
    "# significantly from the learned patterns."
   ]
  },
  {
   "cell_type": "code",
   "execution_count": null,
   "id": "46e7f867-8f3f-4bd9-8a3b-d250b3d62279",
   "metadata": {},
   "outputs": [],
   "source": [
    "# 4. One-Class Classification :- In one-class classification, an unsupervised learning model is trained on only the normal, non-anomalous data. \n",
    "# The model learns to define a boundary that encloses the normal data points, aiming to capture the normal data distribution. Any data points \n",
    "# falling outside this boundary are considered anomalies. Support Vector Machines (SVMs) and Gaussian Mixture Models (GMMs) are commonly used for \n",
    "# one-class classification."
   ]
  },
  {
   "cell_type": "markdown",
   "id": "ad3653af-a1df-423d-9418-2b11ed0086c8",
   "metadata": {},
   "source": [
    "# Q8"
   ]
  },
  {
   "cell_type": "code",
   "execution_count": null,
   "id": "6a3ec511-929c-48d7-98e8-51460480d087",
   "metadata": {},
   "outputs": [],
   "source": [
    "# Supervised Learning Algorithms:"
   ]
  },
  {
   "cell_type": "code",
   "execution_count": null,
   "id": "de727c38-2418-492c-b68a-40ebed02842e",
   "metadata": {},
   "outputs": [],
   "source": [
    "# Linear Regression\n",
    "# Logistic Regression\n",
    "# Decision Trees\n",
    "# Random Forests\n",
    "# Support Vector Machines (SVM)\n",
    "# Naive Bayes\n",
    "# k-Nearest Neighbors (k-NN)\n",
    "# Gradient Boosting methods (e.g., XGBoost, LightGBM)\n",
    "# Neural Networks (e.g., Multi-layer Perceptron)\n",
    "# Gaussian Processes"
   ]
  },
  {
   "cell_type": "code",
   "execution_count": null,
   "id": "50338a4a-4acd-4c0e-8c24-39f5607e8768",
   "metadata": {},
   "outputs": [],
   "source": [
    "# Unsupervised Learning Algorithms:"
   ]
  },
  {
   "cell_type": "code",
   "execution_count": null,
   "id": "6b77a11d-296b-49ca-b72e-323f8f4e46aa",
   "metadata": {},
   "outputs": [],
   "source": [
    "# K-means Clustering\n",
    "# Hierarchical Clustering\n",
    "# DBSCAN (Density-Based Spatial Clustering of Applications with Noise)\n",
    "# Gaussian Mixture Models (GMM)\n",
    "# Principal Component Analysis (PCA)\n",
    "# t-SNE (t-Distributed Stochastic Neighbor Embedding)\n",
    "# Isolation Forest\n",
    "# Self-Organizing Maps (SOM)\n",
    "# Autoencoders\n",
    "# Association Rules (e.g., Apriori algorithm)"
   ]
  },
  {
   "cell_type": "code",
   "execution_count": null,
   "id": "b133f0ef-6952-4b36-866a-e0128ac2b86c",
   "metadata": {},
   "outputs": [],
   "source": []
  },
  {
   "cell_type": "code",
   "execution_count": null,
   "id": "e16f9dee-1c89-4eb7-b9d3-c2bfd5364c7f",
   "metadata": {},
   "outputs": [],
   "source": []
  }
 ],
 "metadata": {
  "kernelspec": {
   "display_name": "Python 3 (ipykernel)",
   "language": "python",
   "name": "python3"
  },
  "language_info": {
   "codemirror_mode": {
    "name": "ipython",
    "version": 3
   },
   "file_extension": ".py",
   "mimetype": "text/x-python",
   "name": "python",
   "nbconvert_exporter": "python",
   "pygments_lexer": "ipython3",
   "version": "3.10.8"
  }
 },
 "nbformat": 4,
 "nbformat_minor": 5
}
