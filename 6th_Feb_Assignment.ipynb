{
 "cells": [
  {
   "cell_type": "markdown",
   "id": "9cfdb25f-9816-4f81-a224-154f432ac227",
   "metadata": {},
   "source": [
    "# Q1"
   ]
  },
  {
   "cell_type": "code",
   "execution_count": 1,
   "id": "26dadc6b-46c8-4bc3-9cd2-61d6e6e8dd68",
   "metadata": {},
   "outputs": [],
   "source": [
    "list1 = [1,2,3,4, [44,55,66, True], False, (34,56,78,89,34), {1,2,3,3,2,1}, {1:34, \"key2\": [55, 67, 78, 89], 4: (45,\n",
    "22, 61, 34)}, [56, 'data science'], 'Machine Learning']"
   ]
  },
  {
   "cell_type": "code",
   "execution_count": 2,
   "id": "33c1d81c-9143-45f8-b7bb-a6c3e32a52b5",
   "metadata": {},
   "outputs": [
    {
     "name": "stdout",
     "output_type": "stream",
     "text": [
      "[1, 2, 3, 4]\n"
     ]
    }
   ],
   "source": [
    "l1 = [] #####\n",
    "for i1 in list1:\n",
    "    if type(i1) == int: \n",
    "        l1.append(i1)\n",
    "print(l1)"
   ]
  },
  {
   "cell_type": "code",
   "execution_count": 4,
   "id": "3811ecb3-5a15-4898-8915-1bb13d3bd1aa",
   "metadata": {},
   "outputs": [
    {
     "name": "stdout",
     "output_type": "stream",
     "text": [
      "[44, 55, 66, 56]\n"
     ]
    }
   ],
   "source": [
    "l2 = []\n",
    "l3 = []\n",
    "for i1 in list1:\n",
    "    if type(i1) == list:\n",
    "        for i2 in i1:\n",
    "            l2.append(i2)\n",
    "for i3 in l2:\n",
    "    if type(i3) == int:\n",
    "        l3.append(i3)\n",
    "print(l3)"
   ]
  },
  {
   "cell_type": "code",
   "execution_count": 5,
   "id": "6a9318f0-4860-45e2-825f-0bf967f358fd",
   "metadata": {},
   "outputs": [
    {
     "name": "stdout",
     "output_type": "stream",
     "text": [
      "[1, 2, 3]\n"
     ]
    }
   ],
   "source": [
    "l4 = [] ########\n",
    "for i1 in list1:\n",
    "    if type(i1) == set:\n",
    "        for i2 in i1:\n",
    "            l4.append(i2)\n",
    "print(l4)"
   ]
  },
  {
   "cell_type": "code",
   "execution_count": 6,
   "id": "453d4590-3af6-4085-8e13-39161dbe5627",
   "metadata": {},
   "outputs": [
    {
     "name": "stdout",
     "output_type": "stream",
     "text": [
      "[1, 4]\n"
     ]
    }
   ],
   "source": [
    "l5 = [] #######\n",
    "for i1 in list1:\n",
    "    if type(i1) == dict:\n",
    "        for i2 in i1.keys() :\n",
    "            if type(i2) == int:\n",
    "                l5.append(i2)\n",
    "print(l5)"
   ]
  },
  {
   "cell_type": "code",
   "execution_count": 7,
   "id": "98f542fd-7b03-4ae2-917d-81789989c18a",
   "metadata": {},
   "outputs": [
    {
     "name": "stdout",
     "output_type": "stream",
     "text": [
      "[34, [55, 67, 78, 89], (45, 22, 61, 34)]\n"
     ]
    }
   ],
   "source": [
    "l6 = []\n",
    "for i1 in list1:\n",
    "    if type(i1) == dict:\n",
    "        for i2 in i1.keys():\n",
    "            if type(i2) == int or type(i2) == str:\n",
    "                l6.append(i1[i2])\n",
    "print(l6)"
   ]
  },
  {
   "cell_type": "code",
   "execution_count": 8,
   "id": "d56102bc-c85e-4877-8a74-6af8c70717e2",
   "metadata": {},
   "outputs": [
    {
     "name": "stdout",
     "output_type": "stream",
     "text": [
      "[34, 55, 67, 78, 89, 45, 22, 61, 34]\n"
     ]
    }
   ],
   "source": [
    "l7 = [] ########\n",
    "for i1 in l6:\n",
    "    if type(i1) == int:\n",
    "        l7.append(i1)\n",
    "    elif type(i1) == list:\n",
    "        for i2 in i1:\n",
    "            l7.append(i2)\n",
    "    elif type(i1) == tuple:\n",
    "        for i2 in i1:\n",
    "            l7.append(i2)\n",
    "print(l7)"
   ]
  },
  {
   "cell_type": "code",
   "execution_count": 9,
   "id": "bd5debc6-5e99-4bcc-bc72-a0a7a3bab4b7",
   "metadata": {},
   "outputs": [
    {
     "name": "stdout",
     "output_type": "stream",
     "text": [
      "[1, 2, 3, 4, 44, 55, 66, 56, 1, 2, 3, 1, 4, 34, 55, 67, 78, 89, 45, 22, 61, 34]\n",
      "9200570917048755019776000\n"
     ]
    }
   ],
   "source": [
    "l8 = []\n",
    "l8 = l1+l3+l4+l5+l7\n",
    "print(l8)\n",
    "\n",
    "\n",
    "res = 1\n",
    "for x in l8:\n",
    "    res = res*x\n",
    "print(res)"
   ]
  },
  {
   "cell_type": "markdown",
   "id": "8a978786-7ea3-4103-9b46-644d302f2780",
   "metadata": {},
   "source": [
    "# Q2"
   ]
  },
  {
   "cell_type": "code",
   "execution_count": 2,
   "id": "d2dea9b6-e7c6-4299-90a1-4f1ec7b6c176",
   "metadata": {},
   "outputs": [
    {
     "name": "stdout",
     "output_type": "stream",
     "text": [
      "The original string is : i want to become a data scientist.\n",
      "The string after replacement of positions : i wznt to yexome z dztz sxientist.\n"
     ]
    }
   ],
   "source": [
    "# initializing string\n",
    "test_str = \"I want to become a Data Scientist.\"\n",
    "test_str = test_str.lower()\n",
    "# printing original string\n",
    "print(\"The original string is : \" + str(test_str))\n",
    "\n",
    "# Using dictionary to map characters to their replacements\n",
    "# Replace multiple characters at once\n",
    "replacements = {'a': 'z', 'b': 'y','c':'x'}\n",
    "replaced_chars = [replacements.get(char, char) for char in test_str]\n",
    "res = ''.join(replaced_chars)\n",
    "\n",
    "# printing result\n",
    "print(\"The string after replacement of positions : \" + res)"
   ]
  },
  {
   "cell_type": "code",
   "execution_count": null,
   "id": "b016e8ab-dd3e-466b-88e0-b9d322643a6b",
   "metadata": {},
   "outputs": [],
   "source": []
  }
 ],
 "metadata": {
  "kernelspec": {
   "display_name": "Python 3 (ipykernel)",
   "language": "python",
   "name": "python3"
  },
  "language_info": {
   "codemirror_mode": {
    "name": "ipython",
    "version": 3
   },
   "file_extension": ".py",
   "mimetype": "text/x-python",
   "name": "python",
   "nbconvert_exporter": "python",
   "pygments_lexer": "ipython3",
   "version": "3.10.8"
  }
 },
 "nbformat": 4,
 "nbformat_minor": 5
}
