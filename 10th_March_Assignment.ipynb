{
 "cells": [
  {
   "cell_type": "markdown",
   "id": "1157b188-38e9-4e62-b16f-0ee2608840aa",
   "metadata": {},
   "source": [
    "# Q1"
   ]
  },
  {
   "cell_type": "code",
   "execution_count": null,
   "id": "007ce970-3b03-4e50-b6d7-a19817398ecf",
   "metadata": {},
   "outputs": [],
   "source": [
    "# Estimation statistics, or simply estimation, is a data analysis framework that uses a combination of effect sizes, confidence \n",
    "# intervals, precision planning, and meta-analysis to plan experiments, analyze data and interpret results"
   ]
  },
  {
   "cell_type": "code",
   "execution_count": null,
   "id": "3728d3d6-ed0c-46f8-97b6-0825cfd1726b",
   "metadata": {},
   "outputs": [],
   "source": [
    "# A point estimate is a single value estimate of a parameter. For instance, a sample mean is a point estimate of a population mean. \n",
    "# An interval estimate gives you a range of values where the parameter is expected to lie. A confidence interval is the most common \n",
    "# type of interval estimate."
   ]
  },
  {
   "cell_type": "markdown",
   "id": "ea46873c-961c-4e8c-a0ef-f33b88e85d8f",
   "metadata": {},
   "source": [
    "# Q2"
   ]
  },
  {
   "cell_type": "code",
   "execution_count": 1,
   "id": "c85f5651-9f36-4763-bfb9-46bc0fa42289",
   "metadata": {},
   "outputs": [
    {
     "name": "stdout",
     "output_type": "stream",
     "text": [
      "The estimated population mean is between 49.02 and 50.98.\n"
     ]
    }
   ],
   "source": [
    "import math\n",
    "\n",
    "def estimate_population_mean(sample_mean, sample_std_deviation, sample_size):\n",
    "    standard_error = sample_std_deviation / math.sqrt(sample_size)\n",
    "    margin_of_error = 1.96 * standard_error  # Assuming a 95% confidence level (z-value for 95% confidence is 1.96)\n",
    "    lower_bound = sample_mean - margin_of_error\n",
    "    upper_bound = sample_mean + margin_of_error\n",
    "    \n",
    "    return lower_bound, upper_bound\n",
    "sample_mean = 50.0\n",
    "sample_std_deviation = 5.0\n",
    "sample_size = 100\n",
    "\n",
    "lower_bound, upper_bound = estimate_population_mean(sample_mean, sample_std_deviation, sample_size)\n",
    "print(f\"The estimated population mean is between {lower_bound} and {upper_bound}.\")"
   ]
  },
  {
   "cell_type": "markdown",
   "id": "cf37595c-c134-489f-8376-20cde204d95f",
   "metadata": {},
   "source": [
    "# Q3"
   ]
  },
  {
   "cell_type": "code",
   "execution_count": null,
   "id": "2b5cd1da-7501-4da4-ad95-db42538a95cb",
   "metadata": {},
   "outputs": [],
   "source": [
    "# A statistical hypothesis test is a method of statistical inference used to decide whether the data at hand sufficiently support a \n",
    "# particular hypothesis.It is done because Hypothesis testing allows us to make probabilistic statements about population parameters\n",
    "# The purpose of hypothesis testing is to test whether the null hypothesis (there is no difference, no effect) can be rejected or approved. \n",
    "# If the null hypothesis is rejected, then the research hypothesis can be accepted. If the null hypothesis is accepted, then the research \n",
    "# hypothesis is rejected."
   ]
  },
  {
   "cell_type": "markdown",
   "id": "279a144c-812a-4e47-bf60-7bbe6d9fa1bb",
   "metadata": {},
   "source": [
    "# Q4 "
   ]
  },
  {
   "cell_type": "code",
   "execution_count": null,
   "id": "4de9057d-10a0-4342-86ae-24e039b0bdd0",
   "metadata": {},
   "outputs": [],
   "source": [
    "# Hypothesis: The average weight of male college students is greater than the average weight of female college students.\n",
    "# Justification: This hypothesis is based on the general physiological differences between males and females, which often result in \n",
    "# differences in body composition and weight. Biological factors such as hormonal variations, muscle mass, and bone density typically \n",
    "# contribute to differences in weight between males and females. Therefore, it is reasonable to hypothesize that, on average, male college \n",
    "# students would weigh more than their female counterparts. However, it is important to note that individual variations, lifestyle choices, \n",
    "# and cultural factors can also influence weight, so further investigation and analysis would be required to confirm or refute this hypothesis \n",
    "# in a specific college student population."
   ]
  },
  {
   "cell_type": "markdown",
   "id": "262b4d4f-70b4-455c-b39a-c3f3749a5fb7",
   "metadata": {},
   "source": [
    "# Q5"
   ]
  },
  {
   "cell_type": "code",
   "execution_count": 1,
   "id": "45c90bd5-0e65-42ea-ae21-573feabab056",
   "metadata": {},
   "outputs": [
    {
     "name": "stdout",
     "output_type": "stream",
     "text": [
      "Sample 1 mean: 86.1\n",
      "Sample 2 mean: 79.4\n",
      "Test statistic (t): 4.436102606139393\n",
      "Degrees of freedom: 18\n",
      "P-value: 0.000318963415225193\n",
      "Reject the null hypothesis. There is sufficient evidence to support a significant difference between the population means.\n"
     ]
    }
   ],
   "source": [
    "import numpy as np\n",
    "from scipy import stats\n",
    "\n",
    "# Sample data\n",
    "sample1 = np.array([84, 85, 88, 79, 91, 87, 90, 83, 86, 88])  # Sample from population 1\n",
    "sample2 = np.array([76, 78, 82, 74, 81, 79, 84, 77, 80, 83])  # Sample from population 2\n",
    "\n",
    "# Set significance level\n",
    "alpha = 0.05\n",
    "\n",
    "# Calculate sample statistics\n",
    "mean1 = np.mean(sample1)\n",
    "mean2 = np.mean(sample2)\n",
    "std1 = np.std(sample1, ddof=1)\n",
    "std2 = np.std(sample2, ddof=1)\n",
    "n1 = len(sample1)\n",
    "n2 = len(sample2)\n",
    "\n",
    "# Calculate test statistic (independent t-test assuming equal variances)\n",
    "pooled_var = ((n1 - 1) * std1 ** 2 + (n2 - 1) * std2 ** 2) / (n1 + n2 - 2)\n",
    "t = (mean1 - mean2) / np.sqrt(pooled_var * (1/n1 + 1/n2))\n",
    "\n",
    "# Calculate degrees of freedom\n",
    "df = n1 + n2 - 2\n",
    "\n",
    "# Calculate p-value (two-tailed test)\n",
    "p_value = 2 * (1 - stats.t.cdf(abs(t), df))\n",
    "\n",
    "# Print results\n",
    "print(\"Sample 1 mean:\", mean1)\n",
    "print(\"Sample 2 mean:\", mean2)\n",
    "print(\"Test statistic (t):\", t)\n",
    "print(\"Degrees of freedom:\", df)\n",
    "print(\"P-value:\", p_value)\n",
    "\n",
    "# Compare p-value with significance level\n",
    "if p_value < alpha:\n",
    "    print(\"Reject the null hypothesis. There is sufficient evidence to support a significant difference between the population means.\")\n",
    "else:\n",
    "    print(\"Fail to reject the null hypothesis. There is insufficient evidence to support a significant difference between the population means.\")"
   ]
  },
  {
   "cell_type": "markdown",
   "id": "435db782-4843-41e9-8dbb-1044640ea323",
   "metadata": {},
   "source": [
    "# Q6"
   ]
  },
  {
   "cell_type": "code",
   "execution_count": null,
   "id": "869b2848-24fc-4df3-9342-a7c1526394be",
   "metadata": {},
   "outputs": [],
   "source": [
    "# The null and alternative hypotheses are two competing claims that researchers weigh evidence for and against using a statistical test:\n",
    "# Null hypothesis (H0): There’s no effect in the population.\n",
    "# Alternative hypothesis (Ha or H1): There’s an effect in the population."
   ]
  },
  {
   "cell_type": "markdown",
   "id": "5f67e764-2c94-4f07-8382-d44ddd1cbcb2",
   "metadata": {},
   "source": [
    "# Q7"
   ]
  },
  {
   "cell_type": "code",
   "execution_count": null,
   "id": "4a520b21-e88e-40a4-877f-0066a098e050",
   "metadata": {},
   "outputs": [],
   "source": [
    "# State your research hypothesis as a null hypothesis and alternate hypothesis (Ho) and (Ha or H1).\n",
    "# Collect data in a way designed to test the hypothesis.\n",
    "# Perform an appropriate statistical test.\n",
    "# Decide whether to reject or fail to reject your null hypothesis.\n",
    "# Present the findings in your results and discussion section."
   ]
  },
  {
   "cell_type": "markdown",
   "id": "0a837e39-4b78-4fbd-b612-b5afa3672a66",
   "metadata": {},
   "source": [
    "# Q8"
   ]
  },
  {
   "cell_type": "code",
   "execution_count": null,
   "id": "23aebed1-b098-4110-85b6-6bb160ebace5",
   "metadata": {},
   "outputs": [],
   "source": [
    "# The p value is a number, calculated from a statistical test, that describes how likely you are to have found a particular set \n",
    "# of observations if the null hypothesis were true.\n",
    "#  P values are used in hypothesis testing to help decide whether to reject the null hypothesis. The smaller the p value, the more \n",
    "# likely you are to reject the null hypothesis."
   ]
  },
  {
   "cell_type": "markdown",
   "id": "073adb10-db73-445d-a097-80bbc05b2943",
   "metadata": {},
   "source": [
    "# Q9"
   ]
  },
  {
   "cell_type": "code",
   "execution_count": 2,
   "id": "d8da93fe-abd2-4fc8-816d-c8f0d09b3ae8",
   "metadata": {},
   "outputs": [
    {
     "data": {
      "image/png": "[encoded data removed]",
      "text/plain": [
       "<Figure size 640x480 with 1 Axes>"
      ]
     },
     "metadata": {},
     "output_type": "display_data"
    }
   ],
   "source": [
    "import numpy as np\n",
    "import matplotlib.pyplot as plt\n",
    "from scipy import stats\n",
    "\n",
    "# Degrees of freedom\n",
    "df = 10\n",
    "\n",
    "# Generate x values for the plot\n",
    "x = np.linspace(-4, 4, 100)\n",
    "\n",
    "# Calculate the y values for the t-distribution\n",
    "y = stats.t.pdf(x, df)\n",
    "\n",
    "# Plot the t-distribution\n",
    "plt.plot(x, y, label='t-distribution (df=10)')\n",
    "\n",
    "# Add labels and a legend\n",
    "plt.xlabel('x')\n",
    "plt.ylabel('Probability Density')\n",
    "plt.title(\"Student's t-distribution (df=10)\")\n",
    "plt.legend()\n",
    "\n",
    "# Display the plot\n",
    "plt.show()"
   ]
  },
  {
   "cell_type": "markdown",
   "id": "4b2b23d3-65cf-48a9-a747-bcbd4d095a16",
   "metadata": {},
   "source": [
    "# Q10"
   ]
  },
  {
   "cell_type": "code",
   "execution_count": 4,
   "id": "daf0a6f0-2480-4b02-bfa9-752060c955ea",
   "metadata": {},
   "outputs": [
    {
     "name": "stdout",
     "output_type": "stream",
     "text": [
      "Null Hypothesis: The population means are equal.\n",
      "Sample 1 mean: 4.5893474979156546\n",
      "Sample 2 mean: 5.774944418275368\n",
      "Test statistic (t): -4.186713524866003\n",
      "P-value: 4.256195971094098e-05\n",
      "Reject the null hypothesis. There is sufficient evidence to support a significant difference between the population means.\n"
     ]
    }
   ],
   "source": [
    "import numpy as np\n",
    "from scipy import stats\n",
    "\n",
    "# Generate random samples\n",
    "sample1 = np.random.normal(5, 2, 100)  # Sample 1\n",
    "sample2 = np.random.normal(6, 2, 100)  # Sample 2\n",
    "\n",
    "# Set null hypothesis: population means are equal\n",
    "null_hypothesis = \"The population means are equal.\"\n",
    "\n",
    "# Perform two-sample t-test\n",
    "t_statistic, p_value = stats.ttest_ind(sample1, sample2)\n",
    "\n",
    "# Set significance level\n",
    "alpha = 0.05\n",
    "\n",
    "# Print results\n",
    "print(\"Null Hypothesis:\", null_hypothesis)\n",
    "print(\"Sample 1 mean:\", np.mean(sample1))\n",
    "print(\"Sample 2 mean:\", np.mean(sample2))\n",
    "print(\"Test statistic (t):\", t_statistic)\n",
    "print(\"P-value:\", p_value)\n",
    "\n",
    "# Compare p-value with significance level\n",
    "if p_value < alpha or alpha > p_value:\n",
    "    print(\"Reject the null hypothesis. There is sufficient evidence to support a significant difference between the population means.\")\n",
    "else:\n",
    "    print(\"Fail to reject the null hypothesis. There is insufficient evidence to support a significant difference between the population means.\")\n"
   ]
  },
  {
   "cell_type": "markdown",
   "id": "2acefae9-4c26-4e7c-81ad-0ae0dd2eb247",
   "metadata": {},
   "source": [
    "# Q11"
   ]
  },
  {
   "cell_type": "code",
   "execution_count": null,
   "id": "e5ab788e-7e8f-4fa9-9bdb-5380de432163",
   "metadata": {},
   "outputs": [],
   "source": [
    "# The T Distribution also called the student’s t-distribution and is used while making assumptions about a mean when we don’t know \n",
    "# the standard deviation. In probability and statistics, the normal distribution is a bell-shaped distribution whose mean is μ and \n",
    "# the standard deviation is σ. The t-distribution is similar to normal distribution but flatter and shorter than a normal distribution.\n",
    "# It is used when the sample size small."
   ]
  },
  {
   "cell_type": "markdown",
   "id": "5bfcbddd-528b-46b0-8b4a-5007056dbe3a",
   "metadata": {},
   "source": [
    "# Q12"
   ]
  },
  {
   "cell_type": "code",
   "execution_count": null,
   "id": "d24b726c-83c9-4c74-90b7-62456259c985",
   "metadata": {},
   "outputs": [],
   "source": [
    "# The t statistic is used in the context of a t-test when doing hypothesis testing. Hypothesis tests start with a null hypothesis (Ho)\n",
    "# which states there is no statistically significant difference. An alternative hypothesis (Ha) states there is a statistically significant\n",
    "# difference. A one-sample t-test can be used to determine whether your sample comes from a population that is different from some \n",
    "# specific value of interest. A 2-sample t-test helps you determine whether two groups of samples are different and whether they come \n",
    "# from the same or different populations."
   ]
  },
  {
   "cell_type": "markdown",
   "id": "0f771d43-1aa3-4634-8b46-20dc4dc0658d",
   "metadata": {},
   "source": [
    "# Q13"
   ]
  },
  {
   "cell_type": "code",
   "execution_count": 1,
   "id": "75093830-b45f-4d29-9c5a-cd64259453b9",
   "metadata": {},
   "outputs": [
    {
     "name": "stdout",
     "output_type": "stream",
     "text": [
      "Sample mean revenue: 500\n",
      "Standard deviation of the sample: 50\n",
      "Sample size: 50\n",
      "Confidence level: 0.95\n",
      "Margin of error: 14.209842756118658\n",
      "95% Confidence interval: [ 485.79015724388137 , 514.2098427561186 ]\n"
     ]
    }
   ],
   "source": [
    "import numpy as np\n",
    "from scipy import stats\n",
    "\n",
    "# Sample information\n",
    "sample_mean = 500\n",
    "sample_std = 50\n",
    "sample_size = 50\n",
    "\n",
    "# Set the desired confidence level\n",
    "confidence_level = 0.95\n",
    "\n",
    "# Calculate the standard error (standard deviation of the sampling distribution)\n",
    "standard_error = sample_std / np.sqrt(sample_size)\n",
    "\n",
    "# Calculate the margin of error\n",
    "margin_of_error = stats.t.ppf((1 + confidence_level) / 2, df=sample_size - 1) * standard_error\n",
    "\n",
    "# Calculate the lower and upper bounds of the confidence interval\n",
    "lower_bound = sample_mean - margin_of_error\n",
    "upper_bound = sample_mean + margin_of_error\n",
    "\n",
    "# Print the results\n",
    "print(\"Sample mean revenue:\", sample_mean)\n",
    "print(\"Standard deviation of the sample:\", sample_std)\n",
    "print(\"Sample size:\", sample_size)\n",
    "print(\"Confidence level:\", confidence_level)\n",
    "print(\"Margin of error:\", margin_of_error)\n",
    "print(\"95% Confidence interval: [\", lower_bound, \",\", upper_bound, \"]\")"
   ]
  },
  {
   "cell_type": "markdown",
   "id": "9641df2e-de0a-47a6-9fde-ecb2bfc0be3a",
   "metadata": {},
   "source": [
    "# Q14"
   ]
  },
  {
   "cell_type": "code",
   "execution_count": 1,
   "id": "31208ee2-5624-4f4b-95f7-ba6ece1da178",
   "metadata": {},
   "outputs": [
    {
     "name": "stdout",
     "output_type": "stream",
     "text": [
      "Sample mean decrease in blood pressure: 8\n",
      "Sample standard deviation: 3\n",
      "Sample size: 100\n",
      "Hypothesized mean: 10\n",
      "Test statistic (t-value): -6.666666666666667\n",
      "Degrees of freedom: 99\n",
      "P-value: 0.9999999992493855\n",
      "Fail to reject the null hypothesis. There is insufficient evidence to support that the drug decreases blood pressure.\n"
     ]
    }
   ],
   "source": [
    "import numpy as np\n",
    "from scipy import stats\n",
    "\n",
    "# Sample information\n",
    "sample_mean = 8\n",
    "sample_std = 3\n",
    "sample_size = 100\n",
    "\n",
    "# Hypothesized mean\n",
    "hypothesized_mean = 10\n",
    "\n",
    "# Set the significance level\n",
    "alpha = 0.05\n",
    "\n",
    "# Calculate the standard error\n",
    "standard_error = sample_std / np.sqrt(sample_size)\n",
    "\n",
    "# Calculate the test statistic (t-value)\n",
    "t_value = (sample_mean - hypothesized_mean) / standard_error\n",
    "\n",
    "# Calculate the degrees of freedom\n",
    "df = sample_size - 1\n",
    "\n",
    "# Calculate the p-value (one-tailed test)\n",
    "p_value = 1 - stats.t.cdf(t_value, df)\n",
    "\n",
    "# Print the results\n",
    "print(\"Sample mean decrease in blood pressure:\", sample_mean)\n",
    "print(\"Sample standard deviation:\", sample_std)\n",
    "print(\"Sample size:\", sample_size)\n",
    "print(\"Hypothesized mean:\", hypothesized_mean)\n",
    "print(\"Test statistic (t-value):\", t_value)\n",
    "print(\"Degrees of freedom:\", df)\n",
    "print(\"P-value:\", p_value)\n",
    "\n",
    "# Compare the p-value with the significance level\n",
    "if p_value < alpha:\n",
    "    print(\"Reject the null hypothesis. There is sufficient evidence to support that the drug decreases blood pressure.\")\n",
    "else:\n",
    "    print(\"Fail to reject the null hypothesis. There is insufficient evidence to support that the drug decreases blood pressure.\")\n"
   ]
  },
  {
   "cell_type": "markdown",
   "id": "c585df25-dc42-452c-9ec4-f85a1864b882",
   "metadata": {},
   "source": [
    "# Q15"
   ]
  },
  {
   "cell_type": "code",
   "execution_count": null,
   "id": "2bdbab13-166d-482f-af31-0f3f0e59bcf8",
   "metadata": {},
   "outputs": [],
   "source": [
    "# To test the hypothesis that the true mean weight of the products is less than 5 pounds, we can use a one-sample t-test. Here's how you can perform the test:\n",
    "\n",
    "# Step 1: State the null and alternative hypotheses:\n",
    "\n",
    "# Null hypothesis (H₀): The true mean weight of the products is equal to 5 pounds.\n",
    "# Alternative hypothesis (H₁): The true mean weight of the products is less than 5 pounds.\n",
    "# Step 2: Set the significance level (α):\n",
    "# In this case, the significance level is given as 0.01, which means we want to be 99% confident in our conclusion.\n",
    "\n",
    "# Step 3: Compute the test statistic:\n",
    "# The test statistic for a one-sample t-test is given by:\n",
    "\n",
    "# t = (sample mean - population mean) / (sample standard deviation / sqrt(sample size))\n",
    "\n",
    "# In this case:\n",
    "# Sample mean (x̄) = 4.8 pounds\n",
    "# Population mean (μ) = 5 pounds\n",
    "# Sample standard deviation (s) = 0.5 pounds\n",
    "# Sample size (n) = 25\n",
    "\n",
    "# Plugging in the values:\n",
    "\n",
    "# t = (4.8 - 5) / (0.5 / sqrt(25))\n",
    "# t = -0.2 / (0.5 / 5)\n",
    "# t = -0.2 / 0.1\n",
    "# t = -2\n",
    "\n",
    "# Step 4: Determine the critical value:\n",
    "# Since we are testing the alternative hypothesis that the true mean weight is less than 5 pounds, we need to find the critical value for a one-tailed test at a significance level of 0.01. This can be looked up in a t-table or calculated using statistical software. Let's assume the critical value is -2.576.\n",
    "\n",
    "# Step 5: Make a decision:\n",
    "# Compare the test statistic to the critical value.\n",
    "\n",
    "# If the test statistic is less than the critical value, reject the null hypothesis.\n",
    "# If the test statistic is greater than or equal to the critical value, fail to reject the null hypothesis.\n",
    "# In this case, the test statistic (-2) is less than the critical value (-2.492).\n",
    "\n",
    "# Step 6: Draw a conclusion:\n",
    "# Since the test statistic falls in the critical region, we reject the null hypothesis. There is sufficient evidence to conclude that the true mean weight of the products is less than 5 pounds at a significance level of 0.01.\n",
    "\n",
    "# Therefore, based on the given sample, we can infer that the mean weight of the products is less than 5 pounds."
   ]
  },
  {
   "cell_type": "markdown",
   "id": "266b6817-3c3d-4dcc-8b5f-f4f6ccaedfd3",
   "metadata": {},
   "source": [
    "# Q16"
   ]
  },
  {
   "cell_type": "code",
   "execution_count": null,
   "id": "ff1c1c12-6f6c-42dc-8b40-00c328166e8a",
   "metadata": {},
   "outputs": [],
   "source": [
    "# Step 1: State the null and alternative hypotheses:\n",
    "\n",
    "# Null hypothesis (H₀): The population means for the two groups are equal.\n",
    "# Alternative hypothesis (H₁): The population means for the two groups are not equal.\n",
    "# Step 2: Set the significance level (α):\n",
    "# In this case, the significance level is given as 0.01, which means we want to be 99% confident in our conclusion.\n",
    "\n",
    "# Step 3: Compute the test statistic:\n",
    "#The test statistic for a two-sample t-test is given by:\n",
    "\n",
    "# t = (mean1 - mean2) / sqrt((s1² / n1) + (s2² / n2))\n",
    "\n",
    "# In this case:\n",
    "# mean1 = 80\n",
    "# mean2 = 75\n",
    "# s1 = 10\n",
    "# s2 = 8\n",
    "# n1 = 30\n",
    "# n2 = 40\n",
    "\n",
    "# Plugging in the values:\n",
    "\n",
    "# t = (80 - 75) / sqrt((10² / 30) + (8² / 40))\n",
    "# t = 5 / sqrt((100 / 30) + (64 / 40))\n",
    "# t = 5 / sqrt(3.333 + 1.6)\n",
    "# t = 5 / sqrt(4.933)\n",
    "# t ≈ 5 / 2.22\n",
    "# t ≈ 2.252\n",
    "\n",
    "# Step 4: Determine the critical value:\n",
    "# Since we are testing the null hypothesis that the population means are equal, we need to find the critical value for a two-tailed test at a significance level of 0.01. This can be looked up in a t-table or calculated using statistical software. Let's assume the critical value is ±2.617.\n",
    "\n",
    "# Step 5: Make a decision:\n",
    "# Compare the absolute value of the test statistic to the critical value.\n",
    "\n",
    "# If the absolute value of the test statistic is greater than the critical value, reject the null hypothesis.\n",
    "# If the absolute value of the test statistic is less than or equal to the critical value, fail to reject the null hypothesis.\n",
    "# In this case, the absolute value of the test statistic (2.252) is less than the critical value (2.617).\n",
    "\n",
    "# Step 6: Draw a conclusion:\n",
    "# Since the absolute value of the test statistic falls within the range of the critical values, we fail to reject the null hypothesis. There is not sufficient evidence to conclude that the population means for the two groups are different at a significance level of 0.01.\n",
    "\n",
    "# Therefore, based on the given data, we do not have enough evidence to suggest that the population means for the two groups are significantly different."
   ]
  },
  {
   "cell_type": "markdown",
   "id": "61a22339-cbdb-4e49-bf55-266a4e62a070",
   "metadata": {},
   "source": [
    "# Q17"
   ]
  },
  {
   "cell_type": "code",
   "execution_count": null,
   "id": "acb31ecc-f63f-4f7d-9d36-8cef06826d84",
   "metadata": {},
   "outputs": [],
   "source": [
    "# Step 1: Determine the sample size (n):\n",
    "# In this case, the sample size is 50.\n",
    "\n",
    "# Step 2: Compute the sample mean (x̄) and sample standard deviation (s):\n",
    "# Sample mean (x̄) = 4\n",
    "# Sample standard deviation (s) = 1.5\n",
    "\n",
    "# Step 3: Determine the desired confidence level (1 - α):\n",
    "# The desired confidence level is 99%, which corresponds to α = 1 - 0.99 = 0.01.\n",
    "\n",
    "# Step 4: Find the critical value (z):\n",
    "# Since the sample size is large (n > 30) and the population standard deviation is unknown, we can use the standard normal distribution\n",
    "# (z-distribution). To find the critical value for a 99% confidence interval, we need to find the z-value that leaves 0.01/2 = 0.005 in each tail. \n",
    "# This can be looked up in a z-table or calculated using statistical software. The z-value for a 99% confidence level is approximately 2.576.\n",
    "\n",
    "# Step 5: Calculate the margin of error (E):\n",
    "# The margin of error is given by the formula:\n",
    "# E = z * (s / sqrt(n))\n",
    "\n",
    "# Plugging in the values:\n",
    "# E = 2.576 * (1.5 / sqrt(50))\n",
    "# E ≈ 2.576 * (1.5 / 7.071)\n",
    "# E ≈ 0.550\n",
    "\n",
    "# Step 6: Calculate the confidence interval:\n",
    "# The confidence interval is given by:\n",
    "# Confidence interval = x̄ ± E\n",
    "\n",
    "# Plugging in the values:\n",
    "# Confidence interval = 4 ± 0.550\n",
    "# Confidence interval ≈ (3.45, 4.55)\n",
    "\n",
    "# Step 7: Interpret the result:\n",
    "# With 99% confidence, we can estimate that the population mean number of ads watched by viewers during a TV program falls within the range \n",
    "# of approximately 3.45 to 4.55.\n",
    "\n",
    "# Therefore, based on the given sample data, we can estimate that the average number of ads watched by viewers during a TV program is between 3.45 \n",
    "# and 4.55 with 99% confidence."
   ]
  },
  {
   "cell_type": "code",
   "execution_count": null,
   "id": "9d6f6179-9de0-42e8-a45a-14e40e02204d",
   "metadata": {},
   "outputs": [],
   "source": []
  }
 ],
 "metadata": {
  "kernelspec": {
   "display_name": "Python 3 (ipykernel)",
   "language": "python",
   "name": "python3"
  },
  "language_info": {
   "codemirror_mode": {
    "name": "ipython",
    "version": 3
   },
   "file_extension": ".py",
   "mimetype": "text/x-python",
   "name": "python",
   "nbconvert_exporter": "python",
   "pygments_lexer": "ipython3",
   "version": "3.10.8"
  }
 },
 "nbformat": 4,
 "nbformat_minor": 5
}
