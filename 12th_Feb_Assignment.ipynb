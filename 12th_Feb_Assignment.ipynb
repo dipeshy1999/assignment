{
 "cells": [
  {
   "cell_type": "markdown",
   "id": "1d7c7cbc-afe6-444a-8067-c8f7e3afa744",
   "metadata": {},
   "source": [
    "# Q1"
   ]
  },
  {
   "cell_type": "code",
   "execution_count": null,
   "id": "d8a434a7-225e-4ade-9d5b-26bc2548dbcd",
   "metadata": {},
   "outputs": [],
   "source": [
    "# Exceptions are raised when some internal events occur which change the normal flow of the program. \n",
    "# Exceptions are raised when the program is syntactically correct, but the code results in an error. \n",
    "# This error does not stop the execution of the program, however, it changes the normal flow of the program."
   ]
  },
  {
   "cell_type": "code",
   "execution_count": null,
   "id": "0ac572bf-802f-45d1-bfaa-00673b19b040",
   "metadata": {},
   "outputs": [],
   "source": [
    "# Syntax Error: As the name suggests this error is caused by the wrong syntax in the code. It leads to the termination of the program. "
   ]
  },
  {
   "cell_type": "code",
   "execution_count": 1,
   "id": "7d1751bd-3a36-4bec-a2c7-0b337b706072",
   "metadata": {},
   "outputs": [
    {
     "ename": "SyntaxError",
     "evalue": "expected ':' (1406909703.py, line 6)",
     "output_type": "error",
     "traceback": [
      "\u001b[0;36m  Cell \u001b[0;32mIn[1], line 6\u001b[0;36m\u001b[0m\n\u001b[0;31m    if(amount > 2999)\u001b[0m\n\u001b[0m                     ^\u001b[0m\n\u001b[0;31mSyntaxError\u001b[0m\u001b[0;31m:\u001b[0m expected ':'\n"
     ]
    }
   ],
   "source": [
    "# initialize the amount variable\n",
    "amount = 10000\n",
    "\n",
    "# check that You are eligible to\n",
    "# purchase Dsa Self Paced or not\n",
    "if(amount > 2999)\n",
    "print(\"You are eligible to purchase Dsa Self Paced\")\n"
   ]
  },
  {
   "cell_type": "code",
   "execution_count": 2,
   "id": "16fffa2a-820e-4374-b432-f4826944f25f",
   "metadata": {},
   "outputs": [
    {
     "ename": "ZeroDivisionError",
     "evalue": "division by zero",
     "output_type": "error",
     "traceback": [
      "\u001b[0;31m---------------------------------------------------------------------------\u001b[0m",
      "\u001b[0;31mZeroDivisionError\u001b[0m                         Traceback (most recent call last)",
      "Cell \u001b[0;32mIn[2], line 5\u001b[0m\n\u001b[1;32m      2\u001b[0m marks \u001b[38;5;241m=\u001b[39m \u001b[38;5;241m10000\u001b[39m\n\u001b[1;32m      4\u001b[0m \u001b[38;5;66;03m# perform division with 0\u001b[39;00m\n\u001b[0;32m----> 5\u001b[0m a \u001b[38;5;241m=\u001b[39m \u001b[43mmarks\u001b[49m\u001b[43m \u001b[49m\u001b[38;5;241;43m/\u001b[39;49m\u001b[43m \u001b[49m\u001b[38;5;241;43m0\u001b[39;49m\n\u001b[1;32m      6\u001b[0m \u001b[38;5;28mprint\u001b[39m(a)\n",
      "\u001b[0;31mZeroDivisionError\u001b[0m: division by zero"
     ]
    }
   ],
   "source": [
    "# initialize the amount variable\n",
    "marks = 10000\n",
    "\n",
    "# perform division with 0\n",
    "a = marks / 0\n",
    "print(a)\n"
   ]
  },
  {
   "cell_type": "markdown",
   "id": "6745e0fa-ac0d-41c1-88b1-eff1d655097b",
   "metadata": {},
   "source": [
    "# Q2"
   ]
  },
  {
   "cell_type": "code",
   "execution_count": null,
   "id": "55d251d5-7097-4541-9fe2-f627b5f60c10",
   "metadata": {},
   "outputs": [],
   "source": [
    "# if not handled, they will terminate the program and produce a traceback."
   ]
  },
  {
   "cell_type": "code",
   "execution_count": 4,
   "id": "63c16723-63a5-4997-a52e-6719c50271a7",
   "metadata": {},
   "outputs": [
    {
     "ename": "SyntaxError",
     "evalue": "Missing parentheses in call to 'print'. Did you mean print(...)? (1602863085.py, line 5)",
     "output_type": "error",
     "traceback": [
      "\u001b[0;36m  Cell \u001b[0;32mIn[4], line 5\u001b[0;36m\u001b[0m\n\u001b[0;31m    print int(KelvinToFahrenheit(505.78))\u001b[0m\n\u001b[0m    ^\u001b[0m\n\u001b[0;31mSyntaxError\u001b[0m\u001b[0;31m:\u001b[0m Missing parentheses in call to 'print'. Did you mean print(...)?\n"
     ]
    }
   ],
   "source": [
    "def KelvinToFahrenheit(Temperature):\n",
    "    assert (Temperature >= 0),\"Colder than absolute zero!\"\n",
    "    return ((Temperature-273)*1.8)+32\n",
    "print (KelvinToFahrenheit(273))\n",
    "print int(KelvinToFahrenheit(505.78))\n",
    "print (KelvinToFahrenheit(-5))"
   ]
  },
  {
   "cell_type": "markdown",
   "id": "deede667-6019-4b30-9ed3-6e933b64e184",
   "metadata": {},
   "source": [
    "# Q3"
   ]
  },
  {
   "cell_type": "code",
   "execution_count": null,
   "id": "06454cf7-3516-419f-852c-c4926377b046",
   "metadata": {},
   "outputs": [],
   "source": [
    "# try and catch are used to catch & handle exceptions"
   ]
  },
  {
   "cell_type": "code",
   "execution_count": 6,
   "id": "ca5a66eb-1627-4430-a76a-4091434e1605",
   "metadata": {},
   "outputs": [
    {
     "name": "stdout",
     "output_type": "stream",
     "text": [
      "Error: cannot add an int and a str\n"
     ]
    }
   ],
   "source": [
    "x = 5\n",
    "y = \"hello\"\n",
    "try:\n",
    "\tz = x + y\n",
    "except TypeError:\n",
    "\tprint(\"Error: cannot add an int and a str\")"
   ]
  },
  {
   "cell_type": "markdown",
   "id": "d81d21dd-4c59-4957-a7f3-0c5f10f2024a",
   "metadata": {},
   "source": [
    "# Q4"
   ]
  },
  {
   "cell_type": "markdown",
   "id": "1ea42c04-5de4-4e66-9ebc-3c6c3052f2e2",
   "metadata": {},
   "source": [
    "# (i)"
   ]
  },
  {
   "cell_type": "code",
   "execution_count": 7,
   "id": "d2f4c059-d075-4b0a-bbfa-f18fd3a32c03",
   "metadata": {},
   "outputs": [
    {
     "name": "stdin",
     "output_type": "stream",
     "text": [
      "Enter a number:  56\n"
     ]
    },
    {
     "name": "stdout",
     "output_type": "stream",
     "text": [
      "0.017857142857142856\n"
     ]
    }
   ],
   "source": [
    "# program to print the reciprocal of even numbers\n",
    "\n",
    "try:\n",
    "    num = int(input(\"Enter a number: \"))\n",
    "    assert num % 2 == 0\n",
    "except:\n",
    "    print(\"Not an even number!\")\n",
    "else:\n",
    "    reciprocal = 1/num\n",
    "    print(reciprocal)"
   ]
  },
  {
   "cell_type": "markdown",
   "id": "07dd84f7-cb24-4cb6-a803-a8a3913bad4d",
   "metadata": {},
   "source": [
    "# (ii)"
   ]
  },
  {
   "cell_type": "code",
   "execution_count": 8,
   "id": "81693384-00d2-4f02-b528-74ce4a438fbe",
   "metadata": {},
   "outputs": [
    {
     "name": "stdin",
     "output_type": "stream",
     "text": [
      "Enter a number:  56\n"
     ]
    },
    {
     "name": "stdout",
     "output_type": "stream",
     "text": [
      "0.017857142857142856\n",
      "I am a data scientist\n"
     ]
    }
   ],
   "source": [
    "try:\n",
    "    num = int(input(\"Enter a number: \"))\n",
    "    assert num % 2 == 0\n",
    "except:\n",
    "    print(\"Not an even number!\")\n",
    "else:\n",
    "    reciprocal = 1/num\n",
    "    print(reciprocal)\n",
    "finally:\n",
    "    print(\"I am a data scientist\")"
   ]
  },
  {
   "cell_type": "markdown",
   "id": "d0d73949-bd54-4187-8588-4f2242f6c585",
   "metadata": {},
   "source": [
    "# (iii)"
   ]
  },
  {
   "cell_type": "code",
   "execution_count": 9,
   "id": "0156a2c4-bf53-4c5c-b6cb-5384b7adeb68",
   "metadata": {},
   "outputs": [
    {
     "ename": "Exception",
     "evalue": "Sorry, no numbers below zero",
     "output_type": "error",
     "traceback": [
      "\u001b[0;31m---------------------------------------------------------------------------\u001b[0m",
      "\u001b[0;31mException\u001b[0m                                 Traceback (most recent call last)",
      "Cell \u001b[0;32mIn[9], line 4\u001b[0m\n\u001b[1;32m      1\u001b[0m x \u001b[38;5;241m=\u001b[39m \u001b[38;5;241m-\u001b[39m\u001b[38;5;241m1\u001b[39m\n\u001b[1;32m      3\u001b[0m \u001b[38;5;28;01mif\u001b[39;00m x \u001b[38;5;241m<\u001b[39m \u001b[38;5;241m0\u001b[39m:\n\u001b[0;32m----> 4\u001b[0m     \u001b[38;5;28;01mraise\u001b[39;00m \u001b[38;5;167;01mException\u001b[39;00m(\u001b[38;5;124m\"\u001b[39m\u001b[38;5;124mSorry, no numbers below zero\u001b[39m\u001b[38;5;124m\"\u001b[39m)\n",
      "\u001b[0;31mException\u001b[0m: Sorry, no numbers below zero"
     ]
    }
   ],
   "source": [
    "x = -1\n",
    "\n",
    "if x < 0:\n",
    "    raise Exception(\"Sorry, no numbers below zero\")"
   ]
  },
  {
   "cell_type": "markdown",
   "id": "43bbf47c-a95e-430e-93dd-01d173f6bc30",
   "metadata": {},
   "source": [
    "# Q5"
   ]
  },
  {
   "cell_type": "code",
   "execution_count": null,
   "id": "ef359676-c704-4851-b2d3-9286a1575b39",
   "metadata": {},
   "outputs": [],
   "source": [
    "# Custom exceptions are user defined. We need them for our specific needs.\n",
    "# When we want to handle errors by our own terms."
   ]
  },
  {
   "cell_type": "code",
   "execution_count": 2,
   "id": "28c8b180-ac3d-43d1-a46e-3ee453d7deed",
   "metadata": {},
   "outputs": [
    {
     "name": "stdin",
     "output_type": "stream",
     "text": [
      "Enter the age: -34\n"
     ]
    },
    {
     "name": "stdout",
     "output_type": "stream",
     "text": [
      "Person not eligiblee to vote\n"
     ]
    }
   ],
   "source": [
    "class AgeError(Exception):\n",
    "    \"Raised when person age is less than 18\"\n",
    "    pass\n",
    "try:\n",
    "    age = int(input(\"Enter the age:\"))\n",
    "    if age < 18:\n",
    "        raise AgeError\n",
    "except AgeError:\n",
    "    print(\"Person not eligiblee to vote\")\n",
    "else:\n",
    "    print(\"Person is eligible to vote\")        "
   ]
  },
  {
   "cell_type": "markdown",
   "id": "0323a4a1-8c8d-4ca0-83a0-8a6368d2163f",
   "metadata": {},
   "source": [
    "# Q6"
   ]
  },
  {
   "cell_type": "code",
   "execution_count": 3,
   "id": "9c815d59-7cb1-4682-b8a7-066e68253698",
   "metadata": {},
   "outputs": [
    {
     "name": "stdin",
     "output_type": "stream",
     "text": [
      "Enter the age: 56\n"
     ]
    },
    {
     "name": "stdout",
     "output_type": "stream",
     "text": [
      "Person is eligible to vote\n"
     ]
    }
   ],
   "source": [
    "class AgeError(Exception):\n",
    "    \"Raised when person age is less than 18\"\n",
    "    pass\n",
    "try:\n",
    "    age = int(input(\"Enter the age:\"))\n",
    "    if age < 18:\n",
    "        raise AgeError\n",
    "except AgeError:\n",
    "    print(\"Person not eligiblee to vote\")\n",
    "else:\n",
    "    print(\"Person is eligible to vote\") "
   ]
  },
  {
   "cell_type": "code",
   "execution_count": null,
   "id": "59ff0ce5-29ac-43d5-91c1-a9fc2f3c4a50",
   "metadata": {},
   "outputs": [],
   "source": []
  }
 ],
 "metadata": {
  "kernelspec": {
   "display_name": "Python 3 (ipykernel)",
   "language": "python",
   "name": "python3"
  },
  "language_info": {
   "codemirror_mode": {
    "name": "ipython",
    "version": 3
   },
   "file_extension": ".py",
   "mimetype": "text/x-python",
   "name": "python",
   "nbconvert_exporter": "python",
   "pygments_lexer": "ipython3",
   "version": "3.10.8"
  }
 },
 "nbformat": 4,
 "nbformat_minor": 5
}
