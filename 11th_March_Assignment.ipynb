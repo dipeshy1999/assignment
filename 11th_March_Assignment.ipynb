{
 "cells": [
  {
   "cell_type": "markdown",
   "id": "4e4d0966-c779-446c-ab29-9978f53fac73",
   "metadata": {},
   "source": [
    "# Q1"
   ]
  },
  {
   "cell_type": "code",
   "execution_count": null,
   "id": "c3e2917f-3c7d-45bb-aa5a-cd3439186e69",
   "metadata": {},
   "outputs": [],
   "source": [
    "# Z-TEST                                                                T-TEST\n",
    "\n",
    "# Population standard deviation is known                      Population standard deviation is unknown\n",
    "\n",
    "# Large sample size (n > 30)                                  Small sample size (n < 30)\n",
    "\n",
    "# (Sample mean – Population mean) / (Population SD / √n)      (Sample mean – Population mean) / (Sample SD / √n)\n",
    "# Test for a population mean or proportion                    Test for a population mean\n",
    "\n",
    "# Used when the population standard deviation is known        Used when the population standard deviation is unknown\n",
    "# and the sample size is large                                or the sample size is small"
   ]
  },
  {
   "cell_type": "markdown",
   "id": "5f0b45c8-4685-4b91-b778-978d5dbac7d5",
   "metadata": {},
   "source": [
    "# Q2"
   ]
  },
  {
   "cell_type": "code",
   "execution_count": null,
   "id": "e753fd21-c4de-4685-b13d-a3675a4d2683",
   "metadata": {},
   "outputs": [],
   "source": [
    "# One Tailed Test                                                    Two Tailed Test\n",
    "\n",
    "# A statistical hypothesis test in which                  A significance test in which alternative hypothesis\n",
    "# alternative hypothesis has only one end                 has two ends, is called two-tailed test.\n",
    "# is known as one tailed test.\n",
    "\n",
    "# Directional                                             Non-directional\n",
    "\n",
    "# Either left or right                                    Both left and right\n",
    "\n",
    "# If there is a relationship between                      If there is a relationship between variables\n",
    "# variables in single direction.                          in either direction.\n",
    "\n",
    "# Greater or less than certain value.                     Greater or less than certain range of values.\n",
    "\n",
    "# > or <                                                  ≠                               "
   ]
  },
  {
   "cell_type": "markdown",
   "id": "f4c06572-8569-436a-b59d-efcb9dbeaf38",
   "metadata": {},
   "source": [
    "# Q3"
   ]
  },
  {
   "cell_type": "code",
   "execution_count": null,
   "id": "a39ec205-97d0-42dd-a887-7167d3f71f5f",
   "metadata": {},
   "outputs": [],
   "source": [
    "# In statistics, a Type I error is a false positive conclusion, while a Type II error is a false negative conclusion.\n",
    "# Making a statistical decision always involves uncertainties, so the risks of making these errors are unavoidable in hypothesis testing"
   ]
  },
  {
   "cell_type": "code",
   "execution_count": null,
   "id": "78a55b75-e762-4f50-b21e-5c7950131e79",
   "metadata": {},
   "outputs": [],
   "source": [
    "# Example \n",
    "# You decide to get tested for COVID-19 based on mild symptoms. There are two errors that could potentially occur:\n",
    "# Type I error (false positive): the test result says you have coronavirus, but you actually don’t.\n",
    "# Type II error (false negative): the test result says you don’t have coronavirus, but you actually do."
   ]
  },
  {
   "cell_type": "markdown",
   "id": "03e38795-ea25-4887-ba4c-e954a0f08dde",
   "metadata": {},
   "source": [
    "# Q4"
   ]
  },
  {
   "cell_type": "code",
   "execution_count": null,
   "id": "9d50b789-aee6-472e-8904-4e5d6953a4e0",
   "metadata": {},
   "outputs": [],
   "source": [
    "# Bayes’ theorem describes the probability of occurrence of an event related to any condition. It is also considered for the case of \n",
    "# conditional probability. Bayes theorem is also known as the formula for the probability of “causes”. For example: if we have to calculate \n",
    "# the probability of taking a blue ball from the second bag out of three different bags of balls, where each bag contains three different colour \n",
    "# balls viz. red, blue, black. In this case, the probability of occurrence of an event is calculated depending on other conditions is known \n",
    "# as conditional probability. "
   ]
  },
  {
   "cell_type": "code",
   "execution_count": null,
   "id": "0e308351-f99c-4176-94af-e0a96c3c2cb9",
   "metadata": {},
   "outputs": [],
   "source": [
    "# A bag I contains 4 white and 6 black balls while another Bag II contains 4 white and 3 black balls. One ball is drawn at random from \n",
    "# one of the bags, and it is found to be black. Find the probability that it was drawn from Bag I."
   ]
  },
  {
   "cell_type": "code",
   "execution_count": null,
   "id": "ff363e38-5d7d-4941-ae2c-9a7e872ccea4",
   "metadata": {},
   "outputs": [],
   "source": [
    "# Let E1 be the event of choosing bag I, E2 the event of choosing bag II, and A be the event of drawing a black ball."
   ]
  },
  {
   "cell_type": "code",
   "execution_count": null,
   "id": "a40a3809-5da5-4342-b1b4-dd523a697bdb",
   "metadata": {},
   "outputs": [],
   "source": [
    "# P(E1) = P(E2) = 1/2\n",
    "# P(A/E1) = 3/5\n",
    "# P(A/E2) = 3/7\n",
    "# P(E1/A) = (P(E1)*P(A/E1))/(P(E1)*P(A/E1)+P(E2)*P(A/E2))\n",
    "# 7/12"
   ]
  },
  {
   "cell_type": "markdown",
   "id": "baa6e292-d326-42f6-93fd-77c6e1528b20",
   "metadata": {},
   "source": [
    "# Q5"
   ]
  },
  {
   "cell_type": "code",
   "execution_count": null,
   "id": "7ed29545-4e63-47b8-9c23-9d307b39ecb2",
   "metadata": {},
   "outputs": [],
   "source": [
    "# A confidence interval is the mean of your estimate plus and minus the variation in that estimate. This is the range of values you expect \n",
    "# your estimate to fall between if you redo your test, within a certain level of confidence."
   ]
  },
  {
   "cell_type": "code",
   "execution_count": null,
   "id": "7e8f5565-dbc5-4db1-9d5d-7f22ccaeca77",
   "metadata": {},
   "outputs": [],
   "source": [
    "# CI = X +- Z * ((STD)/Sqrt(N))"
   ]
  },
  {
   "cell_type": "code",
   "execution_count": null,
   "id": "7dcde80b-e87e-47d6-a0bf-7b02ac387a90",
   "metadata": {},
   "outputs": [],
   "source": [
    "# In the survey of Americans’ and Brits’ television watching habits, we can use the sample mean, sample standard deviation, and sample size \n",
    "# in place of the population mean, population standard deviation, and population size. To calculate the 95% confidence interval, we can \n",
    "# simply plug the values into the formula."
   ]
  },
  {
   "cell_type": "code",
   "execution_count": null,
   "id": "b6c3290b-5c98-4c9a-a244-fb93f92d5cdc",
   "metadata": {},
   "outputs": [],
   "source": [
    "# On a verbal section of CAT exam the std = 100. A sample of 25 test takers has a mean = 520. Construct a 95% CI \n",
    "# about the mean ?"
   ]
  },
  {
   "cell_type": "code",
   "execution_count": null,
   "id": "a4ec4236-74b9-418b-b64c-31a6bd721778",
   "metadata": {},
   "outputs": [],
   "source": [
    "# alpha = 0.05 , n = 25"
   ]
  },
  {
   "cell_type": "code",
   "execution_count": null,
   "id": "eddd0efd-8085-48a3-b65c-48db5c646962",
   "metadata": {},
   "outputs": [],
   "source": [
    "#  x + Z * (std/sqrt(n))"
   ]
  },
  {
   "cell_type": "code",
   "execution_count": null,
   "id": "a1ce1ade-645d-48a3-91d0-052bdd73e3d3",
   "metadata": {},
   "outputs": [],
   "source": [
    "# Lower CI = 520 - (1.96)*100/(sqrt(25))\n",
    "# Lower CI = 480.8"
   ]
  },
  {
   "cell_type": "code",
   "execution_count": null,
   "id": "e860c810-a18e-4eee-97c5-f966cd19f21d",
   "metadata": {},
   "outputs": [],
   "source": [
    "# Higher CI = 520 + (1.96)*100/(sqrt(25))\n",
    "# Higher Ci =  559.2 "
   ]
  },
  {
   "cell_type": "markdown",
   "id": "2de9d21d-8606-49c4-93d9-0cf029c58a72",
   "metadata": {},
   "source": [
    "# Q6"
   ]
  },
  {
   "cell_type": "code",
   "execution_count": null,
   "id": "7e7e3ecc-528d-4762-98d5-4bc6fd01b05a",
   "metadata": {},
   "outputs": [],
   "source": [
    "# A bag I contains 4 white and 6 black balls while another Bag II contains 4 white and 3 black balls. One ball is drawn at random from \n",
    "# one of the bags, and it is found to be black. Find the probability that it was drawn from Bag I.\n",
    "# Let E1 be the event of choosing bag I, E2 the event of choosing bag II, and A be the event of drawing a black ball.\n",
    "# P(E1) = P(E2) = 1/2\n",
    "# P(A/E1) = 3/5\n",
    "# P(A/E2) = 3/7\n",
    "# P(E1/A) = (P(E1)*P(A/E1))/(P(E1)*P(A/E1)+P(E2)*P(A/E2))\n",
    "# 7/12"
   ]
  },
  {
   "cell_type": "markdown",
   "id": "063291be-d928-44d2-b608-0e5468471df6",
   "metadata": {},
   "source": [
    "# Q7"
   ]
  },
  {
   "cell_type": "code",
   "execution_count": null,
   "id": "de93c327-6252-499a-8dec-36f588e431db",
   "metadata": {},
   "outputs": [],
   "source": [
    "# Lets assume the size of sample is 25\n",
    "# n = 25\n",
    "# Mean = 50\n",
    "# STD = 5"
   ]
  },
  {
   "cell_type": "code",
   "execution_count": null,
   "id": "d9741483-57b1-4ff4-9d7a-3558012f841f",
   "metadata": {},
   "outputs": [],
   "source": [
    "# Lower  CI = 50 - (1.96)*5/(sqrt(25)\n",
    "# Lower CI = 50 - 1.96\n",
    "# Lower CI =  48.04"
   ]
  },
  {
   "cell_type": "code",
   "execution_count": null,
   "id": "51b618ec-a053-49f1-b992-d4805f02a910",
   "metadata": {},
   "outputs": [],
   "source": [
    "# Higher CI = 50 + (1.96)*5/(sqrt(25)\n",
    "# Higher CI = 50 1.96\n",
    "# Higher CI = 51.96"
   ]
  },
  {
   "cell_type": "markdown",
   "id": "7d08cd9f-7bfe-4d4d-b767-535245aa8826",
   "metadata": {},
   "source": [
    "# Q8"
   ]
  },
  {
   "cell_type": "code",
   "execution_count": null,
   "id": "71fa25e3-e993-4373-a44d-0091aecb30bc",
   "metadata": {},
   "outputs": [],
   "source": [
    "# Margin Of Error = Z*(std/sqrt(n))"
   ]
  },
  {
   "cell_type": "code",
   "execution_count": null,
   "id": "6d5c3582-b88d-40b2-91b0-22cd18b8d065",
   "metadata": {},
   "outputs": [],
   "source": [
    "# The margin of error in a confidence interval is a measure of the precision or uncertainty associated with the estimate. \n",
    "# It represents the maximum distance between the point estimate (such as the sample mean) and the bounds of the confidence interval."
   ]
  },
  {
   "cell_type": "code",
   "execution_count": null,
   "id": "c61bea43-499c-4562-8ae1-030045324651",
   "metadata": {},
   "outputs": [],
   "source": [
    "# The margin of error is influenced by several factors, including the chosen confidence level, standard deviation, sample size, \n",
    "# and the variability of the data. Among these factors, sample size has a direct impact on the margin of error."
   ]
  },
  {
   "cell_type": "code",
   "execution_count": null,
   "id": "b317bd24-df1a-45f9-a512-d1b312762a00",
   "metadata": {},
   "outputs": [],
   "source": [
    "# When the sample size increases, the margin of error decreases. This is because a larger sample size provides more information and \n",
    "# reduces the variability of the estimate. As the sample size grows, the standard error (which is the standard deviation divided by \n",
    "# the square root of the sample size) decreases."
   ]
  },
  {
   "cell_type": "code",
   "execution_count": null,
   "id": "28c6d5df-4d9a-4530-8243-42c079821d68",
   "metadata": {},
   "outputs": [],
   "source": [
    "# A smaller standard error leads to a smaller margin of error, indicating a more precise estimate. This means that the bounds of the \n",
    "# confidence interval will be narrower and closer to the point estimate."
   ]
  },
  {
   "cell_type": "markdown",
   "id": "f9a76845-3e84-4f79-8180-1be5b251716a",
   "metadata": {},
   "source": [
    "# Q9"
   ]
  },
  {
   "cell_type": "code",
   "execution_count": null,
   "id": "82a15c9f-18ae-4cfa-b152-d78ff421610a",
   "metadata": {},
   "outputs": [],
   "source": [
    "# z = (x - μ) / σ\n",
    "# x is the value of the data point\n",
    "# μ is the population mean\n",
    "# σ is the population standard deviation\n",
    "# x = 75\n",
    "# μ = 70\n",
    "# σ = 5\n",
    "# z = (75 - 70) / 5\n",
    "# z = 5 / 5\n",
    "# z = 1"
   ]
  },
  {
   "cell_type": "markdown",
   "id": "bf6cc9cb-ac99-4256-b591-a9afdbedda53",
   "metadata": {},
   "source": [
    "# Q10"
   ]
  },
  {
   "cell_type": "code",
   "execution_count": null,
   "id": "3c1bf6f9-d8af-4b4e-bcb3-2a67e24e7236",
   "metadata": {},
   "outputs": [],
   "source": [
    "# The null hypothesis (H₀): The weight loss drug is not significantly effective (mean weight loss = 0).\n",
    "# The alternative hypothesis (H₁): The weight loss drug is significantly effective (mean weight loss ≠ 0)."
   ]
  },
  {
   "cell_type": "code",
   "execution_count": null,
   "id": "1d0f42a7-6726-4a57-a636-20706a0fb757",
   "metadata": {},
   "outputs": [],
   "source": [
    "# significance level is given as 0.05 or 5% (95% confidence level).\n",
    "# Sample mean (x̄) = 6 pounds\n",
    "# Standard deviation (s) = 2.5 pounds\n",
    "# Sample size (n) = 50 participants\n",
    "# Hypothesized population mean (μ₀) = 0 pounds\n",
    "# t = (x̄ - μ₀) / (s / √n)"
   ]
  },
  {
   "cell_type": "code",
   "execution_count": null,
   "id": "ce9ec914-acbe-428b-be29-79735d9661f5",
   "metadata": {},
   "outputs": [],
   "source": [
    "# t = (6 - 0) / (2.5 / √50)\n",
    "# t = 16.97 (approx)\n",
    "# Since we are conducting a two-tailed test (significantly effective in either direction), we need to find the critical \n",
    "# value for a t-distribution with (n - 1) degrees of freedom. In this case, degrees of freedom (df) = 50 - 1 = 49."
   ]
  },
  {
   "cell_type": "code",
   "execution_count": null,
   "id": "dfc226ae-8ebe-444c-b0aa-3423c1f61a26",
   "metadata": {},
   "outputs": [],
   "source": [
    "# The critical t-value for a 2.5% significance level (α/2 = 0.025) and 49 degrees of freedom can be obtained using a t-table \n",
    "# or statistical software. Using these values, the critical t-value is approximately 2.009."
   ]
  },
  {
   "cell_type": "code",
   "execution_count": null,
   "id": "c629a889-32da-4536-b074-d2eca2cbaf63",
   "metadata": {},
   "outputs": [],
   "source": [
    "# So NULL Hypothesis is rejected."
   ]
  },
  {
   "cell_type": "code",
   "execution_count": null,
   "id": "1db797ce-f625-462e-8a42-81986db355fa",
   "metadata": {},
   "outputs": [],
   "source": [
    "# So the drug is significant in reducing the weight."
   ]
  },
  {
   "cell_type": "markdown",
   "id": "7b4db5c2-af36-4d33-9ebe-893e35b9714f",
   "metadata": {},
   "source": [
    "# Q11"
   ]
  },
  {
   "cell_type": "code",
   "execution_count": null,
   "id": "b29e0f76-7b73-4489-9a72-ef10611dcd8d",
   "metadata": {},
   "outputs": [],
   "source": [
    "# Confidence Interval = Sample Proportion ± (Critical Value * Standard Error)\n",
    "# Sample size (n) = 500\n",
    "# Proportion of people satisfied with their job (p) = 65% = 0.65"
   ]
  },
  {
   "cell_type": "code",
   "execution_count": null,
   "id": "8e1cdb7d-5d50-42d5-aa14-0c8c16227fe3",
   "metadata": {},
   "outputs": [],
   "source": [
    "# Standard Error (SE) = sqrt((p * (1 - p)) / n)\n",
    "# SE = sqrt((0.65 * (1 - 0.65)) / 500)\n",
    "# SE = sqrt(0.2275 / 500)\n",
    "# SE ≈ 0.021"
   ]
  },
  {
   "cell_type": "code",
   "execution_count": null,
   "id": "b754e6f6-e7fd-4c36-8638-b90fa2029c9b",
   "metadata": {},
   "outputs": [],
   "source": [
    "# For a 95% confidence level, the critical value is approximately 1.96.\n",
    "# Confidence Interval = 0.65 ± (1.96 * 0.021)"
   ]
  },
  {
   "cell_type": "code",
   "execution_count": null,
   "id": "5b6cd282-6e5e-4857-bc4f-46ae47cf90b7",
   "metadata": {},
   "outputs": [],
   "source": [
    "# Lower bound = 0.65 - (1.96 * 0.021) ≈ 0.609\n",
    "# Upper bound = 0.65 + (1.96 * 0.021) ≈ 0.691"
   ]
  },
  {
   "cell_type": "markdown",
   "id": "02c73486-08f0-4136-9952-0a05873bc0a1",
   "metadata": {},
   "source": [
    "# Q13"
   ]
  },
  {
   "cell_type": "code",
   "execution_count": null,
   "id": "74316277-00e7-44bd-9e94-ee87c0ff74c4",
   "metadata": {},
   "outputs": [],
   "source": [
    "# Confidence Interval = Sample Mean ± (Critical Value * Standard Error)"
   ]
  },
  {
   "cell_type": "code",
   "execution_count": null,
   "id": "9f42677c-b478-4cf3-affd-d4dd7282a2d3",
   "metadata": {},
   "outputs": [],
   "source": [
    "# Population mean (μ) = 60\n",
    "# Population standard deviation (σ) = 8\n",
    "# Sample size (n) = 50\n",
    "# Sample mean (x̄) = 65"
   ]
  },
  {
   "cell_type": "code",
   "execution_count": null,
   "id": "4ee4ffdd-e3cd-4710-8bba-668c6fd8d39e",
   "metadata": {},
   "outputs": [],
   "source": [
    "# Standard Error (SE) = σ / √n\n",
    "# SE = 8 / √50\n",
    "# SE ≈ 1.131"
   ]
  },
  {
   "cell_type": "code",
   "execution_count": null,
   "id": "eff764af-2fdb-4249-b882-f7f3c34292fe",
   "metadata": {},
   "outputs": [],
   "source": [
    "# Since we want to calculate a 90% confidence interval, the remaining 10% is divided equally between the two tails. \n",
    "# This means we have 5% in each tail. We can find the critical value from the t-distribution table or use a calculator. \n",
    "# For a sample size of 50 and a 5% significance level, the critical value is approximately 1.676."
   ]
  },
  {
   "cell_type": "code",
   "execution_count": null,
   "id": "e8cf9514-aefc-489a-ac71-76f5dd65569c",
   "metadata": {},
   "outputs": [],
   "source": [
    "# Confidence Interval = 65 ± (1.676 * 1.131)"
   ]
  },
  {
   "cell_type": "code",
   "execution_count": null,
   "id": "e1b504d0-d9d7-4fb8-b25b-dd9c0b29c206",
   "metadata": {},
   "outputs": [],
   "source": [
    "# Lower bound = 65 - (1.676 * 1.131) ≈ 63.13\n",
    "# Upper bound = 65 + (1.676 * 1.131) ≈ 66.87"
   ]
  },
  {
   "cell_type": "markdown",
   "id": "00a6d48b-db3d-4e02-9f13-47849375ab60",
   "metadata": {},
   "source": [
    "# Q14"
   ]
  },
  {
   "cell_type": "code",
   "execution_count": null,
   "id": "fa0dd349-c681-4275-af8a-f02278a573cf",
   "metadata": {},
   "outputs": [],
   "source": [
    "# Sample mean (x̄) = 0.25 seconds\n",
    "# Sample standard deviation (s) = 0.05 seconds\n",
    "# Sample size (n) = 30\n",
    "# Hypothetical population mean (μ) = 0"
   ]
  },
  {
   "cell_type": "code",
   "execution_count": null,
   "id": "6a02f54d-fcf1-4685-8f29-eda7352b6896",
   "metadata": {},
   "outputs": [],
   "source": [
    "# t = (x̄ - μ) / (s / √n)\n",
    "# t = (0.25 - 0) / (0.05 / √30)\n",
    "# t = 0.25 / (0.05 / √30)\n",
    "# t = 27.38"
   ]
  },
  {
   "cell_type": "code",
   "execution_count": null,
   "id": "9b5f65ae-7b4c-446b-9079-60807e76b6bb",
   "metadata": {},
   "outputs": [],
   "source": [
    "# df = n - 1 = 30 - 1 = 29"
   ]
  },
  {
   "cell_type": "code",
   "execution_count": null,
   "id": "4ec712b5-2402-4fc8-bc0f-1dc3ac57f9c6",
   "metadata": {},
   "outputs": [],
   "source": [
    "# Since the test is a two-tailed t-test and the significance level is 0.10 (90% confidence level), we need to find the critical \n",
    "# value with a significance level of 0.05 (half of 0.10) in each tail. We can look up the critical value in the t-distribution \n",
    "# table or use a calculator.\n",
    "\n",
    "# For a t-distribution with 29 degrees of freedom and a significance level of 0.05, the critical value is approximately 1.699."
   ]
  },
  {
   "cell_type": "code",
   "execution_count": null,
   "id": "0983e136-fa52-4082-af16-94e7c6c62a6a",
   "metadata": {},
   "outputs": [],
   "source": [
    "# Since T value is greater than 1.699. So we reject the NULL Hypothesis."
   ]
  },
  {
   "cell_type": "code",
   "execution_count": null,
   "id": "37beef15-30bd-4a29-97c2-8b9b8985bc8b",
   "metadata": {},
   "outputs": [],
   "source": [
    "# Conclusion - Caffeine has a significant effect on reaction time "
   ]
  },
  {
   "cell_type": "code",
   "execution_count": null,
   "id": "353ab08e-ff56-4ab6-8b63-1c32b78ca52e",
   "metadata": {},
   "outputs": [],
   "source": []
  }
 ],
 "metadata": {
  "kernelspec": {
   "display_name": "Python 3 (ipykernel)",
   "language": "python",
   "name": "python3"
  },
  "language_info": {
   "codemirror_mode": {
    "name": "ipython",
    "version": 3
   },
   "file_extension": ".py",
   "mimetype": "text/x-python",
   "name": "python",
   "nbconvert_exporter": "python",
   "pygments_lexer": "ipython3",
   "version": "3.10.8"
  }
 },
 "nbformat": 4,
 "nbformat_minor": 5
}
