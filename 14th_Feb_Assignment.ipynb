{
 "cells": [
  {
   "cell_type": "markdown",
   "id": "2fc3bea8-a8e0-41ed-b1af-723f3b67d927",
   "metadata": {},
   "source": [
    "# Q1"
   ]
  },
  {
   "cell_type": "code",
   "execution_count": null,
   "id": "947ffa49-ff2c-4dd5-9c6e-d6a43b9a31ea",
   "metadata": {},
   "outputs": [],
   "source": [
    "# Multithreading refers to concurrently executing multiple threads by rapidly switching the control of the CPU between threads \n",
    "# (called context switching). The Python Global Interpreter Lock limits one thread to run at a time even if the machine contains \n",
    "# multiple processors."
   ]
  },
  {
   "cell_type": "code",
   "execution_count": null,
   "id": "66f4863b-4cd0-416e-9c81-6095fcb852a0",
   "metadata": {},
   "outputs": [],
   "source": [
    "# Multithreading allows many parts of a program to run simultaneously. These parts are referred to as threads, and they are lightweight\n",
    "# processes that are available within the process. As a result, multithreading increases CPU utilization through multitasking. \n",
    "# In multithreading, a computer may execute and process multiple tasks simultaneously."
   ]
  },
  {
   "cell_type": "code",
   "execution_count": null,
   "id": "c9c5948b-46f7-47bc-a43f-bd563544d561",
   "metadata": {},
   "outputs": [],
   "source": [
    "# The threading module is a high-level implementation of multithreading used to deploy an application in Python. To use multithreading, \n",
    "# we need to import the threading module in Python Program."
   ]
  },
  {
   "cell_type": "markdown",
   "id": "cdee0eec-39b7-4d1f-b3cc-0fb21757b725",
   "metadata": {},
   "source": [
    "# Q2"
   ]
  },
  {
   "cell_type": "code",
   "execution_count": null,
   "id": "b287250b-b2b2-482a-b92d-d7a6790424b6",
   "metadata": {},
   "outputs": [],
   "source": [
    "# The threading module is a high-level implementation of multithreading used to deploy an application in Python. To use multithreading, \n",
    "# we need to import the threading module in Python Program."
   ]
  },
  {
   "cell_type": "code",
   "execution_count": null,
   "id": "45f42c0a-49b2-4a75-8054-2a085b3a5300",
   "metadata": {},
   "outputs": [],
   "source": [
    "# activeCount(): Returns the number of total Python thread that are active."
   ]
  },
  {
   "cell_type": "code",
   "execution_count": null,
   "id": "5b05cd2c-3099-41e8-9cb8-b05ca355d1a3",
   "metadata": {},
   "outputs": [],
   "source": [
    "# currentThread() − Returns the number of thread objects in the caller's thread control"
   ]
  },
  {
   "cell_type": "code",
   "execution_count": null,
   "id": "5de4e5b2-e47b-4fc0-9aa2-006d94d4ed21",
   "metadata": {},
   "outputs": [],
   "source": [
    "# enumerate() − Returns a list of all thread objects that are currently active."
   ]
  },
  {
   "cell_type": "markdown",
   "id": "36ed3dba-16ff-48e3-b222-f247f148b5ad",
   "metadata": {},
   "source": [
    "# Q3"
   ]
  },
  {
   "cell_type": "code",
   "execution_count": null,
   "id": "2424926a-3082-4e40-b920-e60245a259f7",
   "metadata": {},
   "outputs": [],
   "source": [
    "# run() − The run() method is the entry point for a thread."
   ]
  },
  {
   "cell_type": "code",
   "execution_count": null,
   "id": "5a0d6c70-a7c3-4347-a5cf-dc6ac7609c5c",
   "metadata": {},
   "outputs": [],
   "source": [
    "# start() − The start() method starts a thread by calling the run method."
   ]
  },
  {
   "cell_type": "code",
   "execution_count": null,
   "id": "3385d7eb-abe6-4c8e-ace7-8990bcfb1fd7",
   "metadata": {},
   "outputs": [],
   "source": [
    "# join([time]) − The join() waits for threads to terminate."
   ]
  },
  {
   "cell_type": "code",
   "execution_count": 1,
   "id": "f830a9eb-e940-4480-9e80-d08c149ea77c",
   "metadata": {},
   "outputs": [],
   "source": [
    "# isAlive() − The isAlive() method checks whether a thread is still executing."
   ]
  },
  {
   "cell_type": "markdown",
   "id": "01670834-3d37-4457-a7e8-601ea0c17b67",
   "metadata": {},
   "source": [
    "# Q4"
   ]
  },
  {
   "cell_type": "code",
   "execution_count": 2,
   "id": "34747ad4-06e6-434c-b32b-0ffcaecabf09",
   "metadata": {},
   "outputs": [
    {
     "name": "stdout",
     "output_type": "stream",
     "text": [
      "Square: 100\n",
      "Cube: 1000\n",
      "Done!\n"
     ]
    }
   ],
   "source": [
    "# Python program to illustrate the concept\n",
    "# of threading\n",
    "# importing the threading module\n",
    "import threading\n",
    "\n",
    "\n",
    "def print_cube(num):\n",
    "\t# function to print cube of given num\n",
    "\tprint(\"Cube: {}\" .format(num * num * num))\n",
    "\n",
    "\n",
    "def print_square(num):\n",
    "\t# function to print square of given num\n",
    "\tprint(\"Square: {}\" .format(num * num))\n",
    "\n",
    "\n",
    "if __name__ ==\"__main__\":\n",
    "\t# creating thread\n",
    "\tt1 = threading.Thread(target=print_square, args=(10,))\n",
    "\tt2 = threading.Thread(target=print_cube, args=(10,))\n",
    "\n",
    "\t# starting thread 1\n",
    "\tt1.start()\n",
    "\t# starting thread 2\n",
    "\tt2.start()\n",
    "\n",
    "\t# wait until thread 1 is completely executed\n",
    "\tt1.join()\n",
    "\t# wait until thread 2 is completely executed\n",
    "\tt2.join()\n",
    "\n",
    "\t# both threads completely executed\n",
    "\tprint(\"Done!\")\n"
   ]
  },
  {
   "cell_type": "markdown",
   "id": "08b22b67-1c7e-4514-a335-4a901602000b",
   "metadata": {},
   "source": [
    "# Q5"
   ]
  },
  {
   "cell_type": "markdown",
   "id": "fe4df3ce-342c-4d16-8ded-141976c52df6",
   "metadata": {},
   "source": [
    "# Advantages"
   ]
  },
  {
   "cell_type": "code",
   "execution_count": null,
   "id": "fdc53cbc-865f-482d-9f36-d9594b2f829f",
   "metadata": {},
   "outputs": [],
   "source": [
    "# Improved performance: Multithreading can help increase the overall performance of an application, especially on systems with multiple \n",
    "# processors or cores. It allows multiple tasks to run concurrently, utilizing the available CPU resources more efficiently."
   ]
  },
  {
   "cell_type": "code",
   "execution_count": null,
   "id": "db281689-8035-4669-86fc-cc268d1e9519",
   "metadata": {},
   "outputs": [],
   "source": [
    "# Responsiveness: In a single-threaded environment, if a long-running task blocks the main thread, the entire application becomes \n",
    "# unresponsive. Multithreading can prevent this issue by running such tasks in separate threads, ensuring the application remains \n",
    "# responsive."
   ]
  },
  {
   "cell_type": "code",
   "execution_count": null,
   "id": "64a6d72f-692b-42e3-9799-d2e7573bda78",
   "metadata": {},
   "outputs": [],
   "source": [
    "# Better resource utilization: Multithreading allows better utilization of system resources by keeping the CPU busy while waiting \n",
    "# for I/O operations or other tasks to complete."
   ]
  },
  {
   "cell_type": "code",
   "execution_count": null,
   "id": "048cb278-856e-46ca-9f1e-995f43871099",
   "metadata": {},
   "outputs": [],
   "source": [
    "# Simplified modeling: Some problems can be more naturally modeled using multiple threads. This makes the program easier to design, \n",
    "# understand, and maintain."
   ]
  },
  {
   "cell_type": "code",
   "execution_count": null,
   "id": "7efb7211-da6b-43b6-915d-2a3570fb9c47",
   "metadata": {},
   "outputs": [],
   "source": [
    "# Parallelism: Multithreading enables parallelism, which can lead to significant performance improvements in applications that can be \n",
    "# divided into smaller, independent tasks."
   ]
  },
  {
   "cell_type": "markdown",
   "id": "90d1a0a9-7909-4eb9-a96e-abc5922be992",
   "metadata": {},
   "source": [
    "# Disadvantages"
   ]
  },
  {
   "cell_type": "code",
   "execution_count": null,
   "id": "875c21ef-4c93-456f-b93c-2ad78196c510",
   "metadata": {},
   "outputs": [],
   "source": [
    "# Complexity: Multithreading adds complexity to the program, making it more difficult to design, implement, and debug. Developers need to \n",
    "# be aware of synchronization, deadlocks, race conditions, and other concurrency-related issues."
   ]
  },
  {
   "cell_type": "code",
   "execution_count": null,
   "id": "d291fc7a-e0e8-44e2-80c2-6fe11b7cb327",
   "metadata": {},
   "outputs": [],
   "source": [
    "# Synchronization overhead: To avoid data corruption and maintain consistency, developers must synchronize access to shared resources, \n",
    "# which can result in additional overhead and reduced performance."
   ]
  },
  {
   "cell_type": "code",
   "execution_count": null,
   "id": "2f9cfe70-2454-49bd-899d-4a596001309c",
   "metadata": {},
   "outputs": [],
   "source": [
    "# Context switching: Context switching between threads consumes CPU time and resources, which can lead to performance degradation if\n",
    "# not managed efficiently."
   ]
  },
  {
   "cell_type": "code",
   "execution_count": null,
   "id": "507f4fd0-a20d-41ab-ac22-a15fdb338285",
   "metadata": {},
   "outputs": [],
   "source": [
    "# Hard to predict behavior: Due to the concurrent nature of multithreading, the behavior of the program can be hard to predict and \n",
    "# reproduce, especially when it comes to debugging."
   ]
  },
  {
   "cell_type": "code",
   "execution_count": null,
   "id": "897cc528-d887-4d01-a1c9-6f7de5e40acc",
   "metadata": {},
   "outputs": [],
   "source": [
    "# Limited by hardware: The performance benefits of multithreading are limited by the number of available cores or processors in the \n",
    "# system. In some cases, excessive use of threads can lead to performance degradation instead of improvement."
   ]
  },
  {
   "cell_type": "markdown",
   "id": "97db7bc5-f755-4780-a83a-34a7ebe2fa96",
   "metadata": {},
   "source": [
    "# Q6"
   ]
  },
  {
   "cell_type": "code",
   "execution_count": null,
   "id": "708e2027-eb45-4c63-802e-5b37825f2fa1",
   "metadata": {},
   "outputs": [],
   "source": [
    "# A Deadlock is a situation where each of the computer process waits for a resource which is being assigned to some another process. \n",
    "#In this situation, none of the process gets executed since the resource it needs, is held by some other process which is also waiting \n",
    "# for some other resource to be released."
   ]
  },
  {
   "cell_type": "code",
   "execution_count": null,
   "id": "b0ef3722-fa80-430f-b9d3-16adb6e6e9e0",
   "metadata": {},
   "outputs": [],
   "source": [
    "# A race condition is a problem that occurs in an operating system (OS) where two or more processes or threads are executing concurrently. \n",
    "# The outcome of their execution depends on the order in which they are executed."
   ]
  }
 ],
 "metadata": {
  "kernelspec": {
   "display_name": "Python 3 (ipykernel)",
   "language": "python",
   "name": "python3"
  },
  "language_info": {
   "codemirror_mode": {
    "name": "ipython",
    "version": 3
   },
   "file_extension": ".py",
   "mimetype": "text/x-python",
   "name": "python",
   "nbconvert_exporter": "python",
   "pygments_lexer": "ipython3",
   "version": "3.10.8"
  }
 },
 "nbformat": 4,
 "nbformat_minor": 5
}
