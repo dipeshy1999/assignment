{
 "cells": [
  {
   "cell_type": "markdown",
   "id": "6b09b623-c66d-4837-bef2-1581dff0a858",
   "metadata": {},
   "source": [
    "# Q1"
   ]
  },
  {
   "cell_type": "code",
   "execution_count": 1,
   "id": "c1eae21a-ac4b-4693-8f4c-de3c5f5abb69",
   "metadata": {},
   "outputs": [],
   "source": [
    "# Open function is used to open a file \n",
    "# r is used to reading a file\n",
    "# w is used to open a file for writing. Creates a new file if it does not exist or truncates the file if it exists.\n",
    "# a is used to open a file for appending at the end of the file without truncating it. Creates a new file if it does not exist."
   ]
  },
  {
   "cell_type": "code",
   "execution_count": 2,
   "id": "333df91b-5577-412a-b8ba-c7291cb97457",
   "metadata": {},
   "outputs": [],
   "source": [
    "f = open(\"test.txt\",\"w\")\n",
    "f.write(\"This is my first file to write\")\n",
    "f.close()"
   ]
  },
  {
   "cell_type": "code",
   "execution_count": 3,
   "id": "8fb8b440-c3bb-43c6-9b4c-5bb799661f72",
   "metadata": {},
   "outputs": [],
   "source": [
    "f = open(\"test.txt\",\"a\")\n",
    "f.write(\"This is my second file to write\")\n",
    "f.close()"
   ]
  },
  {
   "cell_type": "markdown",
   "id": "4bde5ee1-a285-4088-9b3f-f01fb790a666",
   "metadata": {},
   "source": [
    "# Q2"
   ]
  },
  {
   "cell_type": "code",
   "execution_count": 4,
   "id": "87502921-6613-4c89-8244-af54ce6dac46",
   "metadata": {},
   "outputs": [],
   "source": [
    "# Close function is used to close a file after doing hthe required operation like read, write etc."
   ]
  },
  {
   "cell_type": "code",
   "execution_count": 5,
   "id": "193e3c5c-ea10-4a65-81f8-a8bb45961fe4",
   "metadata": {},
   "outputs": [],
   "source": [
    "# Because files are limited resources managed by the operating system, making sure files are closed after use will \n",
    "# protect against hard-to-debug issues like running out of file handles or experiencing corrupted data."
   ]
  },
  {
   "cell_type": "markdown",
   "id": "f4ce4c02-8b53-4e6b-aea3-629ab1a7b94a",
   "metadata": {},
   "source": [
    "# Q3"
   ]
  },
  {
   "cell_type": "code",
   "execution_count": 6,
   "id": "7d009dda-158b-43c3-954a-b43ce97b10b2",
   "metadata": {},
   "outputs": [
    {
     "data": {
      "text/plain": [
       "'I want to become a data scientist'"
      ]
     },
     "execution_count": 6,
     "metadata": {},
     "output_type": "execute_result"
    }
   ],
   "source": [
    "f = open(\"test1.text\",\"w\")\n",
    "f.write(\"I want to become a data scientist\")\n",
    "f.close()\n",
    "data  = open(\"test1.text\",\"r\")\n",
    "data.read()"
   ]
  },
  {
   "cell_type": "markdown",
   "id": "f41be06b-7079-4265-ab6c-bf537f3c902e",
   "metadata": {},
   "source": [
    "# Q4"
   ]
  },
  {
   "cell_type": "markdown",
   "id": "757037c7-7688-4383-930a-d8125e8ca60a",
   "metadata": {},
   "source": [
    "# Read()"
   ]
  },
  {
   "cell_type": "code",
   "execution_count": 9,
   "id": "691e4e34-8a09-4800-9ecb-9e4c998ae9e5",
   "metadata": {},
   "outputs": [
    {
     "data": {
      "text/plain": [
       "'I want to become a data scientist'"
      ]
     },
     "execution_count": 9,
     "metadata": {},
     "output_type": "execute_result"
    }
   ],
   "source": [
    "f = open(\"test2.text\",\"w\")\n",
    "f.write(\"I want to become a data scientist\")\n",
    "f.close()\n",
    "data  = open(\"test2.text\",\"r\")\n",
    "data.read()"
   ]
  },
  {
   "cell_type": "markdown",
   "id": "3dc49a59-d7b8-47ef-93a8-7a92defab7f6",
   "metadata": {},
   "source": [
    "# Readline()"
   ]
  },
  {
   "cell_type": "code",
   "execution_count": 10,
   "id": "1a434501-14fc-4a3a-8b32-8175bdd8c685",
   "metadata": {},
   "outputs": [
    {
     "data": {
      "text/plain": [
       "'I want to become a data scientist'"
      ]
     },
     "execution_count": 10,
     "metadata": {},
     "output_type": "execute_result"
    }
   ],
   "source": [
    "f = open(\"test3.text\",\"w\")\n",
    "f.write(\"I want to become a data scientist\")\n",
    "f.close()\n",
    "data  = open(\"test3.text\",\"r\")\n",
    "data.seek(0)\n",
    "data.readline()"
   ]
  },
  {
   "cell_type": "markdown",
   "id": "9de50aa2-be84-4052-8a9d-42e4f8580a44",
   "metadata": {},
   "source": [
    "# Readlines()"
   ]
  },
  {
   "cell_type": "code",
   "execution_count": 12,
   "id": "e067f553-a5b1-4d8f-8217-7fca7d885808",
   "metadata": {},
   "outputs": [
    {
     "data": {
      "text/plain": [
       "['I want to become a data scientistI am a naturalized US citizenUS lost vietnam war']"
      ]
     },
     "execution_count": 12,
     "metadata": {},
     "output_type": "execute_result"
    }
   ],
   "source": [
    "f = open(\"test4.text\",\"w\")\n",
    "f.write(\"I want to become a data scientist\")\n",
    "f.write(\"I am a naturalized US citizen\")\n",
    "f.write(\"US lost vietnam war\")\n",
    "f.close()\n",
    "data  = open(\"test4.text\",\"r\")\n",
    "data.readlines(2)"
   ]
  },
  {
   "cell_type": "markdown",
   "id": "74423723-a3e8-4ac5-a78b-53d5f96b2465",
   "metadata": {},
   "source": [
    "# Q5"
   ]
  },
  {
   "cell_type": "code",
   "execution_count": null,
   "id": "489225e1-577e-4f04-93e1-46168274c8ad",
   "metadata": {},
   "outputs": [],
   "source": [
    "# In Python, with statement is used in exception handling to make the code cleaner and much more readable. \n",
    "# It simplifies the management of common resources like file streams. "
   ]
  },
  {
   "cell_type": "code",
   "execution_count": 13,
   "id": "f2e5b799-609c-46f4-a960-a3041ca15b28",
   "metadata": {},
   "outputs": [],
   "source": [
    "file = open('file_path', 'w')\n",
    "try:\n",
    "    file.write('hello world')\n",
    "finally:\n",
    "    file.close()"
   ]
  },
  {
   "cell_type": "code",
   "execution_count": null,
   "id": "2e070f32-5ad8-4b6f-aa07-0cab4700575a",
   "metadata": {},
   "outputs": [],
   "source": [
    "# The with statement itself ensures proper acquisition and release of resources. An exception during the file.write() call in the first \n",
    "# implementation can prevent the file from closing properly which may introduce several bugs in the code, i.e. many changes in files do \n",
    "# not go into effect until the file is properly closed. "
   ]
  },
  {
   "cell_type": "markdown",
   "id": "6a1d93ba-7aa5-4f25-9d43-57fcf76516e1",
   "metadata": {},
   "source": [
    "# Q6"
   ]
  },
  {
   "cell_type": "markdown",
   "id": "84a85730-d453-4e54-9c68-a77104e451e0",
   "metadata": {},
   "source": [
    "# Write()"
   ]
  },
  {
   "cell_type": "code",
   "execution_count": null,
   "id": "ec85fc56-dc02-47d7-be9d-d8971dfff9d7",
   "metadata": {},
   "outputs": [],
   "source": [
    "# The write() function will write the content in the file without adding any extra characters.\n",
    "# write function does not add a newline character(\\n) to the end of the string."
   ]
  },
  {
   "cell_type": "code",
   "execution_count": 15,
   "id": "80ef6bca-c18f-4db1-8909-1dcd2dcd89d4",
   "metadata": {},
   "outputs": [
    {
     "name": "stdin",
     "output_type": "stream",
     "text": [
      "Enter the name of the employee:  dipesh\n",
      "Enter the name of the employee:  bhuwan\n",
      "Enter the name of the employee:  vikas\n"
     ]
    },
    {
     "name": "stdout",
     "output_type": "stream",
     "text": [
      "Data is written into the file.\n"
     ]
    }
   ],
   "source": [
    "file = open(\"Employees.txt\", \"w\")\n",
    "for i in range(3):\n",
    "    name = input(\"Enter the name of the employee: \")\n",
    "    file.write(name)\n",
    "    file.write(\"\\n\")\n",
    "file.close()\n",
    "print(\"Data is written into the file.\")"
   ]
  },
  {
   "cell_type": "code",
   "execution_count": 17,
   "id": "5df49947-dca8-41ba-9f96-d8280946fe6f",
   "metadata": {},
   "outputs": [
    {
     "data": {
      "text/plain": [
       "'dipesh\\nbhuwan\\nvikas\\n'"
      ]
     },
     "execution_count": 17,
     "metadata": {},
     "output_type": "execute_result"
    }
   ],
   "source": [
    "d1 = open(\"Employees.txt\", \"r\")\n",
    "d1.read()"
   ]
  },
  {
   "cell_type": "markdown",
   "id": "8099c261-70a2-4e66-a1de-2ee3253ded23",
   "metadata": {},
   "source": [
    "# Writelines()"
   ]
  },
  {
   "cell_type": "code",
   "execution_count": 1,
   "id": "53b3956e-4315-41ad-9edb-c1c108def8e1",
   "metadata": {},
   "outputs": [],
   "source": [
    "new_file = open(\"demofile.txt\", \"w\")\n",
    "new_file.writelines([\"\\nI am learning Python.\", \"\\nPython is amazing.\"])\n",
    "new_file.close()"
   ]
  },
  {
   "cell_type": "code",
   "execution_count": 2,
   "id": "0fea62d0-efbf-4403-9306-5b617dbc877b",
   "metadata": {},
   "outputs": [
    {
     "data": {
      "text/plain": [
       "'\\nI am learning Python.\\nPython is amazing.'"
      ]
     },
     "execution_count": 2,
     "metadata": {},
     "output_type": "execute_result"
    }
   ],
   "source": [
    "d2 = open(\"demofile.txt\", \"r\")\n",
    "d2.read()"
   ]
  },
  {
   "cell_type": "code",
   "execution_count": null,
   "id": "3d219b9a-b4ee-4117-8d7d-4da5267e11a5",
   "metadata": {},
   "outputs": [],
   "source": [
    "# he write() method accepts a string as an argument and writes this string to the text file. Whereas, the writelines() method accepts an iterable\n",
    "# i.e. a string or the list of strings as an argument and writes these strings to the text file."
   ]
  }
 ],
 "metadata": {
  "kernelspec": {
   "display_name": "Python 3 (ipykernel)",
   "language": "python",
   "name": "python3"
  },
  "language_info": {
   "codemirror_mode": {
    "name": "ipython",
    "version": 3
   },
   "file_extension": ".py",
   "mimetype": "text/x-python",
   "name": "python",
   "nbconvert_exporter": "python",
   "pygments_lexer": "ipython3",
   "version": "3.10.8"
  }
 },
 "nbformat": 4,
 "nbformat_minor": 5
}
