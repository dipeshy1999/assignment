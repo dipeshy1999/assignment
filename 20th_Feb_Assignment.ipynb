{
 "cells": [
  {
   "cell_type": "markdown",
   "id": "6e55043d-74c2-40a1-9c76-7f355a3274bf",
   "metadata": {},
   "source": [
    "# Q1"
   ]
  },
  {
   "cell_type": "code",
   "execution_count": null,
   "id": "b1b7c108-4c26-4935-a4fe-9eb39167996c",
   "metadata": {},
   "outputs": [],
   "source": [
    "# GET: This method is used to retrieve data from the server. e.g In an eCommerce application, there is a search button to search for an item. \n",
    "# after entering a keyword if we noticed, the keyword you searched for gets displayed in the URL. This request is used when the data is not sensitive."
   ]
  },
  {
   "cell_type": "code",
   "execution_count": null,
   "id": "50191648-ef9e-4194-94d2-fa790dca153a",
   "metadata": {},
   "outputs": [],
   "source": [
    "# POST: This method makes enables users to send data over to the server. e.g In any authentication-enabled application, the registration and \n",
    "# login form is the best example for the post method. Whenever we enter Information and submit the data get transferred over to the POST request.\n",
    "# And if we noticed, unlike get request there is no information will be ever displayed in the URL."
   ]
  },
  {
   "cell_type": "markdown",
   "id": "d7b14c3f-6418-446d-8d40-4e7cff476e76",
   "metadata": {},
   "source": [
    "# Q2"
   ]
  },
  {
   "cell_type": "code",
   "execution_count": null,
   "id": "d99a4749-52e4-495e-9b46-feb1482e36f1",
   "metadata": {},
   "outputs": [],
   "source": [
    "# The Request, in Flask, is an object that contains all the data sent from the Client to Server. This data can be recovered using the GET/POST \n",
    "# Methods. POST is used when your application expects user input to be received by command or an HTTP request, while GET gets all the information \n",
    "# before it even has a chance for submission. Using both methods at once gives perfect freedom but still requires complex UI patterns like AJAX \n",
    "# calls etc, with most common applications being frameworks where multiple forms are necessary such as Slack Webhooks, MailgunMailserver, and \n",
    "# eCommerce Commerce Framework. With Flask-Request class instead, we don’t have any need anymore since this API allows us flexible handling of \n",
    "# many other situations."
   ]
  },
  {
   "cell_type": "markdown",
   "id": "ddb6f064-4a97-40bf-8d83-a8b04c3a5dc2",
   "metadata": {},
   "source": [
    "# Q3"
   ]
  },
  {
   "cell_type": "code",
   "execution_count": null,
   "id": "5b0de34d-838a-4e58-900a-5d9ea389af29",
   "metadata": {},
   "outputs": [],
   "source": [
    "# Flask class has a redirect() function. When called, it returns a response object and redirects the user to another target location with \n",
    "# specified status code."
   ]
  },
  {
   "cell_type": "code",
   "execution_count": null,
   "id": "dd58672d-79c6-48eb-b843-8a269421943e",
   "metadata": {},
   "outputs": [],
   "source": [
    "# Flask.redirect(location, statuscode, response)"
   ]
  },
  {
   "cell_type": "code",
   "execution_count": null,
   "id": "bc1e067e-d9a6-474b-8a5f-8e15238f3878",
   "metadata": {},
   "outputs": [],
   "source": [
    "# location parameter is the URL where response should be redirected.\n",
    "# statuscode sent to browser’s header, defaults to 302.\n",
    "# response parameter is used to instantiate response."
   ]
  },
  {
   "cell_type": "markdown",
   "id": "c2f7597d-a83b-4912-a094-183103ecf7f2",
   "metadata": {},
   "source": [
    "# Q4"
   ]
  },
  {
   "cell_type": "code",
   "execution_count": null,
   "id": "83300f54-662f-43cb-a35c-613d6f8a8ea7",
   "metadata": {},
   "outputs": [],
   "source": [
    "# Templates are files that contain static data as well as placeholders for dynamic data. A template is rendered with specific data to produce \n",
    "# a final document. Flask uses the Jinja template library to render templates. In your application, you will use templates to render HTML which \n",
    "# will display in the user's browser."
   ]
  },
  {
   "cell_type": "code",
   "execution_count": null,
   "id": "c473ad1a-06f1-4608-b995-4629308c6d4b",
   "metadata": {},
   "outputs": [],
   "source": [
    "# render_template is used to generate output from a template file based on the Jinja2 engine that is found in the application's templates folder. \n",
    "# Note that render_template is typically imported directly from the flask package instead of from flask. templating"
   ]
  },
  {
   "cell_type": "code",
   "execution_count": null,
   "id": "bff731b2-ade1-4304-9b29-d376c473f86e",
   "metadata": {},
   "outputs": [],
   "source": []
  }
 ],
 "metadata": {
  "kernelspec": {
   "display_name": "Python 3 (ipykernel)",
   "language": "python",
   "name": "python3"
  },
  "language_info": {
   "codemirror_mode": {
    "name": "ipython",
    "version": 3
   },
   "file_extension": ".py",
   "mimetype": "text/x-python",
   "name": "python",
   "nbconvert_exporter": "python",
   "pygments_lexer": "ipython3",
   "version": "3.10.8"
  }
 },
 "nbformat": 4,
 "nbformat_minor": 5
}
