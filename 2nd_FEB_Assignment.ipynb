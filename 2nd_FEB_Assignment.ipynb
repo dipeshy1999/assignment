{
 "cells": [
  {
   "cell_type": "markdown",
   "metadata": {},
   "source": [
    "# Q1 "
   ]
  },
  {
   "cell_type": "code",
   "execution_count": 1,
   "metadata": {},
   "outputs": [
    {
     "name": "stdin",
     "output_type": "stream",
     "text": [
      "Enter a number: 56\n"
     ]
    },
    {
     "name": "stdout",
     "output_type": "stream",
     "text": [
      "TRY AGAIN\n"
     ]
    },
    {
     "name": "stdin",
     "output_type": "stream",
     "text": [
      "Enter a number: 78\n"
     ]
    },
    {
     "name": "stdout",
     "output_type": "stream",
     "text": [
      "TRY AGAIN\n"
     ]
    },
    {
     "name": "stdin",
     "output_type": "stream",
     "text": [
      "Enter a number: 100\n"
     ]
    }
   ],
   "source": [
    "# A while loop is used when w don't know how many iterations will be needed\n",
    "# A program will terminate when user will give input 100\n",
    "n = int(input(\"Enter a number:\"))\n",
    "while n!= 100:\n",
    "    if n!= 100:\n",
    "        print(\"TRY AGAIN\")\n",
    "        n = int(input(\"Enter a number:\"))\n",
    "    else:\n",
    "        break"
   ]
  },
  {
   "cell_type": "code",
   "execution_count": 2,
   "metadata": {},
   "outputs": [
    {
     "name": "stdout",
     "output_type": "stream",
     "text": [
      "2\n",
      "4\n",
      "6\n",
      "8\n",
      "10\n"
     ]
    }
   ],
   "source": [
    "# A for loop is an iteration method that is best used when you know the number of iterations ahead of time. \n",
    "# It’s always followed by the initialization, expression and increment statements.\n",
    "l1 = [1,2,3,4,5,6,7,8,9,10]\n",
    "for i in l1:\n",
    "    if i%2 == 0:\n",
    "        print(i)    "
   ]
  },
  {
   "cell_type": "markdown",
   "metadata": {},
   "source": [
    "# Q2"
   ]
  },
  {
   "cell_type": "code",
   "execution_count": 3,
   "metadata": {},
   "outputs": [
    {
     "name": "stdout",
     "output_type": "stream",
     "text": [
      "Product: 3628800\n",
      "Sum: 55\n"
     ]
    }
   ],
   "source": [
    "l2 = [1,2,3,4,5,6,7,8,9,10]\n",
    "s = 0\n",
    "p = 1\n",
    "for i in l2:\n",
    "    s=s+i\n",
    "    p=p*i\n",
    "print(\"Product:\",p)\n",
    "print(\"Sum:\",s)    "
   ]
  },
  {
   "cell_type": "code",
   "execution_count": 4,
   "metadata": {},
   "outputs": [
    {
     "name": "stdout",
     "output_type": "stream",
     "text": [
      "Product: 3628800\n",
      "Sum: 55\n"
     ]
    }
   ],
   "source": [
    "count = 0\n",
    "s = 0\n",
    "i = 0\n",
    "p = 1\n",
    "while count!= 10:\n",
    "    s=s+l2[i]\n",
    "    p=p*l2[i]\n",
    "    i=i+1\n",
    "    count=count+1\n",
    "print(\"Product:\",p)\n",
    "print(\"Sum:\",s) "
   ]
  },
  {
   "cell_type": "markdown",
   "metadata": {},
   "source": [
    "# Q3"
   ]
  },
  {
   "cell_type": "code",
   "execution_count": 18,
   "metadata": {},
   "outputs": [
    {
     "name": "stdin",
     "output_type": "stream",
     "text": [
      "Enter the number of units: 310\n"
     ]
    },
    {
     "name": "stdout",
     "output_type": "stream",
     "text": [
      "Bill is: 2250.0\n"
     ]
    }
   ],
   "source": [
    "n = float(input(\"Enter the number of units:\"))\n",
    "if n <= 100:\n",
    "    c1 = 4.5*100\n",
    "    print(\"Bill is:\",c1)\n",
    "elif n<=200:\n",
    "    c2 = 100*4.5+(n-100)*6\n",
    "    print(\"Bill is:\",c2)\n",
    "elif n<=300:\n",
    "    c3 = 4.5*100+(n-100)*6+(n-200)*10\n",
    "    print(\"Bill is:\",c3)\n",
    "else:\n",
    "    c4 = 4.5*100+(200-100)*6+(300-200)*10+(n-300)*20\n",
    "    print(\"Bill is:\",c4)"
   ]
  },
  {
   "cell_type": "markdown",
   "metadata": {},
   "source": [
    "# Q4"
   ]
  },
  {
   "cell_type": "code",
   "execution_count": 25,
   "metadata": {},
   "outputs": [],
   "source": [
    "l3 = list(range(1,101))\n",
    "l4 = []"
   ]
  },
  {
   "cell_type": "code",
   "execution_count": 26,
   "metadata": {},
   "outputs": [
    {
     "name": "stdout",
     "output_type": "stream",
     "text": [
      "[1, 2, 3, 4, 5, 6, 7, 8, 9, 10, 11, 12, 13, 14, 15, 16, 17, 18, 19, 20, 21, 22, 23, 24, 25, 26, 27, 28, 29, 30, 31, 32, 33, 34, 35, 36, 37, 38, 39, 40, 41, 42, 43, 44, 45, 46, 47, 48, 49, 50, 51, 52, 53, 54, 55, 56, 57, 58, 59, 60, 61, 62, 63, 64, 65, 66, 67, 68, 69, 70, 71, 72, 73, 74, 75, 76, 77, 78, 79, 80, 81, 82, 83, 84, 85, 86, 87, 88, 89, 90, 91, 92, 93, 94, 95, 96, 97, 98, 99, 100]\n"
     ]
    }
   ],
   "source": [
    "print(l3)"
   ]
  },
  {
   "cell_type": "code",
   "execution_count": 27,
   "metadata": {},
   "outputs": [
    {
     "name": "stdout",
     "output_type": "stream",
     "text": [
      "[2, 4, 5, 6, 8, 10, 12, 14, 15, 16, 18, 20, 22, 24, 25, 26, 28, 30, 32, 34, 35, 36, 38, 40, 42, 44, 45, 46, 48, 50, 52, 54, 55, 56, 58, 60, 62, 64, 65, 66, 68, 70, 72, 74, 75, 76, 78, 80, 82, 84, 85, 86, 88, 90, 92, 94, 95, 96, 98, 100]\n"
     ]
    }
   ],
   "source": [
    "for i in l3:\n",
    "    c = i*i*i\n",
    "    if c%4 == 0 or c%5 == 0:\n",
    "        l4.append(i)\n",
    "print(l4)    "
   ]
  },
  {
   "cell_type": "code",
   "execution_count": 29,
   "metadata": {},
   "outputs": [],
   "source": [
    "l5 = list(range(1,101))\n",
    "l6 = []"
   ]
  },
  {
   "cell_type": "code",
   "execution_count": 30,
   "metadata": {},
   "outputs": [
    {
     "name": "stdout",
     "output_type": "stream",
     "text": [
      "[1, 2, 3, 4, 5, 6, 7, 8, 9, 10, 11, 12, 13, 14, 15, 16, 17, 18, 19, 20, 21, 22, 23, 24, 25, 26, 27, 28, 29, 30, 31, 32, 33, 34, 35, 36, 37, 38, 39, 40, 41, 42, 43, 44, 45, 46, 47, 48, 49, 50, 51, 52, 53, 54, 55, 56, 57, 58, 59, 60, 61, 62, 63, 64, 65, 66, 67, 68, 69, 70, 71, 72, 73, 74, 75, 76, 77, 78, 79, 80, 81, 82, 83, 84, 85, 86, 87, 88, 89, 90, 91, 92, 93, 94, 95, 96, 97, 98, 99, 100]\n"
     ]
    }
   ],
   "source": [
    "print(l5)"
   ]
  },
  {
   "cell_type": "code",
   "execution_count": 34,
   "metadata": {},
   "outputs": [
    {
     "name": "stdout",
     "output_type": "stream",
     "text": [
      "[2, 4, 5, 6, 8, 10, 12, 14, 15, 16, 18, 20, 22, 24, 25, 26, 28, 30, 32, 34, 35, 36, 38, 40, 42, 44, 45, 46, 48, 50, 52, 54, 55, 56, 58, 60, 62, 64, 65, 66, 68, 70, 72, 74, 75, 76, 78, 80, 82, 84, 85, 86, 88, 90, 92, 94, 95, 96, 98, 100]\n"
     ]
    }
   ],
   "source": [
    "count = len(l5)\n",
    "p = 0\n",
    "j = 0\n",
    "while j!= count:\n",
    "    k = l5[p]\n",
    "    u = k*k*k\n",
    "    if u%4 == 0 or u%5 == 0:\n",
    "        l6.append(k)\n",
    "    p = p+1\n",
    "    j = j+1\n",
    "print(l6)    "
   ]
  },
  {
   "cell_type": "markdown",
   "metadata": {},
   "source": [
    "# Q5"
   ]
  },
  {
   "cell_type": "code",
   "execution_count": 36,
   "metadata": {},
   "outputs": [
    {
     "name": "stdout",
     "output_type": "stream",
     "text": [
      "Number of vowels: 12\n"
     ]
    }
   ],
   "source": [
    "s = \"I want to become a data scientist\"\n",
    "count = 0\n",
    "for z in s:\n",
    "    if z=='a' or z=='A' or z=='e' or z =='E' or z=='i' or z=='I' or z=='o' or z=='O' or z=='u':\n",
    "        count =count+1\n",
    "print(\"Number of vowels:\",count)        "
   ]
  },
  {
   "cell_type": "code",
   "execution_count": null,
   "metadata": {},
   "outputs": [],
   "source": []
  }
 ],
 "metadata": {
  "kernelspec": {
   "display_name": "Python 3 (ipykernel)",
   "language": "python",
   "name": "python3"
  },
  "language_info": {
   "codemirror_mode": {
    "name": "ipython",
    "version": 3
   },
   "file_extension": ".py",
   "mimetype": "text/x-python",
   "name": "python",
   "nbconvert_exporter": "python",
   "pygments_lexer": "ipython3",
   "version": "3.10.8"
  }
 },
 "nbformat": 4,
 "nbformat_minor": 4
}
