{
 "cells": [
  {
   "cell_type": "markdown",
   "id": "c2d5a69a-ff9f-46b7-9eb2-ed794c58fc0a",
   "metadata": {},
   "source": [
    "# Q1"
   ]
  },
  {
   "cell_type": "code",
   "execution_count": null,
   "id": "aa5c243c-89c0-4f29-9e12-b2db6caf7567",
   "metadata": {},
   "outputs": [],
   "source": [
    "# PMF                                                 PDF\n",
    "\n",
    "# Solution ranges between numbers                 The solution is in a range of continuous \n",
    "# of discrete random variables                    random variables\n",
    "\n",
    "# Uses discrete random variables                  Uses continuous random variables"
   ]
  },
  {
   "cell_type": "markdown",
   "id": "dd9e4321-0bb1-4c3d-bb95-eae86ae6c2eb",
   "metadata": {},
   "source": [
    "# Q2"
   ]
  },
  {
   "cell_type": "code",
   "execution_count": null,
   "id": "3f758aea-b496-4a34-96e0-173154155e7a",
   "metadata": {},
   "outputs": [],
   "source": [
    "# The cumulative distribution function is used to describe the probability distribution of random variables. \n",
    "# It can be used to describe the probability for a discrete, continuous or mixed variable. It is obtained by \n",
    "# summing up the probability density function and getting the cumulative probability for a random variable."
   ]
  },
  {
   "cell_type": "code",
   "execution_count": null,
   "id": "4eb5b06f-da73-41de-a78e-5c00d2b5e6d9",
   "metadata": {},
   "outputs": [],
   "source": [
    "# The Probability Density Function is a function that gives us the probability distribution of a random variable for any value of it. \n",
    "# To get the probability distribution at a point, you only have to solve the probability density function for that point. "
   ]
  },
  {
   "cell_type": "markdown",
   "id": "571b2d17-2621-4635-9170-ae23c0314459",
   "metadata": {},
   "source": [
    "# Q3"
   ]
  },
  {
   "cell_type": "code",
   "execution_count": 1,
   "id": "834048b3-2b91-4464-a049-e7e79e156abe",
   "metadata": {},
   "outputs": [],
   "source": [
    "# The height of people is an example of normal distribution. Most of the people in a specific population are of average height. \n",
    "# The number of people taller and shorter than the average height people is almost equal, and a very small number of people are \n",
    "# either extremely tall or extremely short."
   ]
  },
  {
   "cell_type": "code",
   "execution_count": null,
   "id": "23b2d91a-2e77-457f-9061-9ffb95ff8f3e",
   "metadata": {},
   "outputs": [],
   "source": [
    "# Mean"
   ]
  },
  {
   "cell_type": "code",
   "execution_count": null,
   "id": "33e3307f-ae33-4502-aeaa-76627fe9e893",
   "metadata": {},
   "outputs": [],
   "source": [
    "# The mean is used by researchers as a measure of central tendency. It can be used to describe the distribution of variables measured \n",
    "# as ratios or intervals. In a normal distribution graph, the mean defines the location of the peak, and most of the data points are \n",
    "# clustered around the mean. Any changes made to the value of the mean move the curve either to the left or right along the X-axis."
   ]
  },
  {
   "cell_type": "code",
   "execution_count": null,
   "id": "e9516484-5758-4006-a6e5-4857d40fb214",
   "metadata": {},
   "outputs": [],
   "source": [
    "# Standard Deviation"
   ]
  },
  {
   "cell_type": "code",
   "execution_count": null,
   "id": "8f27cf0f-df73-4890-9278-282ea085dd4b",
   "metadata": {},
   "outputs": [],
   "source": [
    "# The standard deviation measures the dispersion of the data points relative to the mean. It determines how far away from the \n",
    "# mean the data points are positioned and represents the distance between the mean and the observations.\n",
    "# On the graph, the standard deviation determines the width of the curve, and it tightens or expands the width of the distribution along \n",
    "# the x-axis. Typically, a small standard deviation relative to the mean produces a steep curve, while a large standard deviation relative \n",
    "# to the mean produces a flatter curve."
   ]
  },
  {
   "cell_type": "code",
   "execution_count": null,
   "id": "4a328383-b420-4462-a30f-5ad1f3d28783",
   "metadata": {},
   "outputs": [],
   "source": [
    "# Skewness and Kurtosis"
   ]
  },
  {
   "cell_type": "code",
   "execution_count": null,
   "id": "a3c92843-b93c-438c-a113-abd11e22ba81",
   "metadata": {},
   "outputs": [],
   "source": [
    "# Skewness and kurtosis are coefficients that measure how different a distribution is from a normal distribution. Skewness measures the \n",
    "# symmetry of a normal distribution while kurtosis measures the thickness of the tail ends relative to the tails of a normal distribution."
   ]
  },
  {
   "cell_type": "markdown",
   "id": "349e83ff-0378-4ee3-bf97-31719d19347a",
   "metadata": {},
   "source": [
    "# Q4"
   ]
  },
  {
   "cell_type": "code",
   "execution_count": null,
   "id": "d98e536f-445f-4013-a01f-accb2c9d45fb",
   "metadata": {},
   "outputs": [],
   "source": [
    "# The normal distribution is also termed as a gaussian distribution. It represents the data from the mean position. \n",
    "# In the graph form normal distribution appears as a bell curve."
   ]
  },
  {
   "cell_type": "code",
   "execution_count": null,
   "id": "5476f154-0161-493c-a918-fcf04fe38579",
   "metadata": {},
   "outputs": [],
   "source": [
    "# The normal distribution is widely used in financing industries. To examine the price action of the stocks and to account \n",
    "# for the returns in the assent class."
   ]
  },
  {
   "cell_type": "code",
   "execution_count": null,
   "id": "0dead583-7900-4554-b590-3ff890a46f4a",
   "metadata": {},
   "outputs": [],
   "source": [
    "# The normal distribution is symmetric and has a skewness of zero. The skewness measures the symmetry of a distribution with \n",
    "# respect to the normal distribution."
   ]
  },
  {
   "cell_type": "code",
   "execution_count": null,
   "id": "9912ddb8-1bbc-44a0-b709-5ee1d9d1d1ae",
   "metadata": {},
   "outputs": [],
   "source": [
    "# The normal distribution is an important probability distribution in math and statistics because many continuous data in nature \n",
    "# and psychology display this bell-shaped curve when compiled and graphed."
   ]
  },
  {
   "cell_type": "markdown",
   "id": "98bdf38a-cc51-4a5e-8b62-acd27e48849d",
   "metadata": {},
   "source": [
    "# Q5"
   ]
  },
  {
   "cell_type": "code",
   "execution_count": null,
   "id": "59264534-a14c-4c4d-8ed5-579169ecb9dc",
   "metadata": {},
   "outputs": [],
   "source": [
    "# The Bernoulli distribution therefore describes events having exactly two outcomes, which are ubiquitous in real life. \n",
    "#  Some examples of such events are as follows: a team will win a championship or not, a student will pass or fail an exam, and \\\n",
    "# a rolled dice will either show a 6 or any other number."
   ]
  },
  {
   "cell_type": "code",
   "execution_count": null,
   "id": "c3032c03-7ec4-45de-9594-7aa6bf5ee804",
   "metadata": {},
   "outputs": [],
   "source": [
    "# Bernoulli deals with the outcome of the single trial of the event, whereas Binomial deals with the outcome of the multiple trials of \n",
    "# the single event."
   ]
  },
  {
   "cell_type": "code",
   "execution_count": null,
   "id": "d4cf2309-ee84-45b1-bcc2-e043e79732e0",
   "metadata": {},
   "outputs": [],
   "source": [
    "# Bernoulli is used when the outcome of an event is required for only one time, whereas the Binomial is used when the outcome of an \n",
    "# event is required multiple times."
   ]
  },
  {
   "cell_type": "markdown",
   "id": "591ebed3-3009-41de-8590-0fc716e78ba8",
   "metadata": {},
   "source": [
    "# Q6"
   ]
  },
  {
   "cell_type": "code",
   "execution_count": null,
   "id": "63490ffc-94fd-4192-9724-8533489f0b21",
   "metadata": {},
   "outputs": [],
   "source": [
    "# Mean = 50\n",
    "# Std = 10\n",
    "# Xi = 60"
   ]
  },
  {
   "cell_type": "code",
   "execution_count": null,
   "id": "da9c9c6a-ee6d-46d5-8288-75221d288ff5",
   "metadata": {},
   "outputs": [],
   "source": [
    "# Z_score = (60-50)/10 = 1"
   ]
  },
  {
   "cell_type": "code",
   "execution_count": null,
   "id": "bc5b0d8a-550e-4842-855d-88f31af864fc",
   "metadata": {},
   "outputs": [],
   "source": [
    "# For Z_score 1 value =  0.84134 "
   ]
  },
  {
   "cell_type": "code",
   "execution_count": null,
   "id": "f1cee0c7-062b-43d1-9f11-f5484de5fd59",
   "metadata": {},
   "outputs": [],
   "source": [
    "# 1 - 0.84134 = 0.15866"
   ]
  },
  {
   "cell_type": "markdown",
   "id": "d85f643b-7345-4289-bb09-bdcbcef251d8",
   "metadata": {},
   "source": [
    "# Q7"
   ]
  },
  {
   "cell_type": "code",
   "execution_count": null,
   "id": "889128ca-8ecb-4b81-bf4d-1b0a9f20a77e",
   "metadata": {},
   "outputs": [],
   "source": [
    "# What Is Uniform Distribution? In statistics, uniform distribution refers to a type of probability distribution in which all \n",
    "# outcomes are equally likely. A deck of cards has within it uniform distributions because the likelihood of drawing a heart, a club, \n",
    "# a diamond, or a spade is equally likely."
   ]
  },
  {
   "cell_type": "markdown",
   "id": "7596d435-e23a-4559-963a-44dc5ed84b19",
   "metadata": {},
   "source": [
    "# Q8"
   ]
  },
  {
   "cell_type": "code",
   "execution_count": null,
   "id": "759c95e3-5998-441a-aa85-f8d9a78c32f2",
   "metadata": {},
   "outputs": [],
   "source": [
    "# Z-score is a statistical measurement that describes a value's relationship to the mean of a group of values. Z-score is \n",
    "# measured in terms of standard deviations from the mean. If a Z-score is 0, it indicates that the data point's score is \n",
    "# identical to the mean score. A Z-score of 1.0 would indicate a value that is one standard deviation from the mean. Z-scores \n",
    "# may be positive or negative, with a positive value indicating the score is above the mean and a negative score indicating\n",
    "# it is below the mean."
   ]
  },
  {
   "cell_type": "markdown",
   "id": "836efccb-8903-472c-a06b-8d6f38ae23e4",
   "metadata": {},
   "source": [
    "# Q9"
   ]
  },
  {
   "cell_type": "code",
   "execution_count": null,
   "id": "1db19f96-df49-41e4-aed7-d4a7768e164a",
   "metadata": {},
   "outputs": [],
   "source": [
    "#  The central limit theorem says that the sampling distribution of the mean will always be normally distributed, as long as the \n",
    "# sample size is large enough. Regardless of whether the population has a normal, Poisson, binomial, or any other distribution, the \n",
    "# sampling distribution of the mean will be normal"
   ]
  },
  {
   "cell_type": "code",
   "execution_count": null,
   "id": "17a402e5-c7ec-4ab7-9818-b2b5adf51868",
   "metadata": {},
   "outputs": [],
   "source": [
    "# This is useful since the researcher never knows which mean in the sampling distribution corresponds to the population mean, but by\n",
    "# taking numerous random samples from a population, the sample means will cluster together, allowing the researcher to obtain a very \n",
    "# accurate estimate of the population mean."
   ]
  },
  {
   "cell_type": "markdown",
   "id": "ccf7e2df-12ef-4a7a-a72e-fd1da5b6493a",
   "metadata": {},
   "source": [
    "# Q10"
   ]
  },
  {
   "cell_type": "code",
   "execution_count": null,
   "id": "132975b7-672c-48ca-83de-78d7d7c46da1",
   "metadata": {},
   "outputs": [],
   "source": [
    "# The data must adhere to the randomization rule. It needs to be sampled at random. The samples should be unrelated to one another. \n",
    "# One sample should not impact the others."
   ]
  },
  {
   "cell_type": "code",
   "execution_count": null,
   "id": "adfcdf4c-f0ee-4fdb-9225-ea9255d6eabe",
   "metadata": {},
   "outputs": [],
   "source": []
  }
 ],
 "metadata": {
  "kernelspec": {
   "display_name": "Python 3 (ipykernel)",
   "language": "python",
   "name": "python3"
  },
  "language_info": {
   "codemirror_mode": {
    "name": "ipython",
    "version": 3
   },
   "file_extension": ".py",
   "mimetype": "text/x-python",
   "name": "python",
   "nbconvert_exporter": "python",
   "pygments_lexer": "ipython3",
   "version": "3.10.8"
  }
 },
 "nbformat": 4,
 "nbformat_minor": 5
}
