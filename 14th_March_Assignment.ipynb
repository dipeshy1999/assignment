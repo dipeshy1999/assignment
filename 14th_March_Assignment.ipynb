{
 "cells": [
  {
   "cell_type": "markdown",
   "id": "aea50e2c-2583-4957-8e93-710066ee8b95",
   "metadata": {},
   "source": [
    "# Q1"
   ]
  },
  {
   "cell_type": "code",
   "execution_count": 1,
   "id": "991f4dee-1169-465a-bd6f-5187bcf670ab",
   "metadata": {},
   "outputs": [],
   "source": [
    "import numpy as np\n",
    "from scipy.stats import f\n",
    "\n",
    "def variance_ratio_test(data1, data2):\n",
    "    # Calculate the variances\n",
    "    var1 = np.var(data1, ddof=1)\n",
    "    var2 = np.var(data2, ddof=1)\n",
    "    \n",
    "    # Calculate the F-value\n",
    "    f_value = var1 / var2\n",
    "    \n",
    "    # Calculate the degrees of freedom\n",
    "    df1 = len(data1) - 1\n",
    "    df2 = len(data2) - 1\n",
    "    \n",
    "    # Calculate the p-value\n",
    "    p_value = 1 - f.cdf(f_value, df1, df2)\n",
    "    \n",
    "    return f_value, p_value"
   ]
  },
  {
   "cell_type": "code",
   "execution_count": 2,
   "id": "80f7bc41-71de-48a4-9104-819ec94c22b8",
   "metadata": {},
   "outputs": [],
   "source": [
    "data1 = [1,2,3,4,5,6,7,8,9,10]\n",
    "data2 = [5,6,3,4,7,8,1,9,8,10]"
   ]
  },
  {
   "cell_type": "code",
   "execution_count": 3,
   "id": "e73cade9-2b7a-42ef-988f-7d0a5351cf9b",
   "metadata": {},
   "outputs": [
    {
     "name": "stdout",
     "output_type": "stream",
     "text": [
      "1.1316872427983535 0.428405463215102\n"
     ]
    }
   ],
   "source": [
    "f_value, p_value = variance_ratio_test(data1, data2)\n",
    "print(f_value, p_value)"
   ]
  },
  {
   "cell_type": "markdown",
   "id": "dac5a6b5-4de8-404b-8c7f-ea5b36019ec7",
   "metadata": {},
   "source": [
    "# Q2"
   ]
  },
  {
   "cell_type": "code",
   "execution_count": 4,
   "id": "2870c38d-347c-4ccf-92d4-a69e1c0549aa",
   "metadata": {},
   "outputs": [],
   "source": [
    "from scipy.stats import f\n",
    "\n",
    "def critical_f_value(alpha, df1, df2):\n",
    "    # Calculate the critical F-value\n",
    "    f_critical = f.ppf(1 - alpha/2, df1, df2)\n",
    "    \n",
    "    return f_critical"
   ]
  },
  {
   "cell_type": "markdown",
   "id": "2e03879f-daa1-43cc-b63c-7b1f4f894914",
   "metadata": {},
   "source": [
    "# Q3"
   ]
  },
  {
   "cell_type": "code",
   "execution_count": 5,
   "id": "02e1aaa5-2774-427f-990e-d496052718bd",
   "metadata": {},
   "outputs": [
    {
     "name": "stdout",
     "output_type": "stream",
     "text": [
      "F-value: 0.5068242392861003\n",
      "Degrees of freedom (numerator): 49\n",
      "Degrees of freedom (denominator): 49\n",
      "P-value: 0.9904706925572161\n"
     ]
    }
   ],
   "source": [
    "import numpy as np\n",
    "from scipy.stats import f\n",
    "\n",
    "def variance_ratio_test(data1, data2):\n",
    "    # Calculate the variances\n",
    "    var1 = np.var(data1, ddof=1)\n",
    "    var2 = np.var(data2, ddof=1)\n",
    "    \n",
    "    # Calculate the F-value\n",
    "    f_value = var1 / var2\n",
    "    \n",
    "    # Calculate the degrees of freedom\n",
    "    df1 = len(data1) - 1\n",
    "    df2 = len(data2) - 1\n",
    "    \n",
    "    # Calculate the p-value\n",
    "    p_value = 1 - f.cdf(f_value, df1, df2)\n",
    "    \n",
    "    return f_value, df1, df2, p_value\n",
    "\n",
    "# Set the random seed for reproducibility\n",
    "np.random.seed(42)\n",
    "\n",
    "# Generate random samples from two normal distributions\n",
    "# Let's assume the variances are known (sigma^2_1 = 4 and sigma^2_2 = 9)\n",
    "sample_size = 50\n",
    "data1 = np.random.normal(loc=0, scale=2, size=sample_size)\n",
    "data2 = np.random.normal(loc=0, scale=3, size=sample_size)\n",
    "\n",
    "# Perform the variance ratio test\n",
    "f_value, df1, df2, p_value = variance_ratio_test(data1, data2)\n",
    "\n",
    "# Output the results\n",
    "print(\"F-value:\", f_value)\n",
    "print(\"Degrees of freedom (numerator):\", df1)\n",
    "print(\"Degrees of freedom (denominator):\", df2)\n",
    "print(\"P-value:\", p_value)"
   ]
  },
  {
   "cell_type": "markdown",
   "id": "cbcbcc51-0a0e-4e3f-a9a0-454f5022792b",
   "metadata": {},
   "source": [
    "# Q4"
   ]
  },
  {
   "cell_type": "code",
   "execution_count": 6,
   "id": "4171746a-2a7e-4329-a204-53a4eaf60da7",
   "metadata": {},
   "outputs": [
    {
     "name": "stdout",
     "output_type": "stream",
     "text": [
      "F-value: 0.6666666666666666\n",
      "Degrees of freedom (numerator): 11\n",
      "Degrees of freedom (denominator): 11\n",
      "P-value: 0.7438051006321003\n",
      "The variances are not significantly different (fail to reject null hypothesis).\n"
     ]
    }
   ],
   "source": [
    "import numpy as np\n",
    "from scipy.stats import f\n",
    "\n",
    "def variance_ratio_test(var1, var2, n1, n2):\n",
    "    # Calculate the F-value\n",
    "    f_value = var1 / var2\n",
    "    \n",
    "    # Calculate the degrees of freedom\n",
    "    df1 = n1 - 1\n",
    "    df2 = n2 - 1\n",
    "    \n",
    "    # Calculate the p-value\n",
    "    p_value = 1 - f.cdf(f_value, df1, df2)\n",
    "    \n",
    "    return f_value, df1, df2, p_value\n",
    "\n",
    "# Given information\n",
    "var1 = 10\n",
    "var2 = 15\n",
    "n1 = 12\n",
    "n2 = 12\n",
    "alpha = 0.05\n",
    "\n",
    "# Perform the F-test\n",
    "f_value, df1, df2, p_value = variance_ratio_test(var1, var2, n1, n2)\n",
    "\n",
    "# Output the results\n",
    "print(\"F-value:\", f_value)\n",
    "print(\"Degrees of freedom (numerator):\", df1)\n",
    "print(\"Degrees of freedom (denominator):\", df2)\n",
    "print(\"P-value:\", p_value)\n",
    "\n",
    "# Check if the null hypothesis should be rejected\n",
    "if p_value < alpha:\n",
    "    print(\"The variances are significantly different (reject null hypothesis).\")\n",
    "else:\n",
    "    print(\"The variances are not significantly different (fail to reject null hypothesis).\")"
   ]
  },
  {
   "cell_type": "markdown",
   "id": "c6a28bdc-db45-4bfe-83b2-daa7da0c4525",
   "metadata": {},
   "source": [
    "# Q5"
   ]
  },
  {
   "cell_type": "code",
   "execution_count": 7,
   "id": "949943bf-bca9-4433-9c9b-775785e576db",
   "metadata": {},
   "outputs": [
    {
     "name": "stdout",
     "output_type": "stream",
     "text": [
      "F-value: 1.2\n",
      "Degrees of freedom (numerator): 24\n",
      "Degrees of freedom (denominator): 24\n",
      "P-value: 0.3293654682817244\n",
      "The claim is justified (fail to reject null hypothesis).\n"
     ]
    }
   ],
   "source": [
    "import numpy as np\n",
    "from scipy.stats import f\n",
    "\n",
    "def variance_ratio_test(var_claimed, var_sample, n):\n",
    "    # Calculate the F-value\n",
    "    f_value = var_sample / var_claimed\n",
    "    \n",
    "    # Calculate the degrees of freedom\n",
    "    df1 = n - 1\n",
    "    df2 = n - 1\n",
    "    \n",
    "    # Calculate the p-value\n",
    "    p_value = 1 - f.cdf(f_value, df1, df2)\n",
    "    \n",
    "    return f_value, df1, df2, p_value\n",
    "\n",
    "# Given information\n",
    "var_claimed = 0.005\n",
    "var_sample = 0.006\n",
    "n = 25\n",
    "alpha = 0.01\n",
    "\n",
    "# Perform the F-test\n",
    "f_value, df1, df2, p_value = variance_ratio_test(var_claimed, var_sample, n)\n",
    "\n",
    "# Output the results\n",
    "print(\"F-value:\", f_value)\n",
    "print(\"Degrees of freedom (numerator):\", df1)\n",
    "print(\"Degrees of freedom (denominator):\", df2)\n",
    "print(\"P-value:\", p_value)\n",
    "\n",
    "# Check if the null hypothesis should be rejected\n",
    "if p_value < alpha:\n",
    "    print(\"The claim is not justified (reject null hypothesis).\")\n",
    "else:\n",
    "    print(\"The claim is justified (fail to reject null hypothesis).\")"
   ]
  },
  {
   "cell_type": "markdown",
   "id": "ce0bf95a-0119-492e-9ad5-3bd27ae4c8eb",
   "metadata": {},
   "source": [
    "# Q6"
   ]
  },
  {
   "cell_type": "code",
   "execution_count": 8,
   "id": "7bf57479-4133-4d48-91d7-7cb00b3af125",
   "metadata": {},
   "outputs": [],
   "source": [
    "def f_distribution_mean_variance(df1, df2):\n",
    "    # Calculate the mean of the F-distribution\n",
    "    mean = df2 / (df2 - 2)\n",
    "\n",
    "    # Calculate the variance of the F-distribution\n",
    "    variance = (2 * (df2**2) * (df1 + df2 - 2)) / ((df1 * (df2 - 2)**2 * (df2 - 4)))\n",
    "\n",
    "    return mean, variance"
   ]
  },
  {
   "cell_type": "markdown",
   "id": "340e4e4e-bac1-46b0-bd9f-cdbea5a7332a",
   "metadata": {},
   "source": [
    "# Q7"
   ]
  },
  {
   "cell_type": "code",
   "execution_count": 9,
   "id": "2430f617-1f76-4b3b-b0c3-d900e7769d34",
   "metadata": {},
   "outputs": [
    {
     "name": "stdout",
     "output_type": "stream",
     "text": [
      "F-value: 1.25\n",
      "Degrees of freedom (numerator): 9\n",
      "Degrees of freedom (denominator): 14\n",
      "P-value: 0.3416097191292977\n",
      "The variances are not significantly different (fail to reject null hypothesis).\n"
     ]
    }
   ],
   "source": [
    "import numpy as np\n",
    "from scipy.stats import f\n",
    "\n",
    "def variance_ratio_test(var1, var2, n1, n2):\n",
    "    # Calculate the F-value\n",
    "    f_value = var1 / var2\n",
    "    \n",
    "    # Calculate the degrees of freedom\n",
    "    df1 = n1 - 1\n",
    "    df2 = n2 - 1\n",
    "    \n",
    "    # Calculate the p-value\n",
    "    p_value = 1 - f.cdf(f_value, df1, df2)\n",
    "    \n",
    "    return f_value, df1, df2, p_value\n",
    "\n",
    "# Given information\n",
    "var1 = 25\n",
    "var2 = 20\n",
    "n1 = 10\n",
    "n2 = 15\n",
    "alpha = 0.10\n",
    "\n",
    "# Perform the F-test\n",
    "f_value, df1, df2, p_value = variance_ratio_test(var1, var2, n1, n2)\n",
    "\n",
    "# Output the results\n",
    "print(\"F-value:\", f_value)\n",
    "print(\"Degrees of freedom (numerator):\", df1)\n",
    "print(\"Degrees of freedom (denominator):\", df2)\n",
    "print(\"P-value:\", p_value)\n",
    "\n",
    "# Check if the null hypothesis should be rejected\n",
    "if p_value < alpha:\n",
    "    print(\"The variances are significantly different (reject null hypothesis).\")\n",
    "else:\n",
    "    print(\"The variances are not significantly different (fail to reject null hypothesis).\")"
   ]
  },
  {
   "cell_type": "markdown",
   "id": "02f9fdcc-ebf3-44ac-b2b8-7800efa73cb7",
   "metadata": {},
   "source": [
    "# Q8"
   ]
  },
  {
   "cell_type": "code",
   "execution_count": 1,
   "id": "875af8e9-fab1-42a0-a992-ac357feec486",
   "metadata": {},
   "outputs": [
    {
     "name": "stdout",
     "output_type": "stream",
     "text": [
      "F-value: 1.4551907719609583\n",
      "Degrees of freedom (numerator): 6\n",
      "Degrees of freedom (denominator): 5\n",
      "P-value: 0.3487407873968742\n",
      "The variances are not significantly different (fail to reject null hypothesis).\n"
     ]
    }
   ],
   "source": [
    "import numpy as np\n",
    "from scipy.stats import f\n",
    "\n",
    "def variance_ratio_test(data1, data2):\n",
    "    # Calculate the variances\n",
    "    var1 = np.var(data1, ddof=1)\n",
    "    var2 = np.var(data2, ddof=1)\n",
    "    \n",
    "    # Calculate the F-value\n",
    "    f_value = var1 / var2\n",
    "    \n",
    "    # Calculate the degrees of freedom\n",
    "    df1 = len(data1) - 1\n",
    "    df2 = len(data2) - 1\n",
    "    \n",
    "    # Calculate the p-value\n",
    "    p_value = 1 - f.cdf(f_value, df1, df2)\n",
    "    \n",
    "    return f_value, df1, df2, p_value\n",
    "\n",
    "# Given data\n",
    "data1 = [24, 25, 28, 23, 22, 20, 27]\n",
    "data2 = [31, 33, 35, 30, 32, 36]\n",
    "alpha = 0.05\n",
    "\n",
    "# Perform the F-test\n",
    "f_value, df1, df2, p_value = variance_ratio_test(data1, data2)\n",
    "\n",
    "# Output the results\n",
    "print(\"F-value:\", f_value)\n",
    "print(\"Degrees of freedom (numerator):\", df1)\n",
    "print(\"Degrees of freedom (denominator):\", df2)\n",
    "print(\"P-value:\", p_value)\n",
    "\n",
    "# Check if the null hypothesis should be rejected\n",
    "if p_value < alpha:\n",
    "    print(\"The variances are significantly different (reject null hypothesis).\")\n",
    "else:\n",
    "    print(\"The variances are not significantly different (fail to reject null hypothesis).\")"
   ]
  },
  {
   "cell_type": "markdown",
   "id": "9e2d741b-a001-493e-bb7a-36885f070cf7",
   "metadata": {},
   "source": [
    "# Q9"
   ]
  },
  {
   "cell_type": "code",
   "execution_count": null,
   "id": "408be095-ed89-4032-a805-3a1155d4f377",
   "metadata": {},
   "outputs": [],
   "source": []
  }
 ],
 "metadata": {
  "kernelspec": {
   "display_name": "Python 3 (ipykernel)",
   "language": "python",
   "name": "python3"
  },
  "language_info": {
   "codemirror_mode": {
    "name": "ipython",
    "version": 3
   },
   "file_extension": ".py",
   "mimetype": "text/x-python",
   "name": "python",
   "nbconvert_exporter": "python",
   "pygments_lexer": "ipython3",
   "version": "3.10.8"
  }
 },
 "nbformat": 4,
 "nbformat_minor": 5
}
