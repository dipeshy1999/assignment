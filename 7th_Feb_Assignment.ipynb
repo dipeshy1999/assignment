{
 "cells": [
  {
   "cell_type": "markdown",
   "id": "ef35f749-425c-420a-8830-c0bc606f9294",
   "metadata": {},
   "source": [
    "# Q1"
   ]
  },
  {
   "cell_type": "code",
   "execution_count": 1,
   "id": "afa16774-e1d1-4c20-950d-c808e37963c5",
   "metadata": {},
   "outputs": [
    {
     "name": "stdin",
     "output_type": "stream",
     "text": [
      "Enter the Password: abc\n"
     ]
    },
    {
     "name": "stdout",
     "output_type": "stream",
     "text": [
      "Invalid Password\n"
     ]
    }
   ],
   "source": [
    "str = input(\"Enter the Password:\")\n",
    "def password(str):\n",
    "    sc = 0\n",
    "    lc = 0\n",
    "    uc = 0\n",
    "    l = len(str)\n",
    "    d = 0\n",
    "    for i in str:\n",
    "        if i.islower():\n",
    "            lc = lc + 1\n",
    "        elif i.isupper():\n",
    "            uc = uc + 1\n",
    "        elif i.isdigit():\n",
    "            d = d + 1\n",
    "    for i in str:\n",
    "        if i.isalpha():\n",
    "            continue\n",
    "        elif i.isdigit():\n",
    "            continue\n",
    "        else:\n",
    "            sc = sc + 1\n",
    "    if lc >= 2 and uc >= 2 and d >= 1 and sc >= 3 and l == 10:\n",
    "        return \"Valid Password\"\n",
    "    else:\n",
    "        return \"Invalid Password\"\n",
    "s = password(str)\n",
    "print(s)"
   ]
  },
  {
   "cell_type": "markdown",
   "id": "fe0f462c-837b-4d62-9548-533b01bbad66",
   "metadata": {},
   "source": [
    "# Q2"
   ]
  },
  {
   "cell_type": "markdown",
   "id": "cf1f4e83-0458-4076-b787-2ebc78b11dc6",
   "metadata": {},
   "source": [
    "# (i)"
   ]
  },
  {
   "cell_type": "code",
   "execution_count": 2,
   "id": "3d2e6310-f096-410e-8c0e-2d554ea06e5c",
   "metadata": {},
   "outputs": [
    {
     "name": "stdin",
     "output_type": "stream",
     "text": [
      "Enter the string: abc\n",
      "Enter the character for which you want to check: a\n"
     ]
    },
    {
     "name": "stdout",
     "output_type": "stream",
     "text": [
      "YES\n"
     ]
    }
   ],
   "source": [
    "x = input(\"Enter the string:\")\n",
    "ch = input(\"Enter the character for which you want to check:\")\n",
    "a = lambda x,ch: True if (x[0] == ch) else False\n",
    "if a(x,ch) == True:\n",
    "    print(\"YES\")\n",
    "else:\n",
    "    print(\"NO\")  "
   ]
  },
  {
   "cell_type": "markdown",
   "id": "651588ff-e665-4f08-9635-a9f7d74e001d",
   "metadata": {},
   "source": [
    "# (ii)"
   ]
  },
  {
   "cell_type": "code",
   "execution_count": 3,
   "id": "96edca9d-e73f-47bb-9c23-c6355a3c670f",
   "metadata": {},
   "outputs": [
    {
     "name": "stdin",
     "output_type": "stream",
     "text": [
      "Enter the string: 123\n"
     ]
    },
    {
     "name": "stdout",
     "output_type": "stream",
     "text": [
      "YES\n"
     ]
    }
   ],
   "source": [
    "x = input(\"Enter the string:\")\n",
    "a = lambda x: True if x.isnumeric() else False\n",
    "if a(x) == True:\n",
    "    print(\"YES\")\n",
    "else:\n",
    "    print(\"NO\")"
   ]
  },
  {
   "cell_type": "markdown",
   "id": "8e042d2f-b0c1-4e09-b344-5d940ef55c94",
   "metadata": {},
   "source": [
    "# (iii)"
   ]
  },
  {
   "cell_type": "code",
   "execution_count": 4,
   "id": "5b2c4cdd-55cd-46b4-8e36-1618d46ea474",
   "metadata": {},
   "outputs": [
    {
     "name": "stdout",
     "output_type": "stream",
     "text": [
      "[('orange', 80), ('mango', 99), ('grapes', 1000)]\n"
     ]
    }
   ],
   "source": [
    "def Sort_Tuple(tup):\n",
    "\ttup.sort(key = lambda x: x[1])\n",
    "\treturn tup\n",
    "tup = [('mango',99), ('orange',80), ('grapes',1000)]\n",
    "print(Sort_Tuple(tup))"
   ]
  },
  {
   "cell_type": "markdown",
   "id": "97e998d7-99c2-45fc-aa69-0e17f3b9859f",
   "metadata": {},
   "source": [
    "# (iv)"
   ]
  },
  {
   "cell_type": "code",
   "execution_count": 3,
   "id": "28849d3d-d4d4-495b-9ec0-95cd959ba9c1",
   "metadata": {},
   "outputs": [
    {
     "name": "stdout",
     "output_type": "stream",
     "text": [
      "[1, 2, 3, 4, 5, 6, 7, 8, 9, 10]\n"
     ]
    }
   ],
   "source": [
    "l1 = list(range(1,11))\n",
    "print(l1)"
   ]
  },
  {
   "cell_type": "code",
   "execution_count": 4,
   "id": "96610f1d-8892-4637-bdc0-4918b2423e8c",
   "metadata": {},
   "outputs": [],
   "source": [
    "def sq(x):\n",
    "    return x*x"
   ]
  },
  {
   "cell_type": "code",
   "execution_count": 6,
   "id": "fdde9b6d-f2e6-466e-b33e-365a882099c1",
   "metadata": {},
   "outputs": [],
   "source": [
    "l2 = list(map(sq,l1))"
   ]
  },
  {
   "cell_type": "code",
   "execution_count": 8,
   "id": "ea6636f8-2578-402c-a8b7-d3937a9921b4",
   "metadata": {},
   "outputs": [
    {
     "name": "stdout",
     "output_type": "stream",
     "text": [
      "[1, 2, 3, 4, 5, 6, 7, 8, 9, 10]\n",
      "[1, 4, 9, 16, 25, 36, 49, 64, 81, 100]\n"
     ]
    }
   ],
   "source": [
    "print(l1)\n",
    "print(l2)"
   ]
  },
  {
   "cell_type": "markdown",
   "id": "e405ee21-66bb-492a-af63-be568d15f974",
   "metadata": {},
   "source": [
    "# (v)"
   ]
  },
  {
   "cell_type": "code",
   "execution_count": 9,
   "id": "541f7504-557b-4474-a1d6-6a7beb970363",
   "metadata": {},
   "outputs": [],
   "source": [
    "def cb(x):\n",
    "    return x**(1/3)"
   ]
  },
  {
   "cell_type": "code",
   "execution_count": 10,
   "id": "9891cf55-9c46-4b08-8aaa-e1b726bcc7b5",
   "metadata": {},
   "outputs": [],
   "source": [
    "l3 = list(map(cb,l1))"
   ]
  },
  {
   "cell_type": "code",
   "execution_count": 11,
   "id": "93fc81c0-a125-4fc9-988e-8607e00d8722",
   "metadata": {},
   "outputs": [
    {
     "name": "stdout",
     "output_type": "stream",
     "text": [
      "[1, 2, 3, 4, 5, 6, 7, 8, 9, 10]\n",
      "[1.0, 1.2599210498948732, 1.4422495703074083, 1.5874010519681994, 1.7099759466766968, 1.8171205928321397, 1.912931182772389, 2.0, 2.080083823051904, 2.154434690031884]\n"
     ]
    }
   ],
   "source": [
    "print(l1)\n",
    "print(l3)"
   ]
  },
  {
   "cell_type": "code",
   "execution_count": 13,
   "id": "66aa4160-eb93-4a74-81ce-03daee7eb371",
   "metadata": {},
   "outputs": [
    {
     "name": "stdout",
     "output_type": "stream",
     "text": [
      "[2, 4, 6, 8, 10]\n"
     ]
    }
   ],
   "source": [
    "l4 = []\n",
    "l4 = list(filter(lambda x: x%2 == 0,l1))\n",
    "print(l4)"
   ]
  },
  {
   "cell_type": "markdown",
   "id": "ad3c6975-aae7-481e-87fd-ce231073701b",
   "metadata": {},
   "source": [
    "# (vi)"
   ]
  },
  {
   "cell_type": "code",
   "execution_count": 14,
   "id": "0f580c03-5e9a-48ce-83ec-cb0f5f212005",
   "metadata": {},
   "outputs": [
    {
     "name": "stdout",
     "output_type": "stream",
     "text": [
      "[1, 3, 5, 7, 9]\n"
     ]
    }
   ],
   "source": [
    "l5 = []\n",
    "l5 = list(filter(lambda x: x%2 != 0,l1))\n",
    "print(l5)"
   ]
  },
  {
   "cell_type": "markdown",
   "id": "4aac3aa7-9a72-43f0-91ef-41038b78d8ca",
   "metadata": {},
   "source": [
    "# (vii)"
   ]
  },
  {
   "cell_type": "code",
   "execution_count": 19,
   "id": "79766bca-3d8a-464c-bf0f-f08b542ee411",
   "metadata": {},
   "outputs": [
    {
     "name": "stdout",
     "output_type": "stream",
     "text": [
      "[1, 2, 3, 4, 5, 6, 0]\n",
      "[-1, -2, -3, -4, -5]\n"
     ]
    }
   ],
   "source": [
    "test = [1,2,3,4,5,6,-1,-2,-3,-4,-5,0]\n",
    "l7 = []\n",
    "l8 = []\n",
    "l6 = [1,2,3,4,5,6,-1,-2,-3,-4,-5,0]\n",
    "l7 = list(filter(lambda x: x >= 0,test))\n",
    "l8 = list(filter(lambda x: x < 0,test))\n",
    "print(l7)\n",
    "print(l8)"
   ]
  },
  {
   "cell_type": "code",
   "execution_count": null,
   "id": "c565ab34-71f9-4f17-b202-ec96f074a019",
   "metadata": {},
   "outputs": [],
   "source": []
  }
 ],
 "metadata": {
  "kernelspec": {
   "display_name": "Python 3 (ipykernel)",
   "language": "python",
   "name": "python3"
  },
  "language_info": {
   "codemirror_mode": {
    "name": "ipython",
    "version": 3
   },
   "file_extension": ".py",
   "mimetype": "text/x-python",
   "name": "python",
   "nbconvert_exporter": "python",
   "pygments_lexer": "ipython3",
   "version": "3.10.8"
  }
 },
 "nbformat": 4,
 "nbformat_minor": 5
}
