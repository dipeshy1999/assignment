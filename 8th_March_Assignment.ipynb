{
 "cells": [
  {
   "cell_type": "markdown",
   "id": "0a0e880a-045e-4ab8-9e9a-c713874773be",
   "metadata": {},
   "source": [
    "# Q1"
   ]
  },
  {
   "cell_type": "code",
   "execution_count": null,
   "id": "2a7a8900-91f1-46b9-bf3b-7d2ce8a40935",
   "metadata": {},
   "outputs": [],
   "source": [
    "# The Probability Density Function(PDF) defines the probability function representing the density of a continuous random variable lying \n",
    "# between a specific range of values. In other words, the probability density function produces the likelihood of values of the continuous \n",
    "# random variable. Sometimes it is also called a probability distribution function or just a probability function"
   ]
  },
  {
   "cell_type": "markdown",
   "id": "388542cb-f587-48dc-a40c-28f4dd39b60b",
   "metadata": {},
   "source": [
    "# Q2"
   ]
  },
  {
   "cell_type": "code",
   "execution_count": null,
   "id": "07094c5f-3f17-4995-b97a-b4739c4879b1",
   "metadata": {},
   "outputs": [],
   "source": [
    "# There are two types of probability distributions: Discrete probability distributions. Continuous probability distributions."
   ]
  },
  {
   "cell_type": "markdown",
   "id": "f3c103b4-8c6f-4e33-95fd-b382f236121b",
   "metadata": {},
   "source": [
    "# Q3"
   ]
  },
  {
   "cell_type": "code",
   "execution_count": 1,
   "id": "d76ef906-c1ac-443d-8a21-f356bc371d71",
   "metadata": {},
   "outputs": [
    {
     "name": "stdout",
     "output_type": "stream",
     "text": [
      "0.0804410163156249\n"
     ]
    }
   ],
   "source": [
    "from scipy.stats import norm\n",
    "import numpy as np\n",
    "\n",
    "data_start = -5\n",
    "data_end = 5\n",
    "data_points = 11\n",
    "data = np.linspace(data_start, data_end, data_points)\n",
    "\n",
    "mean = np.mean(data)\n",
    "std = np.std(data)\n",
    "\n",
    "probability_pdf = norm.pdf(3, loc=mean, scale=std)\n",
    "print(probability_pdf)"
   ]
  },
  {
   "cell_type": "markdown",
   "id": "3b6508a9-bbf5-4c04-89ed-a99c3a49bc21",
   "metadata": {},
   "source": [
    "# Q4"
   ]
  },
  {
   "cell_type": "code",
   "execution_count": null,
   "id": "e0a5e28d-bb81-405a-9d15-e14f91205772",
   "metadata": {},
   "outputs": [],
   "source": [
    "# The binomial distribution is the discrete probability distribution that gives only two possible results in an experiment, either\n",
    "# Success or Failure. For example, if we toss a coin, there could be only two possible outcomes: heads or tails, and if any test is taken, \n",
    "# then there could be only two results: pass or fail. This distribution is also called a binomial probability distribution."
   ]
  },
  {
   "cell_type": "code",
   "execution_count": null,
   "id": "a356d8eb-cb4e-4f57-af89-1e84e78c80d1",
   "metadata": {},
   "outputs": [],
   "source": [
    "# Ex1-> if we toss a coin, there could be only two possible outcomes: heads or tails, and if any test is taken, then there could be \n",
    "# only two results: pass or fail"
   ]
  },
  {
   "cell_type": "code",
   "execution_count": null,
   "id": "42dd0587-890a-41aa-b03e-a28dbeb77992",
   "metadata": {},
   "outputs": [],
   "source": [
    "# Ex2 -> A person will pass of fail the test"
   ]
  },
  {
   "cell_type": "markdown",
   "id": "b1881717-ee0d-40d0-ad74-bab62c112226",
   "metadata": {},
   "source": [
    "# Q5"
   ]
  },
  {
   "cell_type": "code",
   "execution_count": 5,
   "id": "1af63ea9-f391-4bde-8a9e-532a2cd30806",
   "metadata": {},
   "outputs": [
    {
     "name": "stderr",
     "output_type": "stream",
     "text": [
      "/tmp/ipykernel_90/4006828284.py:5: UserWarning: \n",
      "\n",
      "`distplot` is a deprecated function and will be removed in seaborn v0.14.0.\n",
      "\n",
      "Please adapt your code to use either `displot` (a figure-level function with\n",
      "similar flexibility) or `histplot` (an axes-level function for histograms).\n",
      "\n",
      "For a guide to updating your code to use the new functions, please see\n",
      "https://gist.github.com/mwaskom/de44147ed2974457ad6372750bbe5751\n",
      "\n",
      "  sns.distplot(random.binomial(n = 10,p = 0.4, size = 1000), hist=True, kde=False)\n"
     ]
    },
    {
     "data": {
      "image/png": "[encoded data removed]",
      "text/plain": [
       "<Figure size 640x480 with 1 Axes>"
      ]
     },
     "metadata": {},
     "output_type": "display_data"
    }
   ],
   "source": [
    "from numpy import random\n",
    "import matplotlib.pyplot as plt\n",
    "import seaborn as sns\n",
    "\n",
    "sns.distplot(random.binomial(n = 10,p = 0.4, size = 1000), hist=True, kde=False)\n",
    "plt.show()"
   ]
  },
  {
   "cell_type": "markdown",
   "id": "80df3e4b-8673-4344-b668-2d634f9398ac",
   "metadata": {},
   "source": [
    "# Q6"
   ]
  },
  {
   "cell_type": "code",
   "execution_count": 6,
   "id": "a0597bc5-1488-441f-bed6-44da2167223c",
   "metadata": {},
   "outputs": [
    {
     "data": {
      "text/plain": [
       "(array([0.18181818, 0.20409091, 0.20609091, 0.14990909, 0.09245455,\n",
       "        0.04727273, 0.01809091, 0.00627273, 0.00190909, 0.00118182]),\n",
       " array([ 0. ,  1.1,  2.2,  3.3,  4.4,  5.5,  6.6,  7.7,  8.8,  9.9, 11. ]),\n",
       " <BarContainer object of 10 artists>)"
      ]
     },
     "execution_count": 6,
     "metadata": {},
     "output_type": "execute_result"
    },
    {
     "data": {
      "image/png": "[encoded data removed]",
      "text/plain": [
       "<Figure size 640x480 with 1 Axes>"
      ]
     },
     "metadata": {},
     "output_type": "display_data"
    }
   ],
   "source": [
    "from scipy.stats import poisson\n",
    "import matplotlib.pyplot as plt\n",
    "\n",
    "#generate Poisson distribution with sample size 10000\n",
    "x = poisson.rvs(mu=3, size=10000)\n",
    "\n",
    "#create plot of Poisson distribution\n",
    "plt.hist(x, density=True, edgecolor='black')"
   ]
  },
  {
   "cell_type": "markdown",
   "id": "6ddb2a3f-159a-4252-af46-bc2a0d0462a2",
   "metadata": {},
   "source": [
    "# Q7"
   ]
  },
  {
   "cell_type": "code",
   "execution_count": null,
   "id": "269aec4c-023c-4ef3-8e53-07ab797fd7cc",
   "metadata": {},
   "outputs": [],
   "source": [
    "# Binomial                                                                 Poisson\n",
    "\n",
    "# Binomial distribution is one in which                       Poisson Distribution gives the count of independent .\n",
    "# the probability of repeated number of                       events occur randomly with a given period of time\n",
    "# trials are studied.\n",
    "\n",
    "# Constant probability                                         Infinitesimal chance of success\n",
    "\n",
    "# Only two possible outcomes,                                  Unlimited number of possible outcomes.\n",
    "# i.e. success or failure."
   ]
  },
  {
   "cell_type": "markdown",
   "id": "4f6f5159-6f7a-49ff-80bc-afe4bdca3a91",
   "metadata": {},
   "source": [
    "# Q9"
   ]
  },
  {
   "cell_type": "code",
   "execution_count": null,
   "id": "f9a86bc1-a119-43b2-a1b7-fa3111ab22ab",
   "metadata": {},
   "outputs": [],
   "source": [
    "# Binommial\n",
    "# Mean =  n*p\n",
    "# Variance = n*p*q"
   ]
  },
  {
   "cell_type": "code",
   "execution_count": null,
   "id": "22bfd7c5-cb3c-462d-8da2-4444deaa54a8",
   "metadata": {},
   "outputs": [],
   "source": [
    "# Poisson\n",
    "# The Poisson distribution has only one parameter, called λ. The mean of a Poisson distribution is λ. \n",
    "#  The variance of a Poisson distribution is also λ."
   ]
  },
  {
   "cell_type": "markdown",
   "id": "b80e3496-d62b-45cb-99ba-a458ef93f17b",
   "metadata": {},
   "source": [
    "# Q10"
   ]
  },
  {
   "cell_type": "code",
   "execution_count": null,
   "id": "8fffec66-68dd-48a0-8b01-ac8e62c248fb",
   "metadata": {},
   "outputs": [],
   "source": [
    "# At the end most points on both the sides"
   ]
  },
  {
   "cell_type": "code",
   "execution_count": null,
   "id": "dfecbae3-6ac8-4812-9888-42ff951c5bdf",
   "metadata": {},
   "outputs": [],
   "source": []
  }
 ],
 "metadata": {
  "kernelspec": {
   "display_name": "Python 3 (ipykernel)",
   "language": "python",
   "name": "python3"
  },
  "language_info": {
   "codemirror_mode": {
    "name": "ipython",
    "version": 3
   },
   "file_extension": ".py",
   "mimetype": "text/x-python",
   "name": "python",
   "nbconvert_exporter": "python",
   "pygments_lexer": "ipython3",
   "version": "3.10.8"
  }
 },
 "nbformat": 4,
 "nbformat_minor": 5
}
