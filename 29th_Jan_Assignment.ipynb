{
 "cells": [
  {
   "cell_type": "markdown",
   "id": "79d354ab-7e83-4dcf-9a43-9551ad3f2e3f",
   "metadata": {},
   "source": [
    "# Q1"
   ]
  },
  {
   "cell_type": "code",
   "execution_count": null,
   "id": "2eee7030-390d-4dbe-a8ce-6acdf55ae68d",
   "metadata": {},
   "outputs": [],
   "source": [
    "# It was initially designed by Guido van Rossum in 1991 and developed by Python Software Foundation. It was mainly developed for emphasis on \n",
    "# code readability, and its syntax allows programmers to express concepts in fewer lines of code."
   ]
  },
  {
   "cell_type": "markdown",
   "id": "1fba6f65-4e60-4266-b631-5c04e7005f4e",
   "metadata": {},
   "source": [
    "# Q2"
   ]
  },
  {
   "cell_type": "code",
   "execution_count": null,
   "id": "7f80d570-4c28-4e9e-8cfc-3c3e47f38d35",
   "metadata": {},
   "outputs": [],
   "source": [
    "# Python is an interpreted, interactive, object-oriented programming language. It incorporates modules, exceptions, dynamic typing, \n",
    "# very high level dynamic data types, and classes. It supports multiple programming paradigms beyond object-oriented programming, such \n",
    "# as procedural and functional programming."
   ]
  },
  {
   "cell_type": "markdown",
   "id": "dc31fdc7-9093-4a2b-8476-a242a1f82c3f",
   "metadata": {},
   "source": [
    "# Q3"
   ]
  },
  {
   "cell_type": "code",
   "execution_count": null,
   "id": "2c07e6ac-be86-4030-8cd8-ed5d08f25855",
   "metadata": {},
   "outputs": [],
   "source": [
    "# Yes, Python is a case-sensitive language. That is, it considers uppercase and lowercase characters differently. The property is useful\n",
    "# while naming identifiers to make the code more readable and maintainable."
   ]
  },
  {
   "cell_type": "markdown",
   "id": "e62e2545-e494-4ff7-ba97-85730e45378c",
   "metadata": {},
   "source": [
    "# Q4"
   ]
  },
  {
   "cell_type": "code",
   "execution_count": null,
   "id": "72552f4a-e879-46cf-aa11-19f3e0912369",
   "metadata": {},
   "outputs": [],
   "source": [
    "# Extension of python is .py"
   ]
  },
  {
   "cell_type": "markdown",
   "id": "85d16b0a-1bdc-4394-9705-b40ac9b2502f",
   "metadata": {},
   "source": [
    "# Q5"
   ]
  },
  {
   "cell_type": "code",
   "execution_count": null,
   "id": "9ec05441-e056-4e15-8bb0-1b55215b7a4e",
   "metadata": {},
   "outputs": [],
   "source": [
    "# Python is an interpreted language, which means the source code of a Python program is converted into bytecode that is \n",
    "# then executed by the Python virtual machine."
   ]
  },
  {
   "cell_type": "markdown",
   "id": "abb01368-4671-4812-9a60-69a808d2e396",
   "metadata": {},
   "source": [
    "# Q6"
   ]
  },
  {
   "cell_type": "code",
   "execution_count": null,
   "id": "72e7fc3c-18d7-44f6-ae4f-9193b7aee65f",
   "metadata": {},
   "outputs": [],
   "source": [
    "# Indentation is used to define a block of code in python."
   ]
  },
  {
   "cell_type": "markdown",
   "id": "721b3eef-f22a-4185-8f3f-d77a436156ca",
   "metadata": {},
   "source": [
    "# Q7"
   ]
  },
  {
   "cell_type": "code",
   "execution_count": null,
   "id": "95912504-158a-4a1e-9fc8-ca404245de6c",
   "metadata": {},
   "outputs": [],
   "source": [
    "# is used to create single line comments"
   ]
  },
  {
   "cell_type": "markdown",
   "id": "cedaace5-a64e-4a97-8a51-b87e47a74d9b",
   "metadata": {},
   "source": [
    "# Q8"
   ]
  },
  {
   "cell_type": "code",
   "execution_count": null,
   "id": "c171ad77-1b04-4c56-879b-a97c7704c200",
   "metadata": {},
   "outputs": [],
   "source": [
    "# We can also use the .python_version() method present in the platform module to print the version of the Python interpreter installed on the system. \n",
    "# The platform.python_version() method returns a string in the form major.minor.patchlevel. "
   ]
  },
  {
   "cell_type": "code",
   "execution_count": 1,
   "id": "e7d7eaa3-b14e-4da0-8432-60e711e5edcd",
   "metadata": {},
   "outputs": [
    {
     "name": "stdout",
     "output_type": "stream",
     "text": [
      "3.10.8\n"
     ]
    }
   ],
   "source": [
    "import platform\n",
    "print(platform.python_version())"
   ]
  },
  {
   "cell_type": "markdown",
   "id": "672a32d4-9015-4647-b67d-9b83df84f01a",
   "metadata": {},
   "source": [
    "# Q9"
   ]
  },
  {
   "cell_type": "code",
   "execution_count": null,
   "id": "594fbe7c-0917-4ced-a710-7b06759c0dc3",
   "metadata": {},
   "outputs": [],
   "source": [
    "# Python supports the creation of anonymous functions (i.e. functions that are not bound to a name) at runtime, using a construct called lambda. \n",
    "# Lambda functions are restricted to a single expression. They can be used wherever normal functions can be used."
   ]
  },
  {
   "cell_type": "markdown",
   "id": "9ed2621e-40b0-45d2-b72e-a4e41e2bef28",
   "metadata": {},
   "source": [
    "# Q10"
   ]
  },
  {
   "cell_type": "code",
   "execution_count": null,
   "id": "32bdb25e-ad44-4f6a-9856-91b18a13d636",
   "metadata": {},
   "outputs": [],
   "source": [
    "# Pip is a package-management system written in Python and is used to install and manage software packages.[4] The Python Software Foundation \n",
    "# recommends using pip for installing Python applications and its dependencies during deployment.[5] Pip connects to an online repository of public \n",
    "# packages, called the Python Package Index."
   ]
  },
  {
   "cell_type": "markdown",
   "id": "87ce2f6d-3bd8-42a5-afd5-a443da71f501",
   "metadata": {},
   "source": [
    "# Q11"
   ]
  },
  {
   "cell_type": "code",
   "execution_count": null,
   "id": "87d24ef8-bb6c-430e-924f-1104fa12e5f5",
   "metadata": {},
   "outputs": [],
   "source": [
    "# Python_abs()\n",
    "# Python all()\n",
    "# Python any()\n",
    "# Python ascii()\n",
    "# Python calllable()\n",
    "# Python chr()"
   ]
  },
  {
   "cell_type": "markdown",
   "id": "6d052c1f-9564-44c5-bb2e-d71ed81fab73",
   "metadata": {},
   "source": [
    "# Q12"
   ]
  },
  {
   "cell_type": "code",
   "execution_count": null,
   "id": "13899d03-f9ee-474a-a867-13cfaa6d156e",
   "metadata": {},
   "outputs": [],
   "source": [
    "# 79 is the maximum possible length in python"
   ]
  },
  {
   "cell_type": "markdown",
   "id": "0d6b3525-424b-4fba-acea-386124b0ac58",
   "metadata": {},
   "source": [
    "# Q13"
   ]
  },
  {
   "cell_type": "code",
   "execution_count": null,
   "id": "a3f18077-036c-4e19-a3a4-5be9222d243c",
   "metadata": {},
   "outputs": [],
   "source": [
    "# Simple to Use and Understand\n",
    "# Free and Open-Source\n",
    "# Productivity has Increased\n",
    "# Interpreted Language\n",
    "# Extensive library\n",
    "# Dynamically Typed\n",
    "# Portability\n",
    "# Supportive community"
   ]
  },
  {
   "cell_type": "markdown",
   "id": "479ebd36-c518-43f1-8490-c086da0fd8c4",
   "metadata": {},
   "source": [
    "# Q14"
   ]
  },
  {
   "cell_type": "code",
   "execution_count": null,
   "id": "76c9e78f-a186-4cc3-9467-f21505d0e23e",
   "metadata": {},
   "outputs": [],
   "source": [
    "# Python uses the dynamic memory allocation which is managed by the Heap data structure. Memory Heap holds the objects and other data structures \n",
    "# that will be used in the program. Python memory manager manages the allocation or #de-allocation of the heap memory space through the API functions."
   ]
  },
  {
   "cell_type": "markdown",
   "id": "bffa7b62-c805-4de3-8150-c525cb9ba86a",
   "metadata": {},
   "source": [
    "# Q15"
   ]
  },
  {
   "cell_type": "code",
   "execution_count": null,
   "id": "9eb39b11-4ece-44d8-bed7-514047b1fe3d",
   "metadata": {},
   "outputs": [],
   "source": [
    "# 1.Open a browser to the Python website and download the Windows installer.\n",
    "# 2.Double click on the downloaded file and install Python for all users, and ensure that Python is added to your path. \n",
    "# Click on Install now to begin. Adding Python to the path will enable us to use the Python interpreter from any part of the filesystem.\n",
    "# 3.After the installation is complete, click Disable path length limit and then Close. Disabling the path length limit means we can use \n",
    "# more than 260 characters in a file path.\n",
    "# 4.Click Close to end the installation."
   ]
  },
  {
   "cell_type": "markdown",
   "id": "9a4f78b7-d586-4fd4-9e4d-51fe06698d3d",
   "metadata": {},
   "source": [
    "# Q16"
   ]
  },
  {
   "cell_type": "code",
   "execution_count": null,
   "id": "a972d080-f6a8-4e40-a545-61a806b6caff",
   "metadata": {},
   "outputs": [],
   "source": [
    "# Yes indentation is required in python."
   ]
  },
  {
   "cell_type": "code",
   "execution_count": null,
   "id": "3ce2fee6-b115-4a45-a943-c0a918aa3f2c",
   "metadata": {},
   "outputs": [],
   "source": []
  }
 ],
 "metadata": {
  "kernelspec": {
   "display_name": "Python 3 (ipykernel)",
   "language": "python",
   "name": "python3"
  },
  "language_info": {
   "codemirror_mode": {
    "name": "ipython",
    "version": 3
   },
   "file_extension": ".py",
   "mimetype": "text/x-python",
   "name": "python",
   "nbconvert_exporter": "python",
   "pygments_lexer": "ipython3",
   "version": "3.10.8"
  }
 },
 "nbformat": 4,
 "nbformat_minor": 5
}
