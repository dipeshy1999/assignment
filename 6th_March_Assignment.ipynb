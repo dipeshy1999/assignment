{
 "cells": [
  {
   "cell_type": "markdown",
   "id": "3a7a2597-050e-4d0e-8a4f-758eab2af140",
   "metadata": {},
   "source": [
    "# Q1"
   ]
  },
  {
   "cell_type": "code",
   "execution_count": null,
   "id": "a51d4f3e-f0d5-45f6-b20c-999391b6b8e5",
   "metadata": {},
   "outputs": [],
   "source": [
    "# Statistics is the discipline that concerns the collection, organization, analysis, interpretation, and presentation of data. \n",
    "# In applying statistics to a scientific, industrial, or social problem, it is conventional to begin with a statistical population or\n",
    "# a statistical model to be studied. "
   ]
  },
  {
   "cell_type": "markdown",
   "id": "395e85b6-7bb2-47f8-8eb8-db16aebed470",
   "metadata": {},
   "source": [
    "# Q2"
   ]
  },
  {
   "cell_type": "markdown",
   "id": "8c2f8cf4-c0bd-4dd0-b371-ef2969a3a8b3",
   "metadata": {},
   "source": [
    "# (i)"
   ]
  },
  {
   "cell_type": "code",
   "execution_count": null,
   "id": "e00ed0ba-782f-405e-a159-ece70cad35f3",
   "metadata": {},
   "outputs": [],
   "source": [
    "# Descriptive statistics is a way to organise, represent and describe a collection of data using tables, graphs, and summary measures.\n",
    "# For example, the collection of people in a city using the internet or using Television."
   ]
  },
  {
   "cell_type": "code",
   "execution_count": null,
   "id": "ff994173-4886-4096-bcb1-e0a0dfd317d0",
   "metadata": {},
   "outputs": [],
   "source": [
    "# The frequency measurement displays the number of times a particular data occurs. Range, Variance, Standard Deviation are measures of dispersion. \n",
    "# It identifies the spread of data. Central tendencies are the mean, median and mode of the data. And the measure of position describes the \n",
    "# percentile and quartile ranks."
   ]
  },
  {
   "cell_type": "markdown",
   "id": "8a831c15-ef19-48c6-9771-66b881ab2f9d",
   "metadata": {},
   "source": [
    "# (ii)"
   ]
  },
  {
   "cell_type": "markdown",
   "id": "d2d8be7a-2378-41fa-b811-7b09f642d16a",
   "metadata": {},
   "source": [
    "# Descriptive "
   ]
  },
  {
   "cell_type": "code",
   "execution_count": null,
   "id": "df94da5c-2d08-4f97-bc67-5a3112d6d110",
   "metadata": {},
   "outputs": [],
   "source": [
    "# This type of statistics is used to interpret the meaning of Descriptive statistics. That means once the data has been collected, analysed and \n",
    "# summarised then we use these stats to describe the meaning of the collected data. Or we can say, it is used to draw conclusions from the data \n",
    "# that depends on random variations such as observational errors, sampling variation, etc."
   ]
  },
  {
   "cell_type": "markdown",
   "id": "90d20988-a54a-416e-912f-610ce900c4be",
   "metadata": {},
   "source": [
    "# Inferential "
   ]
  },
  {
   "cell_type": "code",
   "execution_count": null,
   "id": "25c94548-cbdf-4b21-985b-c368bbc9e43e",
   "metadata": {},
   "outputs": [],
   "source": [
    "# Inferential Statistics is a method that allows us to use information collected from a sample to make decisions, predictions or inferences from \n",
    "# a population. It grants us permission to give statements that goes beyond the available data or information. For example, deriving estimates \n",
    "# from hypothetical research."
   ]
  },
  {
   "cell_type": "markdown",
   "id": "329e8096-42c0-4991-a883-4b2e2eafbf27",
   "metadata": {},
   "source": [
    "# Q3"
   ]
  },
  {
   "cell_type": "markdown",
   "id": "51eb0709-d678-4781-8c75-4768d78252ce",
   "metadata": {},
   "source": [
    "# Quantitative "
   ]
  },
  {
   "cell_type": "code",
   "execution_count": null,
   "id": "6e380f07-5424-4afc-ad91-d585aeede383",
   "metadata": {},
   "outputs": [],
   "source": [
    "# It is basically numerical data"
   ]
  },
  {
   "cell_type": "markdown",
   "id": "2d91fbe5-8079-46a5-b7e3-f902b5824a83",
   "metadata": {},
   "source": [
    "# Discrete"
   ]
  },
  {
   "cell_type": "code",
   "execution_count": null,
   "id": "bd68fd5f-8bdd-4472-85cc-86aceb045b1d",
   "metadata": {},
   "outputs": [],
   "source": [
    "# Only whole number data is used here\n",
    "# Number of children a person has"
   ]
  },
  {
   "cell_type": "markdown",
   "id": "295004ca-8cbc-41b7-ae2b-d279d7e22027",
   "metadata": {},
   "source": [
    "# Continuous "
   ]
  },
  {
   "cell_type": "code",
   "execution_count": null,
   "id": "c5edbcce-1325-4977-b8cd-cc9f45381e5d",
   "metadata": {},
   "outputs": [],
   "source": [
    "# It can have decimal values and whole number values both\n",
    "# Example :-  Temperature, Weight."
   ]
  },
  {
   "cell_type": "markdown",
   "id": "e9002198-70f8-4659-8d08-5c3da8429a87",
   "metadata": {},
   "source": [
    "# Qualitative"
   ]
  },
  {
   "cell_type": "code",
   "execution_count": null,
   "id": "41fbe50c-46bb-4d9c-9cd6-7f3376929c21",
   "metadata": {},
   "outputs": [],
   "source": [
    "# It ia basically categorical data."
   ]
  },
  {
   "cell_type": "markdown",
   "id": "0b371e3d-4fef-446a-b8dd-84b53a8f6943",
   "metadata": {},
   "source": [
    "# Nominal"
   ]
  },
  {
   "cell_type": "code",
   "execution_count": null,
   "id": "2b5e5891-28fd-4104-bb5e-a87107ae33e2",
   "metadata": {},
   "outputs": [],
   "source": [
    "# It does not  require ranking."
   ]
  },
  {
   "cell_type": "markdown",
   "id": "ee88f2d3-57a8-40ff-a817-3fe7eb0da767",
   "metadata": {},
   "source": [
    "# Ordinal"
   ]
  },
  {
   "cell_type": "code",
   "execution_count": null,
   "id": "65a6a0a6-105e-40aa-b9c8-dbf09ca84770",
   "metadata": {},
   "outputs": [],
   "source": [
    "# Ranking matters here"
   ]
  },
  {
   "cell_type": "markdown",
   "id": "1629b89f-f257-430d-9222-dc8ce9aad3eb",
   "metadata": {},
   "source": [
    "# Q4"
   ]
  },
  {
   "cell_type": "code",
   "execution_count": null,
   "id": "12a78fe4-9cd7-4567-ba6a-09448b25686a",
   "metadata": {},
   "outputs": [],
   "source": [
    "# (i) Quanlitative\n",
    "# (ii) Quanlitative\n",
    "# (iii) Quantitaive\n",
    "# (iv) Quantitaive"
   ]
  },
  {
   "cell_type": "markdown",
   "id": "3bfbdcc9-b434-435d-a398-214e567cc82d",
   "metadata": {},
   "source": [
    "# Q5"
   ]
  },
  {
   "cell_type": "code",
   "execution_count": null,
   "id": "aba89cf4-203e-419c-a71d-f96ef208543e",
   "metadata": {},
   "outputs": [],
   "source": [
    "# Levels of measurement, also called scales of measurement, tell you how precisely variables are recorded. In scientific research, a variable \n",
    "#is anything that can take on different values across your data set (e.g., height or test scores)."
   ]
  },
  {
   "cell_type": "code",
   "execution_count": null,
   "id": "8abbc769-8dee-4c4e-bdcf-d6166983ffdc",
   "metadata": {},
   "outputs": [],
   "source": [
    "# There are 4 levels of measurement:\n",
    "# Nominal: the data can only be categorized\n",
    "# Ordinal: the data can be categorized and ranked\n",
    "# Interval: the data can be categorized, ranked, and evenly spaced\n",
    "# Ratio: the data can be categorized, ranked, evenly spaced, and has a natural zero."
   ]
  },
  {
   "cell_type": "markdown",
   "id": "9ea6c1ac-66a0-4786-8d3a-cba96877f182",
   "metadata": {},
   "source": [
    "# Q6"
   ]
  },
  {
   "cell_type": "code",
   "execution_count": null,
   "id": "7b754e26-f92b-4f48-ac68-e9ef5c9d2349",
   "metadata": {},
   "outputs": [],
   "source": [
    "# The level of measurement determines the type of statistical analysis that can be conducted, and, therefore, the type of conclusions \n",
    "# that can be drawn from the research."
   ]
  },
  {
   "cell_type": "code",
   "execution_count": null,
   "id": "1d0082e5-9587-4e1a-89be-6662651798b5",
   "metadata": {},
   "outputs": [],
   "source": [
    "# It is imortant to understand the level of measurement becuase it will help us to too do accurate analysis."
   ]
  },
  {
   "cell_type": "markdown",
   "id": "d211ad7d-fc80-4c7f-b758-c746a0497ea9",
   "metadata": {},
   "source": [
    "# Q7"
   ]
  },
  {
   "cell_type": "code",
   "execution_count": null,
   "id": "ad0ebe3e-de47-49d9-a551-047377d7dc83",
   "metadata": {},
   "outputs": [],
   "source": [
    "# Nominal data is classified without a natural order or rank, whereas ordinal data has a predetermined or natural order."
   ]
  },
  {
   "cell_type": "markdown",
   "id": "b106ea29-963b-4717-b0f4-24426820845d",
   "metadata": {},
   "source": [
    "# Q8"
   ]
  },
  {
   "cell_type": "code",
   "execution_count": null,
   "id": "3263fe3a-07e7-4e35-8b34-0ef600e311c1",
   "metadata": {},
   "outputs": [],
   "source": [
    "# Histogram can be used."
   ]
  },
  {
   "cell_type": "markdown",
   "id": "2a959b3d-0f32-400a-8eef-9edc32caea99",
   "metadata": {},
   "source": [
    "# Q9"
   ]
  },
  {
   "cell_type": "markdown",
   "id": "645cf81b-6d8d-4d57-890a-7ee651483f21",
   "metadata": {},
   "source": [
    "# Descriptive"
   ]
  },
  {
   "cell_type": "code",
   "execution_count": null,
   "id": "d359a964-0619-4aff-a136-df4338ef2caa",
   "metadata": {},
   "outputs": [],
   "source": [
    "# It consists of organizing and summarizing the data.\n",
    "# Example - Mean, Mode, Median, Variance etc"
   ]
  },
  {
   "cell_type": "markdown",
   "id": "33204ecc-2018-4a5c-8f10-a7cac798745b",
   "metadata": {},
   "source": [
    "# Inferential "
   ]
  },
  {
   "cell_type": "code",
   "execution_count": null,
   "id": "1fde3a64-4772-43c1-9108-b88f5e2f674f",
   "metadata": {},
   "outputs": [],
   "source": [
    "# It consists of of using the data you have measured to draw the conclusion.\n",
    "# Z - test\n",
    "# t - test\n",
    "# CHI square"
   ]
  },
  {
   "cell_type": "markdown",
   "id": "435cdc28-07c3-4ced-aeac-15070739ecfb",
   "metadata": {},
   "source": [
    "# Q10"
   ]
  },
  {
   "cell_type": "code",
   "execution_count": null,
   "id": "5f4d68e2-70c5-40e2-967f-04fde945a5f0",
   "metadata": {},
   "outputs": [],
   "source": [
    "# The central tendency of the dataset can be found out using the three important measures namely mean, median and mode."
   ]
  },
  {
   "cell_type": "code",
   "execution_count": null,
   "id": "1a16cd39-9855-43be-8c4d-f6724eca85e7",
   "metadata": {},
   "outputs": [],
   "source": [
    "# Mean"
   ]
  },
  {
   "cell_type": "code",
   "execution_count": null,
   "id": "399c9027-291c-43aa-bda8-651d707bc49d",
   "metadata": {},
   "outputs": [],
   "source": [
    "# The mean represents the average value of the dataset. It can be calculated as the sum of all the values in the dataset divided by \n",
    "# the number of values. In general, it is considered as the arithmetic mean"
   ]
  },
  {
   "cell_type": "code",
   "execution_count": null,
   "id": "10c64113-808d-4eed-ae6f-2c3bb81975cc",
   "metadata": {},
   "outputs": [],
   "source": [
    "# Median"
   ]
  },
  {
   "cell_type": "code",
   "execution_count": null,
   "id": "cb2a5206-4499-493e-abf9-b9da81014ced",
   "metadata": {},
   "outputs": [],
   "source": [
    "# Median is the middle value of the dataset in which the dataset is arranged in the ascending order or in descending order.\n",
    "# When the dataset contains an even number of values, then the median value of the dataset can be found by taking the mean \n",
    "# of the middle two values."
   ]
  },
  {
   "cell_type": "code",
   "execution_count": null,
   "id": "460cfca7-0508-46af-8462-d2e08a0717d9",
   "metadata": {},
   "outputs": [],
   "source": [
    "# Mode"
   ]
  },
  {
   "cell_type": "code",
   "execution_count": null,
   "id": "9a2adb90-2191-4c4b-bcd3-47301b6cf45b",
   "metadata": {},
   "outputs": [],
   "source": [
    "# The mode represents the frequently occurring value in the dataset. Sometimes the dataset may contain multiple modes and in some cases,\n",
    "# it does not contain any mode at all."
   ]
  },
  {
   "cell_type": "code",
   "execution_count": null,
   "id": "c2115851-fc53-4c4a-a3bd-f45f337bf312",
   "metadata": {},
   "outputs": [],
   "source": []
  }
 ],
 "metadata": {
  "kernelspec": {
   "display_name": "Python 3 (ipykernel)",
   "language": "python",
   "name": "python3"
  },
  "language_info": {
   "codemirror_mode": {
    "name": "ipython",
    "version": 3
   },
   "file_extension": ".py",
   "mimetype": "text/x-python",
   "name": "python",
   "nbconvert_exporter": "python",
   "pygments_lexer": "ipython3",
   "version": "3.10.8"
  }
 },
 "nbformat": 4,
 "nbformat_minor": 5
}
