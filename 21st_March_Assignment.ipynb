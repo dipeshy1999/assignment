{
 "cells": [
  {
   "cell_type": "markdown",
   "id": "d1717cb9-7f97-4a96-907c-a7ced0c70db5",
   "metadata": {},
   "source": [
    "# Q1"
   ]
  },
  {
   "cell_type": "code",
   "execution_count": null,
   "id": "b4f80b9b-4fec-4c18-af2b-4e86a09c456f",
   "metadata": {},
   "outputs": [],
   "source": [
    "# Ordinal Encoding and Label Encoding are both techniques used to convert categorical variables into numerical representations. \n",
    "# However, there is a fundamental difference between the two:"
   ]
  },
  {
   "cell_type": "code",
   "execution_count": null,
   "id": "0c23fb22-27ec-43d6-a6e7-42fbc9da2c4a",
   "metadata": {},
   "outputs": [],
   "source": [
    "# Ordinal Encoding: In Ordinal Encoding, the categories are assigned numerical labels based on their inherent order or ranking. \n",
    "# The assigned labels preserve the ordinal relationship among the categories. For example, in a feature representing educational \n",
    "# qualifications, \"High School\" can be encoded as 1, \"Bachelor's Degree\" as 2, \"Master's Degree\" as 3, and \"Ph.D.\" as 4. Ordinal \n",
    "# Encoding is suitable when there is an inherent order or hierarchy among the categories."
   ]
  },
  {
   "cell_type": "code",
   "execution_count": null,
   "id": "7b837114-a573-4eaf-b860-cb5a11f36474",
   "metadata": {},
   "outputs": [],
   "source": [
    "# Label Encoding: In Label Encoding (also known as Nominal Encoding), each unique category is assigned a unique numeric label. \n",
    "# The assigned labels do not carry any information about the ordinality or relationship among the categories. For example, in a \n",
    "# feature representing different colors, \"Red\" can be encoded as 1, \"Blue\" as 2, and \"Green\" as 3. Label Encoding is appropriate when \n",
    "# the categories are nominal and do not have a meaningful order."
   ]
  },
  {
   "cell_type": "code",
   "execution_count": null,
   "id": "b40b4170-9d13-4919-a7b1-3e8112b0c7f4",
   "metadata": {},
   "outputs": [],
   "source": [
    "# When to choose one over the other:\n",
    "# The choice between Ordinal Encoding and Label Encoding depends on the characteristics of the categorical variable and the \n",
    "# requirements of the analysis or modeling task:"
   ]
  },
  {
   "cell_type": "code",
   "execution_count": null,
   "id": "6b2cec0b-eb86-42c9-a313-4e9633756c8f",
   "metadata": {},
   "outputs": [],
   "source": [
    "# 1. Ordinal Encoding is preferred when there is a clear order or hierarchy among the categories, and this order is relevant for the \n",
    "# analysis or modeling. It preserves the ordinal relationship, allowing the model to capture the relative positions of the categories. \n",
    "# For example, when encoding satisfaction levels (e.g., \"Low,\" \"Medium,\" \"High\"), Ordinal Encoding would be suitable to reflect the order."
   ]
  },
  {
   "cell_type": "code",
   "execution_count": null,
   "id": "b2f3cf04-bdc2-4db8-9cb4-0c901322e8c3",
   "metadata": {},
   "outputs": [],
   "source": [
    "# 2. Label Encoding is suitable when the categories are nominal and do not have a meaningful order. It assigns numeric labels to each \n",
    "# category without implying any ordinality or hierarchy. Label Encoding is often used for categorical variables where the distinction \n",
    "# between categories is important, but the order or relationship is not relevant. For example, when encoding different types of fruits \n",
    "# (e.g., \"Apple,\" \"Orange,\" \"Banana\"), Label Encoding can be used."
   ]
  },
  {
   "cell_type": "markdown",
   "id": "39dbd6ee-7ee8-4899-8eba-e0d35c64c570",
   "metadata": {},
   "source": [
    "# Q2"
   ]
  },
  {
   "cell_type": "code",
   "execution_count": null,
   "id": "c809d54a-ae01-4885-a41e-6ea03efc98db",
   "metadata": {},
   "outputs": [],
   "source": [
    "# Target Guided Ordinal Encoding is a technique used to encode categorical variables based on the target variable in a supervised \n",
    "# machine learning project. It assigns ordinal labels to the categories, considering the relationship between each category and the \n",
    "# target variable's response rate or mean."
   ]
  },
  {
   "cell_type": "code",
   "execution_count": null,
   "id": "1a955edc-75d4-4df4-86e9-438549df5519",
   "metadata": {},
   "outputs": [],
   "source": [
    "# Here's a step-by-step explanation of how Target Guided Ordinal Encoding works:"
   ]
  },
  {
   "cell_type": "code",
   "execution_count": null,
   "id": "2e700d3b-c60b-4035-8dc1-a6d95d908de7",
   "metadata": {},
   "outputs": [],
   "source": [
    "# 1. Calculate the mean (or response rate) of the target variable for each category in the categorical feature."
   ]
  },
  {
   "cell_type": "code",
   "execution_count": null,
   "id": "2dcc8d38-ddb2-4594-a8d0-1ac836b90d40",
   "metadata": {},
   "outputs": [],
   "source": [
    "# 2. Sort the categories based on their mean (or response rate) in ascending or descending order."
   ]
  },
  {
   "cell_type": "code",
   "execution_count": null,
   "id": "fa9d2266-c347-4e0b-8c5d-1edb04233ffe",
   "metadata": {},
   "outputs": [],
   "source": [
    "# 3. Assign ordinal labels to the categories based on their sorted order. The category with the highest mean (or response rate) receives \n",
    "# the highest label, and the category with the lowest mean (or response rate) receives the lowest label."
   ]
  },
  {
   "cell_type": "code",
   "execution_count": null,
   "id": "79070e8a-6339-4f3f-be35-2b7ed68d8967",
   "metadata": {},
   "outputs": [],
   "source": [
    "# 4. Replace the original categories with their corresponding ordinal labels."
   ]
  },
  {
   "cell_type": "code",
   "execution_count": null,
   "id": "c3670ea5-cab3-4a37-89c8-22ee328b7e49",
   "metadata": {},
   "outputs": [],
   "source": [
    "# Target Guided Ordinal Encoding can be beneficial when there is a clear relationship between the categorical feature and the target \n",
    "# variable. By encoding the categories based on their association with the target, it captures the information about how each category \n",
    "# impacts the target variable's response."
   ]
  },
  {
   "cell_type": "code",
   "execution_count": null,
   "id": "5b0ecba9-9b27-4eeb-9391-13841ef0f274",
   "metadata": {},
   "outputs": [],
   "source": [
    "# Suppose you are working on a project to predict customer churn in a telecom company. One of the categorical features is the \"City\" \n",
    "# in which the customer resides. You want to encode this feature based on its relationship with the churn rate."
   ]
  },
  {
   "cell_type": "code",
   "execution_count": null,
   "id": "4be01340-85af-4a80-bd32-5c73cf752a00",
   "metadata": {},
   "outputs": [],
   "source": [
    "# Calculate the churn rate for each city. For example:\n",
    "\n",
    "# City A: Churn rate = 0.25\n",
    "# City B: Churn rate = 0.10\n",
    "# City C: Churn rate = 0.35\n",
    "# City D: Churn rate = 0.15"
   ]
  },
  {
   "cell_type": "code",
   "execution_count": null,
   "id": "49b16968-6a9e-4ff0-8b1c-6ae3b48381e6",
   "metadata": {},
   "outputs": [],
   "source": [
    "# Sort the cities based on their churn rates in descending order:\n",
    "\n",
    "# City C\n",
    "# City A\n",
    "# City D\n",
    "# City B"
   ]
  },
  {
   "cell_type": "code",
   "execution_count": null,
   "id": "9a4ee4cc-edc6-4bbd-b47c-2e502a6ed8f0",
   "metadata": {},
   "outputs": [],
   "source": [
    "# Assign ordinal labels to the cities based on their sorted order:\n",
    "\n",
    "# City C: Label 1\n",
    "# City A: Label 2\n",
    "# City D: Label 3\n",
    "# City B: Label 4"
   ]
  },
  {
   "cell_type": "code",
   "execution_count": null,
   "id": "5e1f9b59-23a7-45d3-a23d-5de90e8b04df",
   "metadata": {},
   "outputs": [],
   "source": [
    "# Replace the original city names with their corresponding ordinal labels."
   ]
  },
  {
   "cell_type": "markdown",
   "id": "ded0f594-98ea-4738-9369-e1d4705d9282",
   "metadata": {},
   "source": [
    "# Q3"
   ]
  },
  {
   "cell_type": "code",
   "execution_count": null,
   "id": "8211505b-6113-4d06-a22e-eb9c077c263f",
   "metadata": {},
   "outputs": [],
   "source": [
    "# Covariance is a statistical measure that quantifies the relationship between two variables. It indicates the extent to which changes in one \n",
    "# variable are associated with changes in another variable. Specifically, covariance measures how much two variables vary together or move in \n",
    "# relation to each other."
   ]
  },
  {
   "cell_type": "code",
   "execution_count": null,
   "id": "28ac0021-6029-4395-9671-e2abbbafdc04",
   "metadata": {},
   "outputs": [],
   "source": [
    "# The importance of covariance in statistical analysis lies in its ability to provide insights into the linear relationship between variables. \n",
    "# Here are some key points highlighting its significance:"
   ]
  },
  {
   "cell_type": "code",
   "execution_count": null,
   "id": "e34e21a8-5ab4-4773-bc99-6fbfe34bfeee",
   "metadata": {},
   "outputs": [],
   "source": [
    "# 1. Relationship strength: Covariance can indicate whether variables have a positive or negative relationship. A positive covariance suggests \n",
    "# that when one variable increases, the other tends to increase as well. A negative covariance indicates that as one variable increases, the \n",
    "# other tends to decrease."
   ]
  },
  {
   "cell_type": "code",
   "execution_count": null,
   "id": "73fe9fe3-c9e4-4e44-a495-6424e7667590",
   "metadata": {},
   "outputs": [],
   "source": [
    "# 2. Direction of association: Covariance measures the direction of the association between variables. It helps determine whether the variables \n",
    "# move in the same direction or opposite directions."
   ]
  },
  {
   "cell_type": "code",
   "execution_count": null,
   "id": "54f3867d-d56b-440d-8489-bceffeb3293b",
   "metadata": {},
   "outputs": [],
   "source": [
    "# 3. Magnitude of association: Covariance provides a measure of the strength or magnitude of the relationship between variables. Larger covariance \n",
    "# values indicate a stronger association, while smaller values suggest a weaker relationship."
   ]
  },
  {
   "cell_type": "code",
   "execution_count": null,
   "id": "54ca93dc-3394-44c3-ad0d-a656fe8db651",
   "metadata": {},
   "outputs": [],
   "source": [
    "# 4. Identifying patterns: Covariance helps in identifying patterns or trends in data. It provides insights into how changes in one variable are \n",
    "# related to changes in another variable, which can aid in understanding the underlying mechanisms or relationships in the data."
   ]
  },
  {
   "cell_type": "code",
   "execution_count": null,
   "id": "892ae8d9-88db-4f81-a8db-87edc3d76944",
   "metadata": {},
   "outputs": [],
   "source": [
    "# Covariance formula is:"
   ]
  },
  {
   "cell_type": "code",
   "execution_count": null,
   "id": "e7b03a63-ea71-4425-9386-c9839435b982",
   "metadata": {},
   "outputs": [],
   "source": [
    "# cov(X, Y) = Σ[(Xᵢ - μₓ) * (Yᵢ - μᵧ)] / (n - 1)"
   ]
  },
  {
   "cell_type": "code",
   "execution_count": null,
   "id": "3ad83b5f-492e-44ee-b670-cd6160605f16",
   "metadata": {},
   "outputs": [],
   "source": [
    "# X and Y are two variables\n",
    "# Xᵢ and Yᵢ are the individual data points for X and Y, respectively\n",
    "# μₓ and μᵧ are the means of X and Y, respectively\n",
    "# n is the number of data points"
   ]
  },
  {
   "cell_type": "markdown",
   "id": "f228246a-7b79-4dfa-b481-6504723494a2",
   "metadata": {},
   "source": [
    "# Q4"
   ]
  },
  {
   "cell_type": "code",
   "execution_count": 1,
   "id": "b591d31d-01bf-4628-894b-972996224e85",
   "metadata": {},
   "outputs": [
    {
     "name": "stdout",
     "output_type": "stream",
     "text": [
      "Encoded Color: [2 1 0]\n",
      "Encoded Size: [2 1 0]\n",
      "Encoded Material: [2 0 1]\n",
      "Decoded Color: ['wood' 'plastic' 'metal']\n",
      "Decoded Size: ['wood' 'plastic' 'metal']\n",
      "Decoded Material: ['wood' 'metal' 'plastic']\n"
     ]
    }
   ],
   "source": [
    "from sklearn.preprocessing import LabelEncoder\n",
    "\n",
    "# Create the LabelEncoder object\n",
    "label_encoder = LabelEncoder()\n",
    "\n",
    "# Define the categorical variables\n",
    "color = ['red', 'green', 'blue']\n",
    "size = ['small', 'medium', 'large']\n",
    "material = ['wood', 'metal', 'plastic']\n",
    "\n",
    "# Fit and transform the categorical variables using label encoding\n",
    "encoded_color = label_encoder.fit_transform(color)\n",
    "encoded_size = label_encoder.fit_transform(size)\n",
    "encoded_material = label_encoder.fit_transform(material)\n",
    "\n",
    "# Print the encoded values\n",
    "print(\"Encoded Color:\", encoded_color)\n",
    "print(\"Encoded Size:\", encoded_size)\n",
    "print(\"Encoded Material:\", encoded_material)\n",
    "\n",
    "# Print the inverse_transformed values\n",
    "print(\"Decoded Color:\", label_encoder.inverse_transform(encoded_color))\n",
    "print(\"Decoded Size:\", label_encoder.inverse_transform(encoded_size))\n",
    "print(\"Decoded Material:\", label_encoder.inverse_transform(encoded_material))"
   ]
  },
  {
   "cell_type": "markdown",
   "id": "c2b13570-6316-44ae-ad29-9b379237a022",
   "metadata": {},
   "source": [
    "# Q6"
   ]
  },
  {
   "cell_type": "code",
   "execution_count": null,
   "id": "d39d766a-7629-404f-825a-f8d8e43cc825",
   "metadata": {},
   "outputs": [],
   "source": [
    "# 1. Gender (Male/Female):"
   ]
  },
  {
   "cell_type": "code",
   "execution_count": null,
   "id": "a3d96c30-b395-44af-980e-cb1083ad34a3",
   "metadata": {},
   "outputs": [],
   "source": [
    "# One-Hot Encoding: This method creates binary dummy variables for each category, representing the presence or absence of a particular \n",
    "# category. In this case, it would create two binary variables: \"Male\" and \"Female.\" One-hot encoding is useful when there is no ordinal \n",
    "# relationship between categories, and each category is considered equally important. It allows the machine learning algorithm to capture \n",
    "# the differences between categories without imposing any assumptions or biases."
   ]
  },
  {
   "cell_type": "code",
   "execution_count": null,
   "id": "5e63cea7-33b5-4b14-9b68-8c28b999fd5c",
   "metadata": {},
   "outputs": [],
   "source": [
    "# 2. Education Level (High School/Bachelor's/Master's/PhD):"
   ]
  },
  {
   "cell_type": "code",
   "execution_count": null,
   "id": "3eb3ec01-0b60-460d-8d3a-8aedf657103e",
   "metadata": {},
   "outputs": [],
   "source": [
    "# Ordinal Encoding: This method assigns numeric values to each category based on their order or rank. For example, you can assign values \n",
    "# 1, 2, 3, and 4 to High School, Bachelor's, Master's, and PhD, respectively. Ordinal encoding is suitable when there is an inherent order\n",
    "# or hierarchy among the categories. It preserves the ordinal relationship between categories and can be beneficial for certain algorithms\n",
    "# that can utilize the ordinality of the data."
   ]
  },
  {
   "cell_type": "code",
   "execution_count": null,
   "id": "ac3d2041-6267-46bd-bc6c-02af152408ad",
   "metadata": {},
   "outputs": [],
   "source": [
    "# 3. Employment Status (Unemployed/Part-Time/Full-Time):"
   ]
  },
  {
   "cell_type": "code",
   "execution_count": null,
   "id": "062d0c2b-7139-4545-b133-ddd0acd15807",
   "metadata": {},
   "outputs": [],
   "source": [
    "# One-Hot Encoding: Similar to the Gender variable, one-hot encoding can be used for the Employment Status variable. It will create \n",
    "# three binary variables: \"Unemployed,\" \"Part-Time,\" and \"Full-Time.\" Since there is no natural order or hierarchy among these categories, \n",
    "# one-hot encoding is appropriate."
   ]
  },
  {
   "cell_type": "markdown",
   "id": "ea84d828-97da-4d52-9712-3c63542664c0",
   "metadata": {},
   "source": [
    "# Q7"
   ]
  },
  {
   "cell_type": "code",
   "execution_count": null,
   "id": "52e9fb03-0808-46d0-a846-4b3d50eee77e",
   "metadata": {},
   "outputs": [],
   "source": [
    "# To calculate the covariance between each pair of variables in your dataset (\"Temperature,\" \"Humidity,\" \"Weather Condition,\" and \"Wind \n",
    "# Direction\"), it's important to note that covariance is typically calculated between two continuous variables. Since \"Weather Condition\" \n",
    "# and \"Wind Direction\" are categorical variables, covariance cannot be directly calculated between them and the continuous variables. \n",
    "# However, you can calculate the covariance between the two continuous variables, \"Temperature\" and \"Humidity.\" Here's how to do it:"
   ]
  },
  {
   "cell_type": "code",
   "execution_count": null,
   "id": "cdefd205-ce70-435f-87fa-d1c57b258b73",
   "metadata": {},
   "outputs": [],
   "source": [
    "# 1.Calculate the mean of \"Temperature\" and \"Humidity\" from your dataset."
   ]
  },
  {
   "cell_type": "code",
   "execution_count": null,
   "id": "be01e69d-6e8e-4c2c-b8a3-75aed235f7f2",
   "metadata": {},
   "outputs": [],
   "source": [
    "# 2. For each observation, calculate the difference between the \"Temperature\" value and its mean, and the difference between the \n",
    "# \"Humidity\" value and its mean."
   ]
  },
  {
   "cell_type": "code",
   "execution_count": null,
   "id": "e5d15fcc-d609-4ed1-963a-d5ea925846d7",
   "metadata": {},
   "outputs": [],
   "source": [
    "# 3. Multiply these differences for each observation and sum them up."
   ]
  },
  {
   "cell_type": "code",
   "execution_count": null,
   "id": "10b23e48-9f7b-40fa-a4cd-33db2b0b2078",
   "metadata": {},
   "outputs": [],
   "source": [
    "# 4. Divide the sum by the total number of observations in your dataset to obtain the covariance."
   ]
  }
 ],
 "metadata": {
  "kernelspec": {
   "display_name": "Python 3 (ipykernel)",
   "language": "python",
   "name": "python3"
  },
  "language_info": {
   "codemirror_mode": {
    "name": "ipython",
    "version": 3
   },
   "file_extension": ".py",
   "mimetype": "text/x-python",
   "name": "python",
   "nbconvert_exporter": "python",
   "pygments_lexer": "ipython3",
   "version": "3.10.8"
  }
 },
 "nbformat": 4,
 "nbformat_minor": 5
}
