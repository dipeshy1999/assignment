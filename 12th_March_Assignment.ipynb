{
 "cells": [
  {
   "cell_type": "markdown",
   "id": "bf087960-a707-4936-858f-78bea7edec4d",
   "metadata": {},
   "source": [
    "# Q1"
   ]
  },
  {
   "cell_type": "code",
   "execution_count": 15,
   "id": "1e73e7d5-56d8-41d5-814c-f4f0ebf1d6db",
   "metadata": {},
   "outputs": [
    {
     "name": "stdout",
     "output_type": "stream",
     "text": [
      "95% Confidence Interval: (49.00789152424566, 50.99210847575434)\n"
     ]
    }
   ],
   "source": [
    "import scipy.stats as stats\n",
    "\n",
    "sample_mean = 50\n",
    "sample_std = 5\n",
    "sample_size = 100\n",
    "\n",
    "confidence_level = 0.95\n",
    "\n",
    "margin_of_error = stats.t.ppf((1 + confidence_level) / 2, df=sample_size-1) * (sample_std / (sample_size ** 0.5))\n",
    "confidence_interval = (sample_mean - margin_of_error, sample_mean + margin_of_error)\n",
    "\n",
    "print(\"95% Confidence Interval:\", confidence_interval)"
   ]
  },
  {
   "cell_type": "markdown",
   "id": "617e2a6c-3291-4d8d-8000-c7b365a107ad",
   "metadata": {},
   "source": [
    "# Q2"
   ]
  },
  {
   "cell_type": "code",
   "execution_count": 16,
   "id": "d850634b-0e2e-48d1-8e4a-9b042efc9dc0",
   "metadata": {},
   "outputs": [],
   "source": [
    "import scipy.stats as stat"
   ]
  },
  {
   "cell_type": "code",
   "execution_count": 6,
   "id": "d9b06943-cde0-4152-8801-47c95168b53f",
   "metadata": {},
   "outputs": [],
   "source": [
    "# Let total number of balls =  100"
   ]
  },
  {
   "cell_type": "code",
   "execution_count": 17,
   "id": "6eb2b2e9-4cda-4642-b759-a0bd85c0f4fd",
   "metadata": {},
   "outputs": [],
   "source": [
    "# Blue,Orange,Green,Yellow,Red,Brown\n",
    "expected_data = [20,20,20,10,10,20,]\n",
    "observed_data = [18,22,25,5,15,15]"
   ]
  },
  {
   "cell_type": "code",
   "execution_count": 18,
   "id": "fa3ffc8b-f252-4425-8054-6f019ee53494",
   "metadata": {},
   "outputs": [],
   "source": [
    "chisquare_test_statistic,p_value = stat.chisquare(observed_data,expected_data)"
   ]
  },
  {
   "cell_type": "code",
   "execution_count": 19,
   "id": "f8d35ca6-d07c-4d83-bdab-40af6d97c2d5",
   "metadata": {},
   "outputs": [
    {
     "data": {
      "text/plain": [
       "(7.9, 0.16183361839504742)"
      ]
     },
     "execution_count": 19,
     "metadata": {},
     "output_type": "execute_result"
    }
   ],
   "source": [
    "chisquare_test_statistic,p_value"
   ]
  },
  {
   "cell_type": "code",
   "execution_count": 20,
   "id": "9e8ba7f6-a135-426a-8b81-8a205ed7d077",
   "metadata": {},
   "outputs": [
    {
     "name": "stdout",
     "output_type": "stream",
     "text": [
      "5\n"
     ]
    },
    {
     "data": {
      "text/plain": [
       "11.070497693516351"
      ]
     },
     "execution_count": 20,
     "metadata": {},
     "output_type": "execute_result"
    }
   ],
   "source": [
    "significance_value = 0.05\n",
    "dof = len(expected_data)-1\n",
    "print(dof)\n",
    "critical_value = stat.chi2.ppf(1-significance_value,dof)\n",
    "critical_value"
   ]
  },
  {
   "cell_type": "code",
   "execution_count": 21,
   "id": "a3043b45-23ad-40d8-aa3c-53a27cf169f7",
   "metadata": {},
   "outputs": [
    {
     "name": "stdout",
     "output_type": "stream",
     "text": [
      "Accept the NULL hypothesis\n"
     ]
    }
   ],
   "source": [
    "if chisquare_test_statistic > critical_value:\n",
    "    print(\"Reject the NULL hypothesis\")\n",
    "else:\n",
    "    print(\"Accept the NULL hypothesis\")"
   ]
  },
  {
   "cell_type": "markdown",
   "id": "87ee69bd-3533-47a2-8249-87627d988245",
   "metadata": {},
   "source": [
    "# Q3"
   ]
  },
  {
   "cell_type": "code",
   "execution_count": 22,
   "id": "a8754440-0df9-464a-a26e-e88b83073477",
   "metadata": {},
   "outputs": [
    {
     "name": "stdout",
     "output_type": "stream",
     "text": [
      "p value is 1.7869110594388166e-36\n",
      "Dependent (reject H0)\n"
     ]
    }
   ],
   "source": [
    "from scipy.stats import chi2_contingency\n",
    "\n",
    "# defining the table\n",
    "data = [[20, 282, 241], [234, 242, 232]]\n",
    "stat, p, dof, expected = chi2_contingency(data)\n",
    "\n",
    "# interpret p-value\n",
    "alpha = 0.05\n",
    "print(\"p value is \" + str(p))\n",
    "if p <= alpha:\n",
    "\tprint('Dependent (reject H0)')\n",
    "else:\n",
    "\tprint('Independent (H0 holds true)')"
   ]
  },
  {
   "cell_type": "markdown",
   "id": "7ab514ec-65fa-4ca6-a416-be6e159c819f",
   "metadata": {},
   "source": [
    "# Q4"
   ]
  },
  {
   "cell_type": "code",
   "execution_count": 23,
   "id": "8ea237fe-c1c2-4feb-89d2-e3c81803109f",
   "metadata": {},
   "outputs": [
    {
     "name": "stdout",
     "output_type": "stream",
     "text": [
      "95% Confidence Interval: (0.09151638887130707, 0.1484836111286929)\n"
     ]
    }
   ],
   "source": [
    "import statsmodels.stats.proportion as proportion\n",
    "\n",
    "sample_size = 500\n",
    "smokers = 60\n",
    "\n",
    "confidence_level = 0.95\n",
    "\n",
    "confidence_interval = proportion.proportion_confint(smokers, sample_size, alpha=1-confidence_level)\n",
    "\n",
    "print(\"95% Confidence Interval:\", confidence_interval)"
   ]
  },
  {
   "cell_type": "markdown",
   "id": "6bc40338-6439-4153-b961-539c676aa803",
   "metadata": {},
   "source": [
    "# Q5"
   ]
  },
  {
   "cell_type": "code",
   "execution_count": 24,
   "id": "2c1a0df8-b56e-4aaa-a9c8-586efd958a0c",
   "metadata": {},
   "outputs": [
    {
     "name": "stdout",
     "output_type": "stream",
     "text": [
      "90% Confidence Interval: (73.00753061280433, 76.99246938719567)\n"
     ]
    }
   ],
   "source": [
    "import scipy.stats as stats\n",
    "\n",
    "sample_mean = 75\n",
    "sample_std = 12\n",
    "sample_size = 100\n",
    "\n",
    "confidence_level = 0.90\n",
    "\n",
    "margin_of_error = stats.t.ppf((1 + confidence_level) / 2, df=sample_size-1) * (sample_std / (sample_size ** 0.5))\n",
    "confidence_interval = (sample_mean - margin_of_error, sample_mean + margin_of_error)\n",
    "\n",
    "print(\"90% Confidence Interval:\", confidence_interval)"
   ]
  },
  {
   "cell_type": "markdown",
   "id": "2cd08c18-45cc-4004-b250-bfe5a2ab3c5b",
   "metadata": {},
   "source": [
    "# Q6"
   ]
  },
  {
   "cell_type": "code",
   "execution_count": 25,
   "id": "4f69f4fb-931f-447f-8443-189eceb351c1",
   "metadata": {},
   "outputs": [
    {
     "data": {
      "image/png": "[encoded data removed]",
      "text/plain": [
       "<Figure size 640x480 with 1 Axes>"
      ]
     },
     "metadata": {},
     "output_type": "display_data"
    }
   ],
   "source": [
    "import numpy as np\n",
    "import matplotlib.pyplot as plt\n",
    "import scipy.stats as stats\n",
    "\n",
    "df = 10  # Degrees of freedom\n",
    "x = np.linspace(0, 30, 1000)  # Range of chi-square values\n",
    "\n",
    "# Plot the chi-square distribution\n",
    "plt.plot(x, stats.chi2.pdf(x, df))\n",
    "\n",
    "# Shade the area corresponding to a chi-square statistic of 15\n",
    "x_shade = np.linspace(15, 30, 1000)\n",
    "y_shade = stats.chi2.pdf(x_shade, df)\n",
    "plt.fill_between(x_shade, y_shade, color='gray', alpha=0.5)\n",
    "\n",
    "# Set the x and y axis labels\n",
    "plt.xlabel('Chi-square Value')\n",
    "plt.ylabel('Probability Density')\n",
    "\n",
    "# Set the title\n",
    "plt.title('Chi-square Distribution (df = 10)')\n",
    "\n",
    "# Show the plot\n",
    "plt.show()"
   ]
  },
  {
   "cell_type": "markdown",
   "id": "477eaf15-cb89-4712-83cb-0549918acd7a",
   "metadata": {},
   "source": [
    "# Q7"
   ]
  },
  {
   "cell_type": "code",
   "execution_count": 26,
   "id": "69a360f7-cc1c-44aa-ac9a-a530502d3186",
   "metadata": {},
   "outputs": [
    {
     "name": "stdout",
     "output_type": "stream",
     "text": [
      "99% Confidence Interval: (0.4793051576779699, 0.5606948423220302)\n"
     ]
    }
   ],
   "source": [
    "import statsmodels.stats.proportion as proportion\n",
    "\n",
    "sample_size = 1000\n",
    "coke_preferred = 520\n",
    "\n",
    "confidence_level = 0.99\n",
    "\n",
    "confidence_interval = proportion.proportion_confint(coke_preferred, sample_size, alpha=1-confidence_level)\n",
    "\n",
    "print(\"99% Confidence Interval:\", confidence_interval)"
   ]
  },
  {
   "cell_type": "markdown",
   "id": "b54f05e0-fe3b-431f-85a5-42eddfc61f57",
   "metadata": {},
   "source": [
    "# Q8"
   ]
  },
  {
   "cell_type": "code",
   "execution_count": 27,
   "id": "976fb614-1a1d-4076-8747-f5efaceacc0d",
   "metadata": {},
   "outputs": [
    {
     "data": {
      "text/plain": [
       "(1.0, 0.31731050786291115)"
      ]
     },
     "execution_count": 27,
     "metadata": {},
     "output_type": "execute_result"
    }
   ],
   "source": [
    "import scipy.stats  as stats\n",
    "expected_data = [50,50]\n",
    "observed_data = [45,55]\n",
    "chisquare_test_statistic,p_value = stats.chisquare(observed_data,expected_data)\n",
    "chisquare_test_statistic,p_value"
   ]
  },
  {
   "cell_type": "code",
   "execution_count": 29,
   "id": "664ba928-e436-4b4b-b901-cf57d1d49dfd",
   "metadata": {},
   "outputs": [
    {
     "name": "stdout",
     "output_type": "stream",
     "text": [
      "1\n"
     ]
    },
    {
     "data": {
      "text/plain": [
       "3.841458820694124"
      ]
     },
     "execution_count": 29,
     "metadata": {},
     "output_type": "execute_result"
    }
   ],
   "source": [
    "significance_value = 0.05\n",
    "dof = len(expected_data)-1\n",
    "print(dof)\n",
    "critical_value = stats.chi2.ppf(1-significance_value,dof)\n",
    "critical_value"
   ]
  },
  {
   "cell_type": "code",
   "execution_count": 31,
   "id": "4dd45b2a-ff3b-4ceb-bf2a-9359842c2df7",
   "metadata": {},
   "outputs": [
    {
     "name": "stdout",
     "output_type": "stream",
     "text": [
      "Accept the NULL hypothesis\n"
     ]
    }
   ],
   "source": [
    "# NULL Hypothesis : Coin is baised towards TAIL\n",
    "# Alternate Hypothesis : Coin is equally biased\n",
    "if chisquare_test_statistic > critical_value:\n",
    "    print(\"Reject the NULL hypothesis\")\n",
    "else:\n",
    "    print(\"Accept the NULL hypothesis\")"
   ]
  },
  {
   "cell_type": "markdown",
   "id": "6d4486ee-bc06-4064-b78c-1b24fa53e327",
   "metadata": {},
   "source": [
    "# Q9"
   ]
  },
  {
   "cell_type": "code",
   "execution_count": 1,
   "id": "7e438b93-c693-4299-92a1-7d0cd855e300",
   "metadata": {},
   "outputs": [
    {
     "name": "stdout",
     "output_type": "stream",
     "text": [
      "p value is 1.0\n",
      "Independent (H0 holds true)\n"
     ]
    }
   ],
   "source": [
    "from scipy.stats import chi2_contingency\n",
    "# H0: There is no significant association between smoker status and lung cancer diagnosis\n",
    "# H1: There is significant association between smoker status and lung cancer diagnosis\n",
    "# defining the table\n",
    "data = [[60,140],[30,70]]\n",
    "stat, p, dof, expected = chi2_contingency(data)\n",
    "\n",
    "# interpret p-value\n",
    "alpha = 0.05\n",
    "print(\"p value is \" + str(p))\n",
    "if p <= alpha:\n",
    "\tprint('Dependent (reject H0)')\n",
    "else:\n",
    "\tprint('Independent (H0 holds true)')"
   ]
  },
  {
   "cell_type": "code",
   "execution_count": null,
   "id": "d893646b-dab9-4dfe-ad0f-d1a903b00b99",
   "metadata": {},
   "outputs": [],
   "source": [
    "# Conclusion - There is association between smoker status and lung cancer diagnosis"
   ]
  },
  {
   "cell_type": "markdown",
   "id": "01c236c2-88b9-4e30-8095-933a5d231f96",
   "metadata": {},
   "source": [
    "# Q10"
   ]
  },
  {
   "cell_type": "code",
   "execution_count": 2,
   "id": "0daf1234-2c63-44eb-8748-ff4dbee2312b",
   "metadata": {},
   "outputs": [
    {
     "name": "stdout",
     "output_type": "stream",
     "text": [
      "p value is 0.0012348168997745918\n",
      "Dependent (reject H0)\n"
     ]
    }
   ],
   "source": [
    "from scipy.stats import chi2_contingency\n",
    "# H0: There is no significant association between chocolate preference and country of origin.\n",
    "# H1: There is significant association between chocolate preference and country of origin.\n",
    "# defining the table\n",
    "data = [[200,150,150],[225,175,100]]\n",
    "stat, p, dof, expected = chi2_contingency(data)\n",
    "\n",
    "# interpret p-value\n",
    "alpha = 0.01\n",
    "print(\"p value is \" + str(p))\n",
    "if p <= alpha:\n",
    "\tprint('Dependent (reject H0)')\n",
    "else:\n",
    "\tprint('Independent (H0 holds true)')"
   ]
  },
  {
   "cell_type": "code",
   "execution_count": null,
   "id": "070ba9dc-8c14-42d4-9b89-eae0ab12c302",
   "metadata": {},
   "outputs": [],
   "source": [
    "# Conclusion - There is significant association between chocolate preference and country of origin."
   ]
  },
  {
   "cell_type": "markdown",
   "id": "831f1387-6211-4771-87a9-a0c0acc68f5d",
   "metadata": {},
   "source": [
    "# Q11"
   ]
  },
  {
   "cell_type": "code",
   "execution_count": 5,
   "id": "d59b0738-f196-4eee-bacc-28ea69b9ee33",
   "metadata": {},
   "outputs": [
    {
     "name": "stdout",
     "output_type": "stream",
     "text": [
      "Fail to reject the null hypothesis. The population mean is not significantly different from 70.\n"
     ]
    },
    {
     "name": "stderr",
     "output_type": "stream",
     "text": [
      "/tmp/ipykernel_168/1165378298.py:10: RuntimeWarning: Precision loss occurred in moment calculation due to catastrophic cancellation. This occurs when the data are nearly identical. Results may be unreliable.\n",
      "  t_statistic, p_value = stats.ttest_1samp(sample_mean,population_mean)\n"
     ]
    }
   ],
   "source": [
    "# Null hypothesis (H0): The population mean (μ) is equal to 70.\n",
    "# Alternative hypothesis (H1): The population mean (μ) is not equal to 70.\n",
    "# The significance level is given as 0.05.\n",
    "# t = (sample mean - hypothesized mean) / (sample standard deviation / sqrt(sample size))\n",
    "# t = (72 - 70) / (10 / sqrt(30))\n",
    "# t ≈ 0.632"
   ]
  },
  {
   "cell_type": "code",
   "execution_count": null,
   "id": "e8fac31b-9eb5-4afc-b37b-58ab213435e4",
   "metadata": {},
   "outputs": [],
   "source": [
    "# Since the alternative hypothesis is two-sided (μ is not equal to 70), we need to find the critical values from the t-distribution. \n",
    "# With a significance level of 0.05 and 30 degrees of freedom (n - 1), the critical values are approximately ±2.045."
   ]
  },
  {
   "cell_type": "code",
   "execution_count": null,
   "id": "eff2f955-74fb-439e-8d8f-569652ed77f6",
   "metadata": {},
   "outputs": [],
   "source": [
    "# If the test statistic falls within the critical region (i.e., its absolute value is greater than the critical value), we reject the null hypothesis. Otherwise, we fail to reject the null hypothesis.\n",
    "\n",
    "In this case, the absolute value of the test statistic, 0.632, is less than the critical value of 2.045."
   ]
  }
 ],
 "metadata": {
  "kernelspec": {
   "display_name": "Python 3 (ipykernel)",
   "language": "python",
   "name": "python3"
  },
  "language_info": {
   "codemirror_mode": {
    "name": "ipython",
    "version": 3
   },
   "file_extension": ".py",
   "mimetype": "text/x-python",
   "name": "python",
   "nbconvert_exporter": "python",
   "pygments_lexer": "ipython3",
   "version": "3.10.8"
  }
 },
 "nbformat": 4,
 "nbformat_minor": 5
}
