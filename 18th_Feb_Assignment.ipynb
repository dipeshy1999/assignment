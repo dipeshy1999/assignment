{
 "cells": [
  {
   "cell_type": "markdown",
   "id": "1d3b2195-7fb7-4750-8cfb-3e46ca850a3c",
   "metadata": {},
   "source": [
    "# Q1"
   ]
  },
  {
   "cell_type": "code",
   "execution_count": null,
   "id": "1fb491af-3c9b-4b1f-baca-a74ae924d107",
   "metadata": {},
   "outputs": [],
   "source": [
    "# API stands for application programming interface, which is a set of definitions and protocols for building and integrating application software."
   ]
  },
  {
   "cell_type": "code",
   "execution_count": null,
   "id": "0ffb491e-038d-4e2f-9d5b-ed110e5d7c48",
   "metadata": {},
   "outputs": [],
   "source": [
    "# oogle Search, Apple's Weather app, and even your smart home device."
   ]
  },
  {
   "cell_type": "markdown",
   "id": "b5f48a46-2698-4694-ae76-716a7b02acb4",
   "metadata": {},
   "source": [
    "# Q2"
   ]
  },
  {
   "cell_type": "markdown",
   "id": "41ab39e6-a8cf-4c37-b6d1-befb225b8d7e",
   "metadata": {},
   "source": [
    "# Advantages"
   ]
  },
  {
   "cell_type": "code",
   "execution_count": null,
   "id": "6e448c2e-edfa-4e1b-96d0-72c032f05f8e",
   "metadata": {},
   "outputs": [],
   "source": [
    "# Increased Interoperability: API solutions enable different software systems to communicate with each other, regardless of their programming \n",
    "# language or platform. This enhances the interoperability between systems, allowing for the exchange of data and functionality."
   ]
  },
  {
   "cell_type": "code",
   "execution_count": null,
   "id": "01508ef3-858a-41c5-aae4-2bb96a29d9d1",
   "metadata": {},
   "outputs": [],
   "source": [
    "# Improved Efficiency: API driven infrastructures enable developers to reuse code and functionality from existing software systems, saving time \n",
    "# and reducing the amount of code that needs to be written from scratch."
   ]
  },
  {
   "cell_type": "code",
   "execution_count": null,
   "id": "6578472e-e17e-40bb-afb1-43c037fb5554",
   "metadata": {},
   "outputs": [],
   "source": [
    "# Better User Experience: APIs can enable third-party developers to create applications that integrate with existing software systems, providing \n",
    "# a better user experience and increased functionality."
   ]
  },
  {
   "cell_type": "code",
   "execution_count": null,
   "id": "6d0fe312-46e9-4c33-a7e8-feb8bfe7a72f",
   "metadata": {},
   "outputs": [],
   "source": [
    "# Increased Flexibility: APIs provide developers with greater flexibility, enabling them to choose the best programming languages and frameworks \n",
    "# for their needs."
   ]
  },
  {
   "cell_type": "code",
   "execution_count": null,
   "id": "8e610aba-8673-4bbc-b4bf-f241d54e8f36",
   "metadata": {},
   "outputs": [],
   "source": [
    "# New Revenue Streams: APIs can enable companies to create new revenue streams by providing third-party developers with access to their software\n",
    "# systems."
   ]
  },
  {
   "cell_type": "markdown",
   "id": "af39aaa5-9e00-479c-bdc5-af5a5e146d00",
   "metadata": {},
   "source": [
    "# Disadvantages"
   ]
  },
  {
   "cell_type": "code",
   "execution_count": null,
   "id": "d9f4bb3f-f27a-4115-8a2b-53cedcd45b51",
   "metadata": {},
   "outputs": [],
   "source": [
    "# Security Concerns: API infrastructures can be vulnerable to security breaches, such as SQL injection attacks and cross-site scripting (XSS)\n",
    "# attacks, making it crucial to implement security measures to protect against these threats."
   ]
  },
  {
   "cell_type": "code",
   "execution_count": null,
   "id": "3ed02b70-171c-4839-bcf6-39ebbc2b6838",
   "metadata": {},
   "outputs": [],
   "source": [
    "# Complexity: APIs can be complex, requiring a significant amount of development effort to implement and maintain."
   ]
  },
  {
   "cell_type": "code",
   "execution_count": null,
   "id": "4932a20b-c09d-4df0-8dca-3c243d041ddd",
   "metadata": {},
   "outputs": [],
   "source": [
    "# Compatibility Issues: APIs can have compatibility issues between different versions of the same software system or between different systems, \n",
    "# which can lead to errors and system failures."
   ]
  },
  {
   "cell_type": "code",
   "execution_count": null,
   "id": "59c820bb-5a4a-4166-89bd-b9c20cbaa0cd",
   "metadata": {},
   "outputs": [],
   "source": [
    "# Dependency on Third-Party Developers: APIs rely on third-party developers to create applications that integrate with the software system. \n",
    "# This can create dependencies that are outside of the control of the company that owns the software system."
   ]
  },
  {
   "cell_type": "code",
   "execution_count": null,
   "id": "7f715d32-dfd4-4f02-bbf4-b7a06a2da5b9",
   "metadata": {},
   "outputs": [],
   "source": [
    "# Governance and Management: APIs require proper governance and management to ensure they are being used correctly and consistently across\n",
    "# different applications and systems."
   ]
  },
  {
   "cell_type": "markdown",
   "id": "a857e365-010d-43db-94eb-106111449797",
   "metadata": {},
   "source": [
    "# Q3"
   ]
  },
  {
   "cell_type": "code",
   "execution_count": null,
   "id": "e56d4996-15bd-49ae-82ae-35b8ca791e15",
   "metadata": {},
   "outputs": [],
   "source": [
    "# A web API is an application programming interface for either a web server or a web browser. As a web development concept, \n",
    "# it can be related to a web application's client side"
   ]
  },
  {
   "cell_type": "code",
   "execution_count": null,
   "id": "3ea1013c-e426-4e8a-88ff-ac31c6c49d0d",
   "metadata": {},
   "outputs": [],
   "source": [
    "# API is some kind of interface which has a set of functions that allow programmers to access specific features or data of an application, \n",
    "# operating system or other services."
   ]
  },
  {
   "cell_type": "code",
   "execution_count": null,
   "id": "be1d1060-5779-41b7-8240-d9f00e06a3c0",
   "metadata": {},
   "outputs": [],
   "source": [
    "# Web API as the name suggests, is an API over the web which can be accessed using HTTP protocol. It is a concept and not a technology. \n",
    "# We can build Web API using different technologies such as Java, .NET etc. "
   ]
  },
  {
   "cell_type": "markdown",
   "id": "8ad7fbba-a48f-4529-86d8-9c43415480fb",
   "metadata": {},
   "source": [
    "# Q4"
   ]
  },
  {
   "cell_type": "code",
   "execution_count": null,
   "id": "8e3aca95-5600-43af-ad54-3606584bbb84",
   "metadata": {},
   "outputs": [],
   "source": [
    "# REST stands for REpresentational State Transfer and API stands for Application Program Interface. REST is a software architectural style \n",
    "# that defines the set of rules to be used for creating web services. Web services which follow the REST architectural style are known as RESTful\n",
    "# web services. It allows requesting systems to access and manipulate web resources by using a uniform and predefined set of rules. Interaction in\n",
    "# REST based systems happen through Internet’s Hypertext Transfer Protocol (HTTP)."
   ]
  },
  {
   "cell_type": "code",
   "execution_count": null,
   "id": "69cd02b7-f91b-491c-97cd-2dc45242b078",
   "metadata": {},
   "outputs": [],
   "source": [
    "# SOAP is a protocol for the exchange of information in a distributed environment. SOAP messages are encoded as XML documents and can be \n",
    "# exchanged using various underlying protocols.\n",
    "# Formerly an acronym for Simple Object Access Protocol, SOAP is developed by the World Wide Web Consortium (W3C), and is defined in the \n",
    "# following documents issued by W3C. Consult these documents for complete, and authoritative, information about SOAP."
   ]
  },
  {
   "cell_type": "markdown",
   "id": "15a36f57-d340-4123-ae2d-df21b1f6a2f0",
   "metadata": {},
   "source": [
    "# Q5"
   ]
  },
  {
   "cell_type": "code",
   "execution_count": null,
   "id": "7fb99599-b286-4f45-a5f0-fa985412a36a",
   "metadata": {},
   "outputs": [],
   "source": [
    "# SOAP                                                             REST\n",
    "# Relies on SOAP (Simple Object Access Protocol)                   Relies on REST (Representational State Transfer) architecture using HTTP.\n",
    "# Transports data in standard XML format.                          Generally transports data in JSON. It is based on URI. Because REST follows \n",
    "#                                                                  stateless model, REST does not enforces message format as XML or JSON etc\n",
    "# Because it is XML based and relies on SOAP, it works with WSDL   It works with GET, POST, PUT, DELETE\n",
    "# Works over HTTP, HTTPS, SMTP, XMPP                               Works over HTTP and HTTPS\n",
    "# Highly structured/typed                                          Less structured -> less bulky data\n",
    "# Designed with large enterprise applications in mind              Designed with mobile devices in mind"
   ]
  },
  {
   "cell_type": "code",
   "execution_count": null,
   "id": "88711bad-8084-42a0-b1dd-bb49decf1650",
   "metadata": {},
   "outputs": [],
   "source": []
  }
 ],
 "metadata": {
  "kernelspec": {
   "display_name": "Python 3 (ipykernel)",
   "language": "python",
   "name": "python3"
  },
  "language_info": {
   "codemirror_mode": {
    "name": "ipython",
    "version": 3
   },
   "file_extension": ".py",
   "mimetype": "text/x-python",
   "name": "python",
   "nbconvert_exporter": "python",
   "pygments_lexer": "ipython3",
   "version": "3.10.8"
  }
 },
 "nbformat": 4,
 "nbformat_minor": 5
}
